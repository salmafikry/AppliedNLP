{
  "nbformat": 4,
  "nbformat_minor": 0,
  "metadata": {
    "colab": {
      "name": "ANLPassignment.ipynb",
      "provenance": [],
      "collapsed_sections": []
    },
    "kernelspec": {
      "display_name": "Python 3",
      "language": "python",
      "name": "python3"
    },
    "language_info": {
      "codemirror_mode": {
        "name": "ipython",
        "version": 3
      },
      "file_extension": ".py",
      "mimetype": "text/x-python",
      "name": "python",
      "nbconvert_exporter": "python",
      "pygments_lexer": "ipython3",
      "version": "3.7.4"
    }
  },
  "cells": [
    {
      "cell_type": "markdown",
      "metadata": {
        "id": "23Z3pzV0ceh5"
      },
      "source": [
        "# ANLP Assignment (Autumn 2020)\n",
        "\n",
        "For assessment, you are expected to complete and submit this notebook file. When answers require code, you may import and use library functions (unless explicitly told otherwise). All of your own code should be included in the notebook rather than imported from elsewhere. Written answers should also be included in the notebook. You should insert as many extra cells as you want and change the type between code and markdown as appropriate.\n",
        "\n",
        "In order to avoid misconduct, you should not talk about the assignment questions with your peers. If you are not sure what a question is asking you to do or have any other questions, please ask me or one of the Teaching Assistants.\n",
        "\n",
        "Marking guidelines are provided as a separate document.\n",
        "\n",
        "The first few cells contain code to set-up the assignment and bring in some data. In order to provide unique datasets for analysis by different students, you must enter your candidate number in the following cell. Otherwise do not change the code in these cells."
      ]
    },
    {
      "cell_type": "code",
      "metadata": {
        "id": "P5FRYFgGcdYH"
      },
      "source": [
        "candidateno=234722 #this MUST be updated to your candidate number so that you get a unique data sample"
      ],
      "execution_count": 9,
      "outputs": []
    },
    {
      "cell_type": "code",
      "metadata": {
        "colab": {
          "base_uri": "https://localhost:8080/"
        },
        "id": "RWe1DzridJTn",
        "outputId": "3230b871-0a21-42b7-d247-00820d58c97e"
      },
      "source": [
        "#set up drives for resources.  Change the path as necessary\n",
        "\n",
        "from google.colab import drive\n",
        "#mount google drive\n",
        "drive.mount('/content/drive/')\n"
      ],
      "execution_count": 10,
      "outputs": [
        {
          "output_type": "stream",
          "text": [
            "Mounted at /content/drive/\n"
          ],
          "name": "stdout"
        }
      ]
    },
    {
      "cell_type": "code",
      "metadata": {
        "id": "Mnm0MW1PSAdY"
      },
      "source": [
        "import sys\n",
        "sys.path.append('/content/drive/My Drive/Colab Notebooks/resources/')\n"
      ],
      "execution_count": 11,
      "outputs": []
    },
    {
      "cell_type": "code",
      "metadata": {
        "colab": {
          "base_uri": "https://localhost:8080/"
        },
        "id": "udnAzg7gdMmw",
        "outputId": "ea2b79d1-dca8-4593-8525-942063a0a7d9"
      },
      "source": [
        "#do not change the code in this cell\n",
        "#preliminary imports\n",
        "\n",
        "import re\n",
        "import random\n",
        "import math\n",
        "import pandas as pd\n",
        "import matplotlib.pyplot as plt\n",
        "from itertools import zip_longest\n",
        "\n",
        "import nltk\n",
        "nltk.download('punkt')\n",
        "nltk.download('stopwords')\n",
        "nltk.download('wordnet')\n",
        "nltk.download('wordnet_ic')\n",
        "from nltk.tokenize import word_tokenize\n",
        "from nltk.corpus import stopwords\n",
        "from nltk.stem.porter import PorterStemmer\n",
        "from nltk.corpus import wordnet as wn\n",
        "from nltk.corpus import wordnet_ic as wn_ic\n",
        "brown_ic = wn_ic.ic(\"ic-brown.dat\")\n",
        "\n",
        "from sussex_nltk.corpus_readers import AmazonReviewCorpusReader\n",
        "from sussex_nltk.corpus_readers import ReutersCorpusReader"
      ],
      "execution_count": 12,
      "outputs": [
        {
          "output_type": "stream",
          "text": [
            "[nltk_data] Downloading package punkt to /root/nltk_data...\n",
            "[nltk_data]   Unzipping tokenizers/punkt.zip.\n",
            "[nltk_data] Downloading package stopwords to /root/nltk_data...\n",
            "[nltk_data]   Unzipping corpora/stopwords.zip.\n",
            "[nltk_data] Downloading package wordnet to /root/nltk_data...\n",
            "[nltk_data]   Unzipping corpora/wordnet.zip.\n",
            "[nltk_data] Downloading package wordnet_ic to /root/nltk_data...\n",
            "[nltk_data]   Unzipping corpora/wordnet_ic.zip.\n",
            "Sussex NLTK root directory is /content/drive/My Drive/Colab Notebooks/resources\n"
          ],
          "name": "stdout"
        }
      ]
    },
    {
      "cell_type": "markdown",
      "metadata": {
        "id": "2cpSNtF3BFYK"
      },
      "source": [
        "# Question 1: Books vs DVDs\n",
        "\n",
        "In this question, you will be investigating NLP methods for distinguishing reviews written about books from reviews written about DVDs."
      ]
    },
    {
      "cell_type": "code",
      "metadata": {
        "id": "BHBkzAccCVaZ"
      },
      "source": [
        "#do not change the code in this cell\n",
        "def split_data(data, ratio=0.7): # when the second argument is not given, it defaults to 0.7\n",
        "    \"\"\"\n",
        "    Given corpus generator and ratio:\n",
        "     - partitions the corpus into training data and test data, where the proportion in train is ratio,\n",
        "\n",
        "    :param data: A corpus generator.\n",
        "    :param ratio: The proportion of training documents (default 0.7)\n",
        "    :return: a pair (tuple) of lists where the first element of the \n",
        "            pair is a list of the training data and the second is a list of the test data.\n",
        "    \"\"\"\n",
        "    \n",
        "    data = list(data)  \n",
        "    n = len(data)  \n",
        "    train_indices = random.sample(range(n), int(n * ratio))          \n",
        "    test_indices = list(set(range(n)) - set(train_indices))    \n",
        "    train = [data[i] for i in train_indices]           \n",
        "    test = [data[i] for i in test_indices]             \n",
        "    return (train, test)                       \n",
        " \n",
        "\n",
        "def feature_extract(review):\n",
        "    \"\"\"\n",
        "    Generate a feature representation for a review\n",
        "    :param review: AmazonReview object\n",
        "    :return: dictionary of Boolean features\n",
        "    \"\"\"\n",
        "    return {word:True for word in review.words()}\n",
        "\n",
        "def get_training_test_data(categories=('book','dvd'),ratio=0.7,seed=candidateno):\n",
        "    \"\"\"\n",
        "    Get training and test data for a given pair of categories and ratio, pre-formatted for use with NB classifier\n",
        "    :param category: pair of categories of review corpus, two from [\"kitchen, \"dvd, \"book\", \"electronics\"]\n",
        "    :param ratio: proportion of data to use as training data\n",
        "    :return: pair of lists \n",
        "    \"\"\"\n",
        "    random.seed(candidateno)\n",
        "\n",
        "    train_data=[]\n",
        "    test_data=[]\n",
        "    for category in categories:\n",
        "      reader=AmazonReviewCorpusReader().category(category)    \n",
        "      train, test = split_data(reader.documents(),ratio=ratio)\n",
        "   \n",
        "      train_data+=[(feature_extract(review),category)for review in train]\n",
        "      test_data+=[(feature_extract(review),category)for review in test]\n",
        "    random.shuffle(train_data)\n",
        "    random.shuffle(test_data)\n",
        "\n",
        "    return train_data,test_data"
      ],
      "execution_count": 13,
      "outputs": []
    },
    {
      "cell_type": "markdown",
      "metadata": {
        "id": "1N3LWwBYICPP"
      },
      "source": [
        "When you have run the cell below, your unique training and testing samples will be stored in `training_data` and `testing_data`"
      ]
    },
    {
      "cell_type": "code",
      "metadata": {
        "colab": {
          "base_uri": "https://localhost:8080/"
        },
        "id": "HJLegkdPFUJA",
        "outputId": "e0438881-2967-4ba1-85ad-a3e998c53385"
      },
      "source": [
        "#do not change the code in this cell\n",
        "training_data,testing_data=get_training_test_data()\n",
        "print(\"The amount of training data is {}\".format(len(training_data)))\n",
        "print(\"The amount of testing data is {}\".format(len(testing_data)))\n",
        "print(\"The representation of a single data item is below\")\n",
        "print(training_data[0])"
      ],
      "execution_count": 284,
      "outputs": [
        {
          "output_type": "stream",
          "text": [
            "The amount of training data is 6526\n",
            "The amount of testing data is 2799\n",
            "The representation of a single data item is below\n",
            "({'I': True, 'found': True, 'this': True, 'DVD': True, 'to': True, 'be': True, 'well': True, 'produced': True, 'and': True, 'engaging': True, 'go': True, 'along': True, 'with': True, 'the': True, 'POWERFUL': True, 'content': True, '.': True, 'Fantastic': True, 'Loads': True, 'of': True, 'deleted': True, 'scenes': True, 'that': True, 'are': True, 'very': True, 'worth': True, 'watching': True}, 'dvd')\n"
          ],
          "name": "stdout"
        }
      ]
    },
    {
      "cell_type": "markdown",
      "metadata": {
        "id": "5f6h0ON9I4NT"
      },
      "source": [
        "a) Use your training data to find\n",
        "i) the top 20 words which occur more frequently in book reviews than in dvd reviews\n",
        "ii) the top 20 words which occur more frequently in dvd reviews than book reviews\n",
        "Discuss what pre-processing techniques you have applied (or not applied) in answering this question, and why. [10 marks]"
      ]
    },
    {
      "cell_type": "markdown",
      "metadata": {
        "id": "y4EvTvJlqU9o"
      },
      "source": [
        "## Pre-processing techniques used:\n",
        "\n",
        "\n",
        "*   Case Normalization: I started by making all the letters in the text lower case. This will help with the consistency of the data. It also might help solve sparsity issues as we will be able to map more words to the same lowercase form.\n",
        "*   Stopword Removal: Removing the stopwords from our text will help us focus on the words with higher information content. Stopwords largely exist in any form of text and are usually the words with the highest frequencies. However, most of the time they hold the least amount of information. Therefore removing them will decrease our set of tokens significantly while leading to better training.\n",
        "*   Numerical Normalization: Replacing all the non-alphabatical tokens to 'NUM' will again help with sparsity issues. Our classes here do not really depend on any specific numerical value, so it will be useful to perform numerical normalization as the nunbers in the text hold little to no information about the corresponding class.\n",
        "*   Lemmatization: Finally i perform lemmatization which replaces a word with its dictionary head word. This standardizes the vocabulary. I chose lemmatization over stemming because it's more reliable as it transforms the word into its actual root using a dictionary. On the other hand, stemming chops off words without checking if it leads to a proper word or not.\n",
        "\n",
        "\n"
      ]
    },
    {
      "cell_type": "code",
      "metadata": {
        "colab": {
          "base_uri": "https://localhost:8080/"
        },
        "id": "gPwXqDIaYTZd",
        "outputId": "4e419bbc-83e2-4976-ed8d-074201c0a5cd"
      },
      "source": [
        "from nltk.corpus import stopwords\n",
        "nltk.download('stopwords')\n",
        "stop = stopwords.words('english')\n",
        "from nltk.stem.wordnet import WordNetLemmatizer\n",
        "nltk.download('wordnet')\n",
        "wl = WordNetLemmatizer() \n",
        "\n",
        "#function to preprocess the training and testing data\n",
        "def normalizeSent(sentences):\n",
        "  #apply case normalization\n",
        "  lowered=[w.lower() for w in sentences]\n",
        "  #remove stopwords and number from the text\n",
        "  filtered_tokens = [w for w in lowered if w.isalpha() and not w.isdigit() and w not in stop]\n",
        "  #lemmatize all the tokens in the text\n",
        "  lemmtokens=[wl.lemmatize(word) for word in filtered_tokens]\n",
        "  #return the preprocessed sentences as a list of tokens/words\n",
        "  return lemmtokens"
      ],
      "execution_count": 285,
      "outputs": [
        {
          "output_type": "stream",
          "text": [
            "[nltk_data] Downloading package stopwords to /root/nltk_data...\n",
            "[nltk_data]   Package stopwords is already up-to-date!\n",
            "[nltk_data] Downloading package wordnet to /root/nltk_data...\n",
            "[nltk_data]   Package wordnet is already up-to-date!\n"
          ],
          "name": "stdout"
        }
      ]
    },
    {
      "cell_type": "code",
      "metadata": {
        "id": "II8bRViqev_Z"
      },
      "source": [
        "from nltk.probability import FreqDist\n",
        "\n",
        "#function to calculate the frequency of each word in an input text\n",
        "def bagofwordsFreq(trainingData):\n",
        "  #initialize emppty lists, one for each class (Book and DVD)\n",
        "  bookBags=[]\n",
        "  dvdBags=[]\n",
        "\n",
        "  #loop through every list of tokens in the training data\n",
        "  for x in trainingData:\n",
        "    #add the tokens to their corresponding list (depending on their class)\n",
        "    if x[1]=='book':\n",
        "      for k in x[0].keys():\n",
        "        bookBags.append(k)\n",
        "    else:\n",
        "      for k in x[0].keys():\n",
        "        dvdBags.append(k)\n",
        "  #now we have a \"bag\" of tokens for each class\n",
        "  #call the normalizeSent function to preprocess the bag of words\n",
        "  filteredBooks=normalizeSent(bookBags)\n",
        "  filteredDvd= normalizeSent(dvdBags)\n",
        "\n",
        "  #call the builtin FreqDist function to have a word frequency representation for each of our normalized bag of words\n",
        "  books_freqdist = FreqDist(filteredBooks)\n",
        "  dvd_freqdist= FreqDist(filteredDvd)\n",
        "\n",
        "  #return the 2 frequency representations\n",
        "  return books_freqdist, dvd_freqdist\n",
        "\n",
        "    "
      ],
      "execution_count": 286,
      "outputs": []
    },
    {
      "cell_type": "code",
      "metadata": {
        "id": "5wJ-ajVeFYjr"
      },
      "source": [
        "from nltk.probability import FreqDist\n",
        "books_freqdist,dvd_freqdist = bagofwordsFreq(training_data)\n"
      ],
      "execution_count": 287,
      "outputs": []
    },
    {
      "cell_type": "code",
      "metadata": {
        "id": "sWUMe5beKtgz"
      },
      "source": [
        "#function to get the topk words that occur in one class more than the other\n",
        "def most_frequent_words(posfreq,negfreq,topk):\n",
        "    #create a list of tuples where the first element is the word \n",
        "    #and the second element is the difference of occurrence between the classes\n",
        "    difference=[(w,f-negfreq.get(w,0)) for (w,f) in posfreq.most_common()]\n",
        "    #sort the list in descending order\n",
        "    sorteddiff=sorted(difference,key=lambda pair:pair[1],reverse=True)\n",
        "\n",
        "    #return the first topk elements\n",
        "    return sorteddiff[:topk]"
      ],
      "execution_count": 288,
      "outputs": []
    },
    {
      "cell_type": "code",
      "metadata": {
        "id": "3r4fLoBqddGT"
      },
      "source": [
        "topBooks=most_frequent_words(books_freqdist,dvd_freqdist,20)"
      ],
      "execution_count": 289,
      "outputs": []
    },
    {
      "cell_type": "code",
      "metadata": {
        "id": "0ge08Aobhgwm"
      },
      "source": [
        "topDVD=most_frequent_words(dvd_freqdist,books_freqdist,20)"
      ],
      "execution_count": 290,
      "outputs": []
    },
    {
      "cell_type": "markdown",
      "metadata": {
        "id": "TApOQE6vND20"
      },
      "source": [
        "b) Design, build and test a word list classifier to classify reviews as being from the book domain or from the dvd domain.  Make sure you discuss i) how you decide the lengths and contents of the word lists and ii) accuracy, precision and recall of your final classifier.[15 marks]"
      ]
    },
    {
      "cell_type": "markdown",
      "metadata": {
        "id": "a6SP4NUjy0h0"
      },
      "source": [
        "## **WordList Classifier**\n",
        "The wordlist classifier requires a list of words indicating the Book category, and a second list of words indicating the DVD category. Given Book and DVD word lists, a document's overall sentiment is determined based on counts of occurrences of words that occur in the two lists. "
      ]
    },
    {
      "cell_type": "markdown",
      "metadata": {
        "id": "VhLjlDK-0Hnf"
      },
      "source": [
        "I used the wordlists created in part A. Simply choosing the most frequent k words might not lead to the best results. However, by choosing words that occur more frequently in one domain than the other will lead to a more effective differentiation between the 2 classes. This way the words are more unique to their domain. "
      ]
    },
    {
      "cell_type": "code",
      "metadata": {
        "colab": {
          "base_uri": "https://localhost:8080/"
        },
        "id": "iZ3DC2iq9GY4",
        "outputId": "a6075b30-e203-426e-f423-8730200b3c96"
      },
      "source": [
        "traininglabelss=[x[1] for x in training_data]\n",
        "books=0\n",
        "dvd=0\n",
        "for x in traininglabelss:\n",
        "  if x=='book':\n",
        "    books=books+1\n",
        "  else:\n",
        "    dvd=dvd+1\n",
        "print(books)\n",
        "print(dvd)"
      ],
      "execution_count": 291,
      "outputs": [
        {
          "output_type": "stream",
          "text": [
            "2683\n",
            "3843\n"
          ],
          "name": "stdout"
        }
      ]
    },
    {
      "cell_type": "code",
      "metadata": {
        "colab": {
          "base_uri": "https://localhost:8080/"
        },
        "id": "DGTmHCQu9ZXy",
        "outputId": "b92dfcbb-ff1e-41a6-9cea-e8769b7314b4"
      },
      "source": [
        "testinglabels=[x[1] for x in testing_data]\n",
        "books=0\n",
        "dvd=0\n",
        "for x in testinglabels:\n",
        "  if x=='book':\n",
        "    books=books+1\n",
        "  else:\n",
        "    dvd=dvd+1\n",
        "print(books)\n",
        "print(dvd)"
      ],
      "execution_count": 292,
      "outputs": [
        {
          "output_type": "stream",
          "text": [
            "1151\n",
            "1648\n"
          ],
          "name": "stdout"
        }
      ]
    },
    {
      "cell_type": "markdown",
      "metadata": {
        "id": "bDoaEUrk7tly"
      },
      "source": [
        "## **Evaluation Metrics, Accuracy vs F1 Score**\n",
        "\n",
        "To decide on the length of my wordlist sample i trained the classifier several times using different lengths and compared the f1 scores and chose the length with the highest score. I used F1 score and not the accuracy because as demonstrated above we are dealing with unbalanced classes. Precision and recall are better measures for unbalanced classes, and the F1 score combines precision and recall by calculating their harmonic mean. "
      ]
    },
    {
      "cell_type": "code",
      "metadata": {
        "id": "BThDMrcmODJy"
      },
      "source": [
        "from nltk.classify.api import ClassifierI\n",
        "import random\n",
        "\n",
        "class SimpleClassifier(ClassifierI): \n",
        "\n",
        "    def __init__(self, book, dvd):\n",
        "        #initialize with the book wordlist \n",
        "        self._book = book \n",
        "        #initialize with the dvd wordlist\n",
        "        self._dvd = dvd \n",
        "\n",
        "    #classifies one sentence \n",
        "    def classify(self, words): \n",
        "        score = 0\n",
        "        \n",
        "        \n",
        "        #loop through each word in the input sentence\n",
        "        for word in words:\n",
        "            #calculate the score by deducting 1 if the word is found in the DVD bag of words, \n",
        "            #and adding 1 if the word is found in the BOOK bag of words\n",
        "            if word in self._book:\n",
        "                score+=1\n",
        "            if word in self._dvd:\n",
        "                score-=1\n",
        "        #if the final score is less than 0 than label it as DVD otherwise label it as BOOK\n",
        "        return \"dvd\" if score < 0 else \"book\" \n",
        "\n",
        "    #classifies a list of sentences\n",
        "    def batch_classify(self, docs): \n",
        "        return [self.classify(doc.words() if hasattr(doc, 'words') else doc) for doc in docs] \n",
        "\n",
        "    def labels(self): \n",
        "        return (\"book\", \"dvd\")"
      ],
      "execution_count": 293,
      "outputs": []
    },
    {
      "cell_type": "code",
      "metadata": {
        "id": "8vUirvNFj_MD"
      },
      "source": [
        "class ConfusionMatrix:\n",
        "    def __init__(self,predictions,goldstandard,classes=(\"book\",\"dvd\")):\n",
        "        (self.c1,self.c2)=classes\n",
        "        self.TP=0\n",
        "        self.FP=0\n",
        "        self.FN=0\n",
        "        self.TN=0\n",
        "        #compare the prediction and goldstandars labels and calculate the true and false positive and the true and false negatives\n",
        "        for p,g in zip(predictions,goldstandard):\n",
        "            if g==self.c1:\n",
        "                if p==self.c1:\n",
        "                    self.TP+=1\n",
        "                else:\n",
        "                    self.FN+=1\n",
        "            \n",
        "            elif p==self.c1:\n",
        "                self.FP+=1\n",
        "            else:\n",
        "                self.TN+=1\n",
        "        \n",
        "    \n",
        "    def precision(self):\n",
        "        #compute precision\n",
        "        p=self.TP/(self.TP+self.FP)\n",
        "        return p\n",
        "    \n",
        "    def recall(self):\n",
        "        #compute recall\n",
        "        r=self.TP/(self.TP+ self.FN)\n",
        "        return r\n",
        "    \n",
        "    def f1(self):\n",
        "        #compute F1 score\n",
        "        f1= (2*self.precision()*self.recall())/(self.precision()+self.recall())\n",
        "        return f1 "
      ],
      "execution_count": 294,
      "outputs": []
    },
    {
      "cell_type": "code",
      "metadata": {
        "id": "n5VtPXFP8u2-"
      },
      "source": [
        "#function to normalize and classify the testing data\n",
        "def classifyMe(classifier, test_data):\n",
        "  #preprocess the testing data the same way the training data was normalized\n",
        "  filteredData= [normalizeSent(sent) for sent in test_data] \n",
        "  #batch classify the normalized testing data\n",
        "  testingpredictions=classifier.batch_classify(doc for doc in filteredData)\n",
        "  #return the testing predictions\n",
        "  return testingpredictions"
      ],
      "execution_count": 295,
      "outputs": []
    },
    {
      "cell_type": "code",
      "metadata": {
        "id": "JLNd3zA5ucVK"
      },
      "source": [
        "#function to return accuracy, takes the predicted labels and the true labels\n",
        "def classifier_evaluate(predictions,goldstandard):\n",
        "  correct=0\n",
        "  #compare the labels, if theyre the same add 1 to correct\n",
        "  for (prediction,gold) in zip(predictions,goldstandard):\n",
        "    if prediction ==gold:\n",
        "      correct+=1\n",
        "  #return accuracy (correctly labelled divided by the total length of the testing data)\n",
        "  return correct/len(predictions)"
      ],
      "execution_count": 296,
      "outputs": []
    },
    {
      "cell_type": "code",
      "metadata": {
        "id": "OyHbdCc97yYD"
      },
      "source": [
        "#store the goldstandard testing labels\n",
        "testingLabels=[x[1] for x in testing_data]\n",
        "\n",
        "#store the testing data as a list of tokens for each sentence\n",
        "testingDocs=[]\n",
        "for x in testing_data:\n",
        "  tokens=[]\n",
        "  for k in x[0].keys():\n",
        "    tokens.append(k)\n",
        "  testingDocs.append(tokens)\n",
        "  \n"
      ],
      "execution_count": 297,
      "outputs": []
    },
    {
      "cell_type": "code",
      "metadata": {
        "id": "lG5qYNvftTId"
      },
      "source": [
        "#initialize a list with diff values for the length of the wordlist\n",
        "lenWordlist=[5,10,20,30,40,50,60,70,80,90,100]\n",
        "#initialize a max f1 score and an optimim length (k) \n",
        "maxF1=0\n",
        "k=0\n",
        "#for each length l\n",
        "for l in lenWordlist:\n",
        "  #get the top l words that occur in books more than dvd\n",
        "  topBooks=most_frequent_words(books_freqdist,dvd_freqdist,l)\n",
        "  #get the top l words that occur in dvd more than book\n",
        "  topDVD=most_frequent_words(dvd_freqdist,books_freqdist,l)\n",
        "  #create a list with the words only (without the difference value)\n",
        "  bookData=[x[0] for x in topBooks]\n",
        "  dvdData=[x[0] for x in topDVD]\n",
        "  #train the wordlist classifier with book wordlist and the dvd wordlist\n",
        "  classifier = SimpleClassifier(bookData,dvdData)\n",
        "  #get the predictions on the testing data\n",
        "  predictions=classifyMe(classifier, testingDocs)\n",
        "  #initialize the confusion matrix (contains precision, recall, and F1 scores)\n",
        "  cm=ConfusionMatrix(predictions, testingLabels)\n",
        "  #check if the current f1 score is higher than the max recorded\n",
        "  #it its higher uodate the max f1 score, maxF1, and the optimum length, k\n",
        "  if cm.f1()>maxF1:\n",
        "    maxF1=cm.f1()\n",
        "    k=l"
      ],
      "execution_count": 298,
      "outputs": []
    },
    {
      "cell_type": "code",
      "metadata": {
        "colab": {
          "base_uri": "https://localhost:8080/"
        },
        "id": "8J8BG7zfdEOF",
        "outputId": "015b4cee-ac8b-4cfd-aa4a-7d5612638c9b"
      },
      "source": [
        "#get the optimum length\n",
        "k"
      ],
      "execution_count": 299,
      "outputs": [
        {
          "output_type": "execute_result",
          "data": {
            "text/plain": [
              "10"
            ]
          },
          "metadata": {
            "tags": []
          },
          "execution_count": 299
        }
      ]
    },
    {
      "cell_type": "markdown",
      "metadata": {
        "id": "Mf_zlEBB0jJ7"
      },
      "source": [
        "## Effect of K\n",
        "The reason that lower ks perform better might be because this was the classifier is not overfitting. In addition, the more k features we add might be irrelevant or redundant that they  actually complicate the model rather than improve it. Adding more features will lead to the classifier 'memorizing' the training data and it will be more difficult to generalize on the testing data."
      ]
    },
    {
      "cell_type": "code",
      "metadata": {
        "colab": {
          "base_uri": "https://localhost:8080/"
        },
        "id": "zLLhLGZ_dLRL",
        "outputId": "b6c1c639-b79f-439a-939a-bb94d9284a6c"
      },
      "source": [
        "#use the optimum wordlist length,10, to train the wordlist classifier\n",
        "topBooks=most_frequent_words(books_freqdist,dvd_freqdist,10)\n",
        "topDVD=most_frequent_words(dvd_freqdist,books_freqdist,10)\n",
        "bookData=[x[0] for x in topBooks]\n",
        "dvdData=[x[0] for x in topDVD]\n",
        "classifier = SimpleClassifier(bookData,dvdData)\n",
        "predictions=classifyMe(classifier, testingDocs)\n",
        "cm=ConfusionMatrix(predictions, testingLabels)\n",
        "#calculate precision\n",
        "cm.precision()"
      ],
      "execution_count": 300,
      "outputs": [
        {
          "output_type": "execute_result",
          "data": {
            "text/plain": [
              "0.873794916739702"
            ]
          },
          "metadata": {
            "tags": []
          },
          "execution_count": 300
        }
      ]
    },
    {
      "cell_type": "code",
      "metadata": {
        "colab": {
          "base_uri": "https://localhost:8080/"
        },
        "id": "8N3d39GxeRsl",
        "outputId": "b5b2ed40-9858-4493-d2d9-166d43a73a0f"
      },
      "source": [
        "#calculate recall\n",
        "cm.recall()"
      ],
      "execution_count": 301,
      "outputs": [
        {
          "output_type": "execute_result",
          "data": {
            "text/plain": [
              "0.8662033014769766"
            ]
          },
          "metadata": {
            "tags": []
          },
          "execution_count": 301
        }
      ]
    },
    {
      "cell_type": "code",
      "metadata": {
        "colab": {
          "base_uri": "https://localhost:8080/"
        },
        "id": "hYYICFaDgNsm",
        "outputId": "75074900-429c-491f-bf9d-68798c97d740"
      },
      "source": [
        "#calculate f1 score\n",
        "cm.f1()"
      ],
      "execution_count": 302,
      "outputs": [
        {
          "output_type": "execute_result",
          "data": {
            "text/plain": [
              "0.8699825479930192"
            ]
          },
          "metadata": {
            "tags": []
          },
          "execution_count": 302
        }
      ]
    },
    {
      "cell_type": "code",
      "metadata": {
        "colab": {
          "base_uri": "https://localhost:8080/"
        },
        "id": "zpb3_zTnfjfY",
        "outputId": "57d609d1-e798-4269-add8-a5160cb38fc1"
      },
      "source": [
        "#calculate accuracy\n",
        "classifier_evaluate(predictions,testingLabels)"
      ],
      "execution_count": 303,
      "outputs": [
        {
          "output_type": "execute_result",
          "data": {
            "text/plain": [
              "0.893533404787424"
            ]
          },
          "metadata": {
            "tags": []
          },
          "execution_count": 303
        }
      ]
    },
    {
      "cell_type": "markdown",
      "metadata": {
        "id": "LIS9UpmJNEAp"
      },
      "source": [
        "c) Compare the performance of your word list classifier with a Naive Bayes classifier (e.g., from NLTK).  Make sure you discuss the results. [10 marks]"
      ]
    },
    {
      "cell_type": "code",
      "metadata": {
        "id": "DRP74G48MC_x"
      },
      "source": [
        "#preprocess the training data and represent it in its original format, list of tuples: first element is a dictionary \n",
        "#with the tokens as keys and True as values, the second element is the corresponding class\n",
        "normalizedTrainingData=[]\n",
        "for tup in training_data:\n",
        "  tokens=tup[0].keys()\n",
        "  tokens=normalizeSent(tokens)\n",
        "  dicTrue={}\n",
        "  for token in tokens:\n",
        "    dicTrue[token]=True\n",
        "  normalizedTrainingData.append((dicTrue, tup[1]))"
      ],
      "execution_count": 304,
      "outputs": []
    },
    {
      "cell_type": "code",
      "metadata": {
        "id": "i8Cv0cH6MHez"
      },
      "source": [
        "#preprocess the testing data and represent it in its original format, list of tuples: first element is a dictionary \n",
        "#with the tokens as keys and True as values, the second element is the corresponding class\n",
        "normalizedTestingData=[]\n",
        "for tup in testing_data:\n",
        "  tokens=tup[0].keys()\n",
        "  tokens=normalizeSent(tokens)\n",
        "  dicTrue={}\n",
        "  for token in tokens:\n",
        "    dicTrue[token]=True\n",
        "  normalizedTestingData.append((dicTrue, tup[1]))"
      ],
      "execution_count": 305,
      "outputs": []
    },
    {
      "cell_type": "code",
      "metadata": {
        "id": "QSAp0ysugbb1"
      },
      "source": [
        "#use nltk's naive bayes classifier and train it on the preprocessed training data\n",
        "classifierNLTK = nltk.NaiveBayesClassifier.train(normalizedTrainingData)\n",
        "\n",
        "#classify the testingdata\n",
        "nltkpredictions=[]\n",
        "for x in normalizedTestingData:\n",
        "  label=classifierNLTK.classify(x[0])\n",
        "  nltkpredictions.append(label)\n",
        "#calculate the accuracy\n",
        "acc=classifier_evaluate(nltkpredictions,testingLabels)\n",
        "#confusion matrix for the nltk classifier\n",
        "cm=ConfusionMatrix(nltkpredictions, testingLabels)\n",
        "#calculate precision\n",
        "p=cm.precision()\n",
        "#calculate recall\n",
        "r=cm.recall()\n",
        "#calculate f1 score\n",
        "fscore=cm.f1()\n",
        "\n",
        "tracker=[]\n",
        "tracker.append([\"Naive\", acc, p, r,fscore])\n"
      ],
      "execution_count": 306,
      "outputs": []
    },
    {
      "cell_type": "code",
      "metadata": {
        "id": "0shNSYObM0Oa"
      },
      "source": [
        "#use the optimum wordlist length,10, to train the wordlist classifier\n",
        "topBooks=most_frequent_words(books_freqdist,dvd_freqdist,10)\n",
        "topDVD=most_frequent_words(dvd_freqdist,books_freqdist,10)\n",
        "bookData=[x[0] for x in topBooks]\n",
        "dvdData=[x[0] for x in topDVD]\n",
        "classifier = SimpleClassifier(bookData,dvdData)\n",
        "predictions=classifyMe(classifier, testingDocs)\n",
        "#calculate accuracy\n",
        "acc=classifier_evaluate(predictions,testingLabels)\n",
        "\n",
        "cm=ConfusionMatrix(predictions, testingLabels)\n",
        "#calculate precision\n",
        "p=cm.precision()\n",
        "#calculate recall\n",
        "r=cm.recall()\n",
        "#calculate f1 score\n",
        "fscore=cm.f1()\n",
        "tracker.append([\"Wordlist\", acc, p, r,fscore])"
      ],
      "execution_count": 307,
      "outputs": []
    },
    {
      "cell_type": "code",
      "metadata": {
        "colab": {
          "base_uri": "https://localhost:8080/",
          "height": 111
        },
        "id": "9_tI-4ZDM8_y",
        "outputId": "fc17dad0-90bf-4c42-f737-c7b0a5c695e7"
      },
      "source": [
        "#df to compare the performance of the 2 classifiers\n",
        "df= pd.DataFrame(tracker, columns=[\"Classifier\", \"Accuracy\", \"Precision\", \"Recall\", \"F1 Score\"])\n",
        "display(df)"
      ],
      "execution_count": 308,
      "outputs": [
        {
          "output_type": "display_data",
          "data": {
            "text/html": [
              "<div>\n",
              "<style scoped>\n",
              "    .dataframe tbody tr th:only-of-type {\n",
              "        vertical-align: middle;\n",
              "    }\n",
              "\n",
              "    .dataframe tbody tr th {\n",
              "        vertical-align: top;\n",
              "    }\n",
              "\n",
              "    .dataframe thead th {\n",
              "        text-align: right;\n",
              "    }\n",
              "</style>\n",
              "<table border=\"1\" class=\"dataframe\">\n",
              "  <thead>\n",
              "    <tr style=\"text-align: right;\">\n",
              "      <th></th>\n",
              "      <th>Classifier</th>\n",
              "      <th>Accuracy</th>\n",
              "      <th>Precision</th>\n",
              "      <th>Recall</th>\n",
              "      <th>F1 Score</th>\n",
              "    </tr>\n",
              "  </thead>\n",
              "  <tbody>\n",
              "    <tr>\n",
              "      <th>0</th>\n",
              "      <td>Naive</td>\n",
              "      <td>0.931404</td>\n",
              "      <td>0.928508</td>\n",
              "      <td>0.902693</td>\n",
              "      <td>0.915419</td>\n",
              "    </tr>\n",
              "    <tr>\n",
              "      <th>1</th>\n",
              "      <td>Wordlist</td>\n",
              "      <td>0.893533</td>\n",
              "      <td>0.873795</td>\n",
              "      <td>0.866203</td>\n",
              "      <td>0.869983</td>\n",
              "    </tr>\n",
              "  </tbody>\n",
              "</table>\n",
              "</div>"
            ],
            "text/plain": [
              "  Classifier  Accuracy  Precision    Recall  F1 Score\n",
              "0      Naive  0.931404   0.928508  0.902693  0.915419\n",
              "1   Wordlist  0.893533   0.873795  0.866203  0.869983"
            ]
          },
          "metadata": {
            "tags": []
          }
        }
      ]
    },
    {
      "cell_type": "markdown",
      "metadata": {
        "id": "P3CWZ0KfEPd5"
      },
      "source": [
        "## **Naive Bayes Classifier Results**\n",
        "The results show that the naive bayes classifier performs slightly better than the wordlist classifier. A naive bayes classifier tends to work well in categorical tasks. A naive bayes classifier is fast and easy to build. It depends on probabilities. "
      ]
    },
    {
      "cell_type": "markdown",
      "metadata": {
        "id": "LGDXaVDqOSfY"
      },
      "source": [
        "d) Design and carry out an experiment into the impact of the amount of training data on each of these classifiers.  Make sure you describe design decisions in your experiment, include a graph of your results and discuss your conclusions. [15 marks] "
      ]
    },
    {
      "cell_type": "markdown",
      "metadata": {
        "id": "8_KAcGFjHM-q"
      },
      "source": [
        "## **Design Desicions**\n",
        "The function 'sample' takes a random sample from the training data of a specified size. This randomness will lead to slightly different results on each run, because the training data is changing. To help generalize and decrease the effect of external factors and solely test the effect of the sample size, i recorded the **mean accuracy** and **mean f1 score** over 3 runs for each sample size."
      ]
    },
    {
      "cell_type": "code",
      "metadata": {
        "colab": {
          "base_uri": "https://localhost:8080/"
        },
        "id": "HgXiP6We70j0",
        "outputId": "a64acea8-f098-4da7-f48d-edc77b79673d"
      },
      "source": [
        "len(training_data)"
      ],
      "execution_count": 309,
      "outputs": [
        {
          "output_type": "execute_result",
          "data": {
            "text/plain": [
              "6526"
            ]
          },
          "metadata": {
            "tags": []
          },
          "execution_count": 309
        }
      ]
    },
    {
      "cell_type": "code",
      "metadata": {
        "id": "Gh2eOroGYRyZ"
      },
      "source": [
        "import numpy as np\n",
        "from random import sample\n",
        "#initialize a list of different sample sizes ranging from 50 to 6550 and jump by 500\n",
        "sampleSize=np.arange(50,6550, 500).tolist()\n",
        "\n",
        "#initialize a list to the different accuracies and f1 scores\n",
        "nltkTrainSize=[]\n",
        "\n",
        "#loop through the different sample sizes\n",
        "for s in sampleSize:\n",
        "  accuracy=0\n",
        "  currf1=0\n",
        "  #run the classifier 3 times for every sample size and get the mean accuracy and f1 score\n",
        "  for run in range(3):\n",
        "    #train the naive bayes classifier using a sample of s sentences from the training data\n",
        "    classifierNLTK = nltk.NaiveBayesClassifier.train(sample(normalizedTrainingData,s))\n",
        "    #get the predictions on the testing data \n",
        "    nltklabels=[]\n",
        "    for x in normalizedTestingData:\n",
        "      label=classifierNLTK.classify(x[0])\n",
        "      nltklabels.append(label)\n",
        "    #accuracy\n",
        "    accuracy=accuracy+classifier_evaluate(nltklabels,testingLabels)\n",
        "    #confusion matrix\n",
        "    cmnltk=ConfusionMatrix(nltklabels, testingLabels)\n",
        "    #f1 score\n",
        "    currf1= currf1+cmnltk.f1()\n",
        "  #update the list with the sample size and its corresponding mean accuracy and mean f1 score\n",
        "  nltkTrainSize.append([s,currf1/3,accuracy/3])\n"
      ],
      "execution_count": 310,
      "outputs": []
    },
    {
      "cell_type": "code",
      "metadata": {
        "colab": {
          "base_uri": "https://localhost:8080/"
        },
        "id": "UvtS_H2Ubzo0",
        "outputId": "6baacdee-ceb9-4b44-9438-d83d374b9d79"
      },
      "source": [
        "nltkTrainSize"
      ],
      "execution_count": 311,
      "outputs": [
        {
          "output_type": "execute_result",
          "data": {
            "text/plain": [
              "[[50, 0.6864797769538421, 0.713469096105752],\n",
              " [550, 0.8905477573133673, 0.9103251161128975],\n",
              " [1050, 0.8686681221406364, 0.9007979040133381],\n",
              " [1550, 0.9036550470201762, 0.9216386804811242],\n",
              " [2050, 0.9110995409775674, 0.9260450160771705],\n",
              " [2550, 0.9066656972319893, 0.9248541145647255],\n",
              " [3050, 0.9083557656875995, 0.9260450160771704],\n",
              " [3550, 0.9109225464680367, 0.9272359175896153],\n",
              " [4050, 0.915643619300603, 0.9314040728831726],\n",
              " [4550, 0.9159463016143405, 0.931761343336906],\n",
              " [5050, 0.9120052296391646, 0.9290222698582826],\n",
              " [5550, 0.9141959933688311, 0.9302131713707276],\n",
              " [6050, 0.9166091629834319, 0.9322377039418841]]"
            ]
          },
          "metadata": {
            "tags": []
          },
          "execution_count": 311
        }
      ]
    },
    {
      "cell_type": "code",
      "metadata": {
        "colab": {
          "base_uri": "https://localhost:8080/",
          "height": 452
        },
        "id": "aSzhZ8WvQUMZ",
        "outputId": "f28ae13b-08dc-4eb9-dd57-2546316b1657"
      },
      "source": [
        "df=  pd.DataFrame(nltkTrainSize, columns=[\"Training Size\", \"f1 Score\", \"accuracy\"])\n",
        "display(df)"
      ],
      "execution_count": 312,
      "outputs": [
        {
          "output_type": "display_data",
          "data": {
            "text/html": [
              "<div>\n",
              "<style scoped>\n",
              "    .dataframe tbody tr th:only-of-type {\n",
              "        vertical-align: middle;\n",
              "    }\n",
              "\n",
              "    .dataframe tbody tr th {\n",
              "        vertical-align: top;\n",
              "    }\n",
              "\n",
              "    .dataframe thead th {\n",
              "        text-align: right;\n",
              "    }\n",
              "</style>\n",
              "<table border=\"1\" class=\"dataframe\">\n",
              "  <thead>\n",
              "    <tr style=\"text-align: right;\">\n",
              "      <th></th>\n",
              "      <th>Training Size</th>\n",
              "      <th>f1 Score</th>\n",
              "      <th>accuracy</th>\n",
              "    </tr>\n",
              "  </thead>\n",
              "  <tbody>\n",
              "    <tr>\n",
              "      <th>0</th>\n",
              "      <td>50</td>\n",
              "      <td>0.686480</td>\n",
              "      <td>0.713469</td>\n",
              "    </tr>\n",
              "    <tr>\n",
              "      <th>1</th>\n",
              "      <td>550</td>\n",
              "      <td>0.890548</td>\n",
              "      <td>0.910325</td>\n",
              "    </tr>\n",
              "    <tr>\n",
              "      <th>2</th>\n",
              "      <td>1050</td>\n",
              "      <td>0.868668</td>\n",
              "      <td>0.900798</td>\n",
              "    </tr>\n",
              "    <tr>\n",
              "      <th>3</th>\n",
              "      <td>1550</td>\n",
              "      <td>0.903655</td>\n",
              "      <td>0.921639</td>\n",
              "    </tr>\n",
              "    <tr>\n",
              "      <th>4</th>\n",
              "      <td>2050</td>\n",
              "      <td>0.911100</td>\n",
              "      <td>0.926045</td>\n",
              "    </tr>\n",
              "    <tr>\n",
              "      <th>5</th>\n",
              "      <td>2550</td>\n",
              "      <td>0.906666</td>\n",
              "      <td>0.924854</td>\n",
              "    </tr>\n",
              "    <tr>\n",
              "      <th>6</th>\n",
              "      <td>3050</td>\n",
              "      <td>0.908356</td>\n",
              "      <td>0.926045</td>\n",
              "    </tr>\n",
              "    <tr>\n",
              "      <th>7</th>\n",
              "      <td>3550</td>\n",
              "      <td>0.910923</td>\n",
              "      <td>0.927236</td>\n",
              "    </tr>\n",
              "    <tr>\n",
              "      <th>8</th>\n",
              "      <td>4050</td>\n",
              "      <td>0.915644</td>\n",
              "      <td>0.931404</td>\n",
              "    </tr>\n",
              "    <tr>\n",
              "      <th>9</th>\n",
              "      <td>4550</td>\n",
              "      <td>0.915946</td>\n",
              "      <td>0.931761</td>\n",
              "    </tr>\n",
              "    <tr>\n",
              "      <th>10</th>\n",
              "      <td>5050</td>\n",
              "      <td>0.912005</td>\n",
              "      <td>0.929022</td>\n",
              "    </tr>\n",
              "    <tr>\n",
              "      <th>11</th>\n",
              "      <td>5550</td>\n",
              "      <td>0.914196</td>\n",
              "      <td>0.930213</td>\n",
              "    </tr>\n",
              "    <tr>\n",
              "      <th>12</th>\n",
              "      <td>6050</td>\n",
              "      <td>0.916609</td>\n",
              "      <td>0.932238</td>\n",
              "    </tr>\n",
              "  </tbody>\n",
              "</table>\n",
              "</div>"
            ],
            "text/plain": [
              "    Training Size  f1 Score  accuracy\n",
              "0              50  0.686480  0.713469\n",
              "1             550  0.890548  0.910325\n",
              "2            1050  0.868668  0.900798\n",
              "3            1550  0.903655  0.921639\n",
              "4            2050  0.911100  0.926045\n",
              "5            2550  0.906666  0.924854\n",
              "6            3050  0.908356  0.926045\n",
              "7            3550  0.910923  0.927236\n",
              "8            4050  0.915644  0.931404\n",
              "9            4550  0.915946  0.931761\n",
              "10           5050  0.912005  0.929022\n",
              "11           5550  0.914196  0.930213\n",
              "12           6050  0.916609  0.932238"
            ]
          },
          "metadata": {
            "tags": []
          }
        }
      ]
    },
    {
      "cell_type": "code",
      "metadata": {
        "id": "CxD1J1DsfziF"
      },
      "source": [
        "#initialize a list to the different accuracies and f1 scores\n",
        "wordlistTrainSize=[]\n",
        "\n",
        "#loop through the different sample sizes\n",
        "for s in sampleSize:\n",
        "  accuracy=0\n",
        "  currf1=0\n",
        "  #run the classifier 3 times for every sample size and get the mean accuracy and f1 score\n",
        "  for run in range(3):\n",
        "    #train the naive bayes classifier using a sample of s sentences from the training data\n",
        "    booksSample,dvdSample=bagofwordsFreq(sample(training_data,s))\n",
        "    topBooks=most_frequent_words(booksSample,dvdSample,10)\n",
        "    topDVD=most_frequent_words(dvdSample,booksSample,10)\n",
        "    bookData=[x[0] for x in topBooks]\n",
        "    dvdData=[x[0] for x in topDVD]\n",
        "    classifier = SimpleClassifier(bookData,dvdData)\n",
        "    #get the predictions on the testing data\n",
        "    traininglabels=classifyMe(classifier, testingDocs)\n",
        "    #confusion matrix\n",
        "    cm=ConfusionMatrix(traininglabels, testingLabels)\n",
        "    #f1 score\n",
        "    currf1=currf1+cm.f1()\n",
        "    #accuracy\n",
        "    accuracy=accuracy+classifier_evaluate(traininglabels,testingLabels)\n",
        "  #update the list with the sample size and its corresponding mean accuracy and mean f1 score\n",
        "  wordlistTrainSize.append([s,currf1/3,accuracy/3])\n",
        " \n",
        "\n"
      ],
      "execution_count": 313,
      "outputs": []
    },
    {
      "cell_type": "code",
      "metadata": {
        "colab": {
          "base_uri": "https://localhost:8080/"
        },
        "id": "avb0wGSLgqKV",
        "outputId": "1c4ebc39-2d8f-4b7e-c3c8-42d1ba865c2e"
      },
      "source": [
        "wordlistTrainSize"
      ],
      "execution_count": 314,
      "outputs": [
        {
          "output_type": "execute_result",
          "data": {
            "text/plain": [
              "[[50, 0.802348602893371, 0.8327974276527331],\n",
              " [550, 0.8672483605122253, 0.8891270691913779],\n",
              " [1050, 0.874941906120091, 0.8934143146361796],\n",
              " [1550, 0.8701332928649114, 0.893533404787424],\n",
              " [2050, 0.8719859825302686, 0.894247945694891],\n",
              " [2550, 0.8736851697888032, 0.8954388472073359],\n",
              " [3050, 0.8718338588909113, 0.8944861259973801],\n",
              " [3550, 0.8696034706300594, 0.8931761343336907],\n",
              " [4050, 0.8736851697888032, 0.8954388472073359],\n",
              " [4550, 0.8699825479930192, 0.893533404787424],\n",
              " [5050, 0.8699825479930192, 0.893533404787424],\n",
              " [5550, 0.8718338588909113, 0.8944861259973801],\n",
              " [6050, 0.8699825479930192, 0.893533404787424]]"
            ]
          },
          "metadata": {
            "tags": []
          },
          "execution_count": 314
        }
      ]
    },
    {
      "cell_type": "code",
      "metadata": {
        "colab": {
          "base_uri": "https://localhost:8080/",
          "height": 452
        },
        "id": "p1165fE98lJT",
        "outputId": "48554506-6d4d-4e11-c765-88ad338c38fb"
      },
      "source": [
        "df2 = pd.DataFrame(wordlistTrainSize, columns=[\"Training Size\", \"f1 Score\", \"accuracy\"])\n",
        "display(df2)"
      ],
      "execution_count": 315,
      "outputs": [
        {
          "output_type": "display_data",
          "data": {
            "text/html": [
              "<div>\n",
              "<style scoped>\n",
              "    .dataframe tbody tr th:only-of-type {\n",
              "        vertical-align: middle;\n",
              "    }\n",
              "\n",
              "    .dataframe tbody tr th {\n",
              "        vertical-align: top;\n",
              "    }\n",
              "\n",
              "    .dataframe thead th {\n",
              "        text-align: right;\n",
              "    }\n",
              "</style>\n",
              "<table border=\"1\" class=\"dataframe\">\n",
              "  <thead>\n",
              "    <tr style=\"text-align: right;\">\n",
              "      <th></th>\n",
              "      <th>Training Size</th>\n",
              "      <th>f1 Score</th>\n",
              "      <th>accuracy</th>\n",
              "    </tr>\n",
              "  </thead>\n",
              "  <tbody>\n",
              "    <tr>\n",
              "      <th>0</th>\n",
              "      <td>50</td>\n",
              "      <td>0.802349</td>\n",
              "      <td>0.832797</td>\n",
              "    </tr>\n",
              "    <tr>\n",
              "      <th>1</th>\n",
              "      <td>550</td>\n",
              "      <td>0.867248</td>\n",
              "      <td>0.889127</td>\n",
              "    </tr>\n",
              "    <tr>\n",
              "      <th>2</th>\n",
              "      <td>1050</td>\n",
              "      <td>0.874942</td>\n",
              "      <td>0.893414</td>\n",
              "    </tr>\n",
              "    <tr>\n",
              "      <th>3</th>\n",
              "      <td>1550</td>\n",
              "      <td>0.870133</td>\n",
              "      <td>0.893533</td>\n",
              "    </tr>\n",
              "    <tr>\n",
              "      <th>4</th>\n",
              "      <td>2050</td>\n",
              "      <td>0.871986</td>\n",
              "      <td>0.894248</td>\n",
              "    </tr>\n",
              "    <tr>\n",
              "      <th>5</th>\n",
              "      <td>2550</td>\n",
              "      <td>0.873685</td>\n",
              "      <td>0.895439</td>\n",
              "    </tr>\n",
              "    <tr>\n",
              "      <th>6</th>\n",
              "      <td>3050</td>\n",
              "      <td>0.871834</td>\n",
              "      <td>0.894486</td>\n",
              "    </tr>\n",
              "    <tr>\n",
              "      <th>7</th>\n",
              "      <td>3550</td>\n",
              "      <td>0.869603</td>\n",
              "      <td>0.893176</td>\n",
              "    </tr>\n",
              "    <tr>\n",
              "      <th>8</th>\n",
              "      <td>4050</td>\n",
              "      <td>0.873685</td>\n",
              "      <td>0.895439</td>\n",
              "    </tr>\n",
              "    <tr>\n",
              "      <th>9</th>\n",
              "      <td>4550</td>\n",
              "      <td>0.869983</td>\n",
              "      <td>0.893533</td>\n",
              "    </tr>\n",
              "    <tr>\n",
              "      <th>10</th>\n",
              "      <td>5050</td>\n",
              "      <td>0.869983</td>\n",
              "      <td>0.893533</td>\n",
              "    </tr>\n",
              "    <tr>\n",
              "      <th>11</th>\n",
              "      <td>5550</td>\n",
              "      <td>0.871834</td>\n",
              "      <td>0.894486</td>\n",
              "    </tr>\n",
              "    <tr>\n",
              "      <th>12</th>\n",
              "      <td>6050</td>\n",
              "      <td>0.869983</td>\n",
              "      <td>0.893533</td>\n",
              "    </tr>\n",
              "  </tbody>\n",
              "</table>\n",
              "</div>"
            ],
            "text/plain": [
              "    Training Size  f1 Score  accuracy\n",
              "0              50  0.802349  0.832797\n",
              "1             550  0.867248  0.889127\n",
              "2            1050  0.874942  0.893414\n",
              "3            1550  0.870133  0.893533\n",
              "4            2050  0.871986  0.894248\n",
              "5            2550  0.873685  0.895439\n",
              "6            3050  0.871834  0.894486\n",
              "7            3550  0.869603  0.893176\n",
              "8            4050  0.873685  0.895439\n",
              "9            4550  0.869983  0.893533\n",
              "10           5050  0.869983  0.893533\n",
              "11           5550  0.871834  0.894486\n",
              "12           6050  0.869983  0.893533"
            ]
          },
          "metadata": {
            "tags": []
          }
        }
      ]
    },
    {
      "cell_type": "code",
      "metadata": {
        "colab": {
          "base_uri": "https://localhost:8080/",
          "height": 452
        },
        "id": "1DXd-mGW9_F0",
        "outputId": "d9311e1d-f8fa-4025-c95d-a1329ded7982"
      },
      "source": [
        "finaldf=pd.DataFrame()\n",
        "finaldf[\"Training Size\"]=df[\"Training Size\"]\n",
        "finaldf[\"Wordlist F1 Score\"]=df2[\"f1 Score\"]\n",
        "finaldf[\"Naive F1 Score\"]=df[\"f1 Score\"]\n",
        "display(finaldf)"
      ],
      "execution_count": 316,
      "outputs": [
        {
          "output_type": "display_data",
          "data": {
            "text/html": [
              "<div>\n",
              "<style scoped>\n",
              "    .dataframe tbody tr th:only-of-type {\n",
              "        vertical-align: middle;\n",
              "    }\n",
              "\n",
              "    .dataframe tbody tr th {\n",
              "        vertical-align: top;\n",
              "    }\n",
              "\n",
              "    .dataframe thead th {\n",
              "        text-align: right;\n",
              "    }\n",
              "</style>\n",
              "<table border=\"1\" class=\"dataframe\">\n",
              "  <thead>\n",
              "    <tr style=\"text-align: right;\">\n",
              "      <th></th>\n",
              "      <th>Training Size</th>\n",
              "      <th>Wordlist F1 Score</th>\n",
              "      <th>Naive F1 Score</th>\n",
              "    </tr>\n",
              "  </thead>\n",
              "  <tbody>\n",
              "    <tr>\n",
              "      <th>0</th>\n",
              "      <td>50</td>\n",
              "      <td>0.802349</td>\n",
              "      <td>0.686480</td>\n",
              "    </tr>\n",
              "    <tr>\n",
              "      <th>1</th>\n",
              "      <td>550</td>\n",
              "      <td>0.867248</td>\n",
              "      <td>0.890548</td>\n",
              "    </tr>\n",
              "    <tr>\n",
              "      <th>2</th>\n",
              "      <td>1050</td>\n",
              "      <td>0.874942</td>\n",
              "      <td>0.868668</td>\n",
              "    </tr>\n",
              "    <tr>\n",
              "      <th>3</th>\n",
              "      <td>1550</td>\n",
              "      <td>0.870133</td>\n",
              "      <td>0.903655</td>\n",
              "    </tr>\n",
              "    <tr>\n",
              "      <th>4</th>\n",
              "      <td>2050</td>\n",
              "      <td>0.871986</td>\n",
              "      <td>0.911100</td>\n",
              "    </tr>\n",
              "    <tr>\n",
              "      <th>5</th>\n",
              "      <td>2550</td>\n",
              "      <td>0.873685</td>\n",
              "      <td>0.906666</td>\n",
              "    </tr>\n",
              "    <tr>\n",
              "      <th>6</th>\n",
              "      <td>3050</td>\n",
              "      <td>0.871834</td>\n",
              "      <td>0.908356</td>\n",
              "    </tr>\n",
              "    <tr>\n",
              "      <th>7</th>\n",
              "      <td>3550</td>\n",
              "      <td>0.869603</td>\n",
              "      <td>0.910923</td>\n",
              "    </tr>\n",
              "    <tr>\n",
              "      <th>8</th>\n",
              "      <td>4050</td>\n",
              "      <td>0.873685</td>\n",
              "      <td>0.915644</td>\n",
              "    </tr>\n",
              "    <tr>\n",
              "      <th>9</th>\n",
              "      <td>4550</td>\n",
              "      <td>0.869983</td>\n",
              "      <td>0.915946</td>\n",
              "    </tr>\n",
              "    <tr>\n",
              "      <th>10</th>\n",
              "      <td>5050</td>\n",
              "      <td>0.869983</td>\n",
              "      <td>0.912005</td>\n",
              "    </tr>\n",
              "    <tr>\n",
              "      <th>11</th>\n",
              "      <td>5550</td>\n",
              "      <td>0.871834</td>\n",
              "      <td>0.914196</td>\n",
              "    </tr>\n",
              "    <tr>\n",
              "      <th>12</th>\n",
              "      <td>6050</td>\n",
              "      <td>0.869983</td>\n",
              "      <td>0.916609</td>\n",
              "    </tr>\n",
              "  </tbody>\n",
              "</table>\n",
              "</div>"
            ],
            "text/plain": [
              "    Training Size  Wordlist F1 Score  Naive F1 Score\n",
              "0              50           0.802349        0.686480\n",
              "1             550           0.867248        0.890548\n",
              "2            1050           0.874942        0.868668\n",
              "3            1550           0.870133        0.903655\n",
              "4            2050           0.871986        0.911100\n",
              "5            2550           0.873685        0.906666\n",
              "6            3050           0.871834        0.908356\n",
              "7            3550           0.869603        0.910923\n",
              "8            4050           0.873685        0.915644\n",
              "9            4550           0.869983        0.915946\n",
              "10           5050           0.869983        0.912005\n",
              "11           5550           0.871834        0.914196\n",
              "12           6050           0.869983        0.916609"
            ]
          },
          "metadata": {
            "tags": []
          }
        }
      ]
    },
    {
      "cell_type": "code",
      "metadata": {
        "colab": {
          "base_uri": "https://localhost:8080/",
          "height": 545
        },
        "id": "0hZJgTOH9Ynh",
        "outputId": "a4a17169-e92a-4c4c-9ede-8b416d159fa7"
      },
      "source": [
        "ax = finaldf.plot(kind=\"bar\",title=\"Experimental Results\",x=\"Training Size\",ylabel= \"f1 score\",figsize=(10, 8))\n",
        "\n",
        "ax.set_ylim(0,1.0)"
      ],
      "execution_count": 317,
      "outputs": [
        {
          "output_type": "execute_result",
          "data": {
            "text/plain": [
              "(0.0, 1.0)"
            ]
          },
          "metadata": {
            "tags": []
          },
          "execution_count": 317
        },
        {
          "output_type": "display_data",
          "data": {
            "image/png": "[encoded data removed]",
            "text/plain": [
              "<Figure size 720x576 with 1 Axes>"
            ]
          },
          "metadata": {
            "tags": [],
            "needs_background": "light"
          }
        }
      ]
    },
    {
      "cell_type": "code",
      "metadata": {
        "colab": {
          "base_uri": "https://localhost:8080/",
          "height": 452
        },
        "id": "ef65gmJcKL43",
        "outputId": "48ea5b49-123c-4f18-be11-020f5d338395"
      },
      "source": [
        "finaldf=pd.DataFrame()\n",
        "finaldf[\"Training Size\"]=df[\"Training Size\"]\n",
        "finaldf[\"Wordlist accuracy\"]=df2[\"accuracy\"]\n",
        "finaldf[\"Naive accuracy\"]=df[\"accuracy\"]\n",
        "display(finaldf)"
      ],
      "execution_count": 318,
      "outputs": [
        {
          "output_type": "display_data",
          "data": {
            "text/html": [
              "<div>\n",
              "<style scoped>\n",
              "    .dataframe tbody tr th:only-of-type {\n",
              "        vertical-align: middle;\n",
              "    }\n",
              "\n",
              "    .dataframe tbody tr th {\n",
              "        vertical-align: top;\n",
              "    }\n",
              "\n",
              "    .dataframe thead th {\n",
              "        text-align: right;\n",
              "    }\n",
              "</style>\n",
              "<table border=\"1\" class=\"dataframe\">\n",
              "  <thead>\n",
              "    <tr style=\"text-align: right;\">\n",
              "      <th></th>\n",
              "      <th>Training Size</th>\n",
              "      <th>Wordlist accuracy</th>\n",
              "      <th>Naive accuracy</th>\n",
              "    </tr>\n",
              "  </thead>\n",
              "  <tbody>\n",
              "    <tr>\n",
              "      <th>0</th>\n",
              "      <td>50</td>\n",
              "      <td>0.832797</td>\n",
              "      <td>0.713469</td>\n",
              "    </tr>\n",
              "    <tr>\n",
              "      <th>1</th>\n",
              "      <td>550</td>\n",
              "      <td>0.889127</td>\n",
              "      <td>0.910325</td>\n",
              "    </tr>\n",
              "    <tr>\n",
              "      <th>2</th>\n",
              "      <td>1050</td>\n",
              "      <td>0.893414</td>\n",
              "      <td>0.900798</td>\n",
              "    </tr>\n",
              "    <tr>\n",
              "      <th>3</th>\n",
              "      <td>1550</td>\n",
              "      <td>0.893533</td>\n",
              "      <td>0.921639</td>\n",
              "    </tr>\n",
              "    <tr>\n",
              "      <th>4</th>\n",
              "      <td>2050</td>\n",
              "      <td>0.894248</td>\n",
              "      <td>0.926045</td>\n",
              "    </tr>\n",
              "    <tr>\n",
              "      <th>5</th>\n",
              "      <td>2550</td>\n",
              "      <td>0.895439</td>\n",
              "      <td>0.924854</td>\n",
              "    </tr>\n",
              "    <tr>\n",
              "      <th>6</th>\n",
              "      <td>3050</td>\n",
              "      <td>0.894486</td>\n",
              "      <td>0.926045</td>\n",
              "    </tr>\n",
              "    <tr>\n",
              "      <th>7</th>\n",
              "      <td>3550</td>\n",
              "      <td>0.893176</td>\n",
              "      <td>0.927236</td>\n",
              "    </tr>\n",
              "    <tr>\n",
              "      <th>8</th>\n",
              "      <td>4050</td>\n",
              "      <td>0.895439</td>\n",
              "      <td>0.931404</td>\n",
              "    </tr>\n",
              "    <tr>\n",
              "      <th>9</th>\n",
              "      <td>4550</td>\n",
              "      <td>0.893533</td>\n",
              "      <td>0.931761</td>\n",
              "    </tr>\n",
              "    <tr>\n",
              "      <th>10</th>\n",
              "      <td>5050</td>\n",
              "      <td>0.893533</td>\n",
              "      <td>0.929022</td>\n",
              "    </tr>\n",
              "    <tr>\n",
              "      <th>11</th>\n",
              "      <td>5550</td>\n",
              "      <td>0.894486</td>\n",
              "      <td>0.930213</td>\n",
              "    </tr>\n",
              "    <tr>\n",
              "      <th>12</th>\n",
              "      <td>6050</td>\n",
              "      <td>0.893533</td>\n",
              "      <td>0.932238</td>\n",
              "    </tr>\n",
              "  </tbody>\n",
              "</table>\n",
              "</div>"
            ],
            "text/plain": [
              "    Training Size  Wordlist accuracy  Naive accuracy\n",
              "0              50           0.832797        0.713469\n",
              "1             550           0.889127        0.910325\n",
              "2            1050           0.893414        0.900798\n",
              "3            1550           0.893533        0.921639\n",
              "4            2050           0.894248        0.926045\n",
              "5            2550           0.895439        0.924854\n",
              "6            3050           0.894486        0.926045\n",
              "7            3550           0.893176        0.927236\n",
              "8            4050           0.895439        0.931404\n",
              "9            4550           0.893533        0.931761\n",
              "10           5050           0.893533        0.929022\n",
              "11           5550           0.894486        0.930213\n",
              "12           6050           0.893533        0.932238"
            ]
          },
          "metadata": {
            "tags": []
          }
        }
      ]
    },
    {
      "cell_type": "code",
      "metadata": {
        "colab": {
          "base_uri": "https://localhost:8080/",
          "height": 545
        },
        "id": "Zf0Fc2r1KSYo",
        "outputId": "dddfe4a2-0671-4ed9-95b8-b7e2e90ed18e"
      },
      "source": [
        "ax = finaldf.plot(kind=\"bar\",title=\"Experimental Results\",x=\"Training Size\",ylabel= \"accuracy\",figsize=(10, 8))\n",
        "\n",
        "ax.set_ylim(0,1.0)"
      ],
      "execution_count": 319,
      "outputs": [
        {
          "output_type": "execute_result",
          "data": {
            "text/plain": [
              "(0.0, 1.0)"
            ]
          },
          "metadata": {
            "tags": []
          },
          "execution_count": 319
        },
        {
          "output_type": "display_data",
          "data": {
            "image/png": "[encoded data removed]",
            "text/plain": [
              "<Figure size 720x576 with 1 Axes>"
            ]
          },
          "metadata": {
            "tags": [],
            "needs_background": "light"
          }
        }
      ]
    },
    {
      "cell_type": "markdown",
      "metadata": {
        "id": "0Ds6lBhdJegA"
      },
      "source": [
        "## **Effect of sample size**\n",
        "\n",
        "The results show:\n",
        "\n",
        "\n",
        "*   Wordlist classifiers perform better than naive bayes classifiers when the amount of training data is low.\n",
        "*   At the beginning (from 50 to 500) an increase in the training sample will increase the accuracy and f1 scores a lot, however we reach a point where it doesnt really matter. \n",
        "\n",
        "More data is usually better as it decreases the chance of overfitting. Having a small training sample size will make your classifier learn fake correlations that are only true for this instance of training data, hence it will make it harder to generalize. Increasing the training data might have a negative effect only if the data is noisy or if it does not properly match the class its trying to represent. This is not the case here so increasing the data does not decrease the performance of our classifiers but it does not increase it also. \n",
        "\n"
      ]
    },
    {
      "cell_type": "markdown",
      "metadata": {
        "id": "gjuuKPQrAvSu"
      },
      "source": [
        "# Question 2: Distributional Semantics\n",
        "\n",
        "In this question, you will be investigating the *distributional hypothesis*: **words which appear in similar contexts tend to have similar meanings**."
      ]
    },
    {
      "cell_type": "markdown",
      "metadata": {
        "id": "Mfr4MFbOd5nx"
      },
      "source": [
        "We are going to be using the Reuters corpus of financial documents for this part of the assignment.  When you run the following cell you should see that it contains 1,113,359 sentences."
      ]
    },
    {
      "cell_type": "code",
      "metadata": {
        "colab": {
          "base_uri": "https://localhost:8080/"
        },
        "id": "Q4kNJlEYd1qc",
        "outputId": "028d54cd-b1b5-4321-9a64-7e4422179a06"
      },
      "source": [
        "#do not change the code in this cell\n",
        "rcr = ReutersCorpusReader().finance()\n",
        "rcr.enumerate_sents()"
      ],
      "execution_count": 14,
      "outputs": [
        {
          "output_type": "execute_result",
          "data": {
            "text/plain": [
              "1113359"
            ]
          },
          "metadata": {
            "tags": []
          },
          "execution_count": 14
        }
      ]
    },
    {
      "cell_type": "markdown",
      "metadata": {
        "id": "CRApmpxneUqk"
      },
      "source": [
        "The following cell will take 2-5 minutes to run.  It will generate a unique-to-you sample of 200,000 sentences.  These sentences are tokenised and normalised for case and number for you."
      ]
    },
    {
      "cell_type": "code",
      "metadata": {
        "colab": {
          "base_uri": "https://localhost:8080/"
        },
        "id": "RSPRsF6deOAR",
        "outputId": "096b4494-a9fa-4490-f289-04f942b632f4"
      },
      "source": [
        "#do not change the code in this cell\n",
        "def normalise(tokenlist):\n",
        "    tokenlist=[token.lower() for token in tokenlist]\n",
        "    tokenlist=[\"NUM\" if token.isdigit() else token for token in tokenlist]\n",
        "    tokenlist=[\"Nth\" if (token.endswith((\"nd\",\"st\",\"th\")) and token[:-2].isdigit()) else token for token in tokenlist]\n",
        "    tokenlist=[\"NUM\" if re.search(\"^[+-]?[0-9]+\\.[0-9]\",token) else token for token in tokenlist]\n",
        "    return tokenlist\n",
        "\n",
        "random.seed(candidateno)  \n",
        "samplesize=2000\n",
        "iterations =100\n",
        "sentences=[]\n",
        "for i in range(0,iterations):\n",
        "    sentences+=[normalise(sent) for sent in rcr.sample_sents(samplesize=samplesize)]\n",
        "    print(\"Completed {}%\".format(i))\n",
        "print(\"Completed 100%\")\n"
      ],
      "execution_count": 15,
      "outputs": [
        {
          "output_type": "stream",
          "text": [
            "Completed 0%\n",
            "Completed 1%\n",
            "Completed 2%\n",
            "Completed 3%\n",
            "Completed 4%\n",
            "Completed 5%\n",
            "Completed 6%\n",
            "Completed 7%\n",
            "Completed 8%\n",
            "Completed 9%\n",
            "Completed 10%\n",
            "Completed 11%\n",
            "Completed 12%\n",
            "Completed 13%\n",
            "Completed 14%\n",
            "Completed 15%\n",
            "Completed 16%\n",
            "Completed 17%\n",
            "Completed 18%\n",
            "Completed 19%\n",
            "Completed 20%\n",
            "Completed 21%\n",
            "Completed 22%\n",
            "Completed 23%\n",
            "Completed 24%\n",
            "Completed 25%\n",
            "Completed 26%\n",
            "Completed 27%\n",
            "Completed 28%\n",
            "Completed 29%\n",
            "Completed 30%\n",
            "Completed 31%\n",
            "Completed 32%\n",
            "Completed 33%\n",
            "Completed 34%\n",
            "Completed 35%\n",
            "Completed 36%\n",
            "Completed 37%\n",
            "Completed 38%\n",
            "Completed 39%\n",
            "Completed 40%\n",
            "Completed 41%\n",
            "Completed 42%\n",
            "Completed 43%\n",
            "Completed 44%\n",
            "Completed 45%\n",
            "Completed 46%\n",
            "Completed 47%\n",
            "Completed 48%\n",
            "Completed 49%\n",
            "Completed 50%\n",
            "Completed 51%\n",
            "Completed 52%\n",
            "Completed 53%\n",
            "Completed 54%\n",
            "Completed 55%\n",
            "Completed 56%\n",
            "Completed 57%\n",
            "Completed 58%\n",
            "Completed 59%\n",
            "Completed 60%\n",
            "Completed 61%\n",
            "Completed 62%\n",
            "Completed 63%\n",
            "Completed 64%\n",
            "Completed 65%\n",
            "Completed 66%\n",
            "Completed 67%\n",
            "Completed 68%\n",
            "Completed 69%\n",
            "Completed 70%\n",
            "Completed 71%\n",
            "Completed 72%\n",
            "Completed 73%\n",
            "Completed 74%\n",
            "Completed 75%\n",
            "Completed 76%\n",
            "Completed 77%\n",
            "Completed 78%\n",
            "Completed 79%\n",
            "Completed 80%\n",
            "Completed 81%\n",
            "Completed 82%\n",
            "Completed 83%\n",
            "Completed 84%\n",
            "Completed 85%\n",
            "Completed 86%\n",
            "Completed 87%\n",
            "Completed 88%\n",
            "Completed 89%\n",
            "Completed 90%\n",
            "Completed 91%\n",
            "Completed 92%\n",
            "Completed 93%\n",
            "Completed 94%\n",
            "Completed 95%\n",
            "Completed 96%\n",
            "Completed 97%\n",
            "Completed 98%\n",
            "Completed 99%\n",
            "Completed 100%\n"
          ],
          "name": "stdout"
        }
      ]
    },
    {
      "cell_type": "markdown",
      "metadata": {
        "id": "rDjqbB-WfhRg"
      },
      "source": [
        "`generate_features()` will used and explored below."
      ]
    },
    {
      "cell_type": "code",
      "metadata": {
        "id": "FazdXtqJe1s-"
      },
      "source": [
        "# do not change the code in this cell\n",
        "def generate_features(sentences,window=1):\n",
        "  \n",
        "    mydict={}\n",
        "    for sentence in sentences:\n",
        "        #look at each token and its positional index, i\n",
        "        for i,token in enumerate(sentence):\n",
        "            #get the value of the current token, if not in the dictionary yet set it to an empty dictionary {}\n",
        "            current=mydict.get(token,{})\n",
        "            #create a list of 'co-occuring' features consisting of all the neighbouring words within the specified window of the current token\n",
        "            features=sentence[max(0,i-window):i]+sentence[i+1:i+window+1]\n",
        "            \n",
        "            #each token is a key to a dictionary of feature value pairs\n",
        "            #add all the unique word features to the dictionary of the current token as keys and their corresponding co-occurring frequencies as values\n",
        "            for feature in features:\n",
        "                current[feature]=current.get(feature,0)+1\n",
        "            mydict[token]=current\n",
        "    return mydict"
      ],
      "execution_count": 16,
      "outputs": []
    },
    {
      "cell_type": "markdown",
      "metadata": {
        "id": "fLv0yZx7f4ol"
      },
      "source": [
        "a) Run `generate_features(sentences[:5])`. With reference to the code and the specific examples, explain how the output was generated [5 marks]"
      ]
    },
    {
      "cell_type": "markdown",
      "metadata": {
        "id": "b0mtvE4YPvWE"
      },
      "source": [
        "**generate_features function** is described in the comments above. It takes a list of sentences and a window size and returns a dictionary of dictionaries, where the key to the outer dictionary is the words in the corpus and the key to each internal dictionary is a another word (a co-occurrence feature). The value in the internal dictionary should be the number of the times the words co-occur together (within the given window)."
      ]
    },
    {
      "cell_type": "code",
      "metadata": {
        "colab": {
          "base_uri": "https://localhost:8080/"
        },
        "id": "3rnUZ_EogIW8",
        "outputId": "399ede44-fc05-42f6-935d-0a9229b74902"
      },
      "source": [
        "generate_features(sentences[:5])"
      ],
      "execution_count": 17,
      "outputs": [
        {
          "output_type": "execute_result",
          "data": {
            "text/plain": [
              "{\"''\": {',': 1, '.': 1, 'he': 1},\n",
              " '(': {'bln': 1, 'cpi': 1, 'exports': 1, 'index': 1},\n",
              " ')': {'apr': 1, 'cpi': 1, 'on': 1, 'pts': 1},\n",
              " ',': {\"''\": 1,\n",
              "  'NUM': 3,\n",
              "  'age-bracket': 1,\n",
              "  'or': 1,\n",
              "  'organisation': 1,\n",
              "  'so': 1},\n",
              " '-': {'-': 2, '1,097.1': 1},\n",
              " '.': {\"''\": 1, 'deficit-raines': 1, 'forward': 1, 'said': 1, 'tuesday': 1},\n",
              " '1,097.1': {'-': 1, '1,291.9': 1},\n",
              " '1,291.9': {'1,097.1': 1, '1,357.1': 1},\n",
              " '1,357.1': {'1,291.9': 1, 'apr': 1},\n",
              " 'NUM': {',': 3, 'about': 1, 'even': 1, 'percent': 1},\n",
              " '``': {'i': 1, 'the': 1},\n",
              " 'a': {'common': 1, 'finding': 1},\n",
              " 'about': {'NUM': 1, 'see': 1},\n",
              " 'age-bracket': {',': 1, 'that': 1},\n",
              " 'an': {'of': 1, 'unexpectedly': 1},\n",
              " 'and': {'jospin': 1, 'kohl': 1},\n",
              " 'apr': {')': 1, '1,357.1': 1},\n",
              " 'be': {'happy': 1, 'would': 1},\n",
              " 'bln': {'(': 1, 'pts': 1},\n",
              " 'can': {'renew': 1, 'you': 1},\n",
              " 'common': {'a': 1, 'way': 1},\n",
              " 'consumer': {'june': 1, 'price': 1},\n",
              " 'cpi': {'(': 1, ')': 1},\n",
              " 'cut': {'deficit-raines': 1, 'to': 1},\n",
              " 'deficit-raines': {'.': 1, 'cut': 1},\n",
              " 'economy': {'needed': 1, 'strong': 1},\n",
              " 'euro': {'rides': 1, 'the': 1},\n",
              " 'even': {'NUM': 1, 'or': 1},\n",
              " 'exports': {'(': 1},\n",
              " 'fate': {'of': 1, 'the': 1},\n",
              " 'finding': {'a': 1, 'jospin': 1},\n",
              " 'follows': {'m1': 1, 'the': 1},\n",
              " 'forward': {'.': 1, 'way': 1},\n",
              " 'happy': {'be': 1, 'to': 1},\n",
              " 'he': {\"''\": 1, 'said': 1},\n",
              " 'high': {'june': 1, 'unexpectedly': 1},\n",
              " 'i': {'``': 1, 'would': 1},\n",
              " 'in': {'m1': 1, 'percent': 1, 'rise': 1, 'that': 1},\n",
              " 'index': {'(': 1, 'price': 1},\n",
              " 'jospin': {'and': 1, 'finding': 1},\n",
              " 'june': {'consumer': 1, 'high': 1},\n",
              " 'kohl': {'and': 1, 'on': 1},\n",
              " 'm1': {'follows': 1, 'in': 1},\n",
              " 'more': {'than': 1},\n",
              " 'needed': {'economy': 1, 'to': 1},\n",
              " 'of': {'an': 1, 'fate': 1, 'release': 1, 'the': 1},\n",
              " 'on': {')': 1, 'kohl': 1, 'rides': 1, 'tuesday': 1},\n",
              " 'or': {',': 1, 'even': 1},\n",
              " 'organisation': {',': 1, 'the': 1},\n",
              " 'percent': {'NUM': 1, 'in': 1},\n",
              " 'price': {'consumer': 1, 'index': 1},\n",
              " 'pts': {')': 1, 'bln': 1},\n",
              " 'relatively': {'sharp': 1, 'the': 1},\n",
              " 'release': {'of': 1, 'the': 1},\n",
              " 'renew': {'can': 1, 'the': 1},\n",
              " 'rides': {'euro': 1, 'on': 1},\n",
              " 'rise': {'in': 1, 'sharp': 1},\n",
              " 'said': {'.': 1, 'he': 1},\n",
              " 'see': {'about': 1, 'to': 1},\n",
              " 'sharp': {'relatively': 1, 'rise': 1},\n",
              " 'so': {',': 1, 'that': 1},\n",
              " 'strong': {'economy': 1, 'than': 1},\n",
              " 'than': {'more': 1, 'strong': 1},\n",
              " 'that': {'age-bracket': 1, 'in': 1, 'so': 1, 'you': 1},\n",
              " 'the': {'``': 1,\n",
              "  'euro': 1,\n",
              "  'fate': 1,\n",
              "  'follows': 1,\n",
              "  'of': 1,\n",
              "  'organisation': 1,\n",
              "  'relatively': 1,\n",
              "  'release': 1,\n",
              "  'renew': 1},\n",
              " 'to': {'cut': 1, 'happy': 1, 'needed': 1, 'see': 1},\n",
              " 'tuesday': {'.': 1, 'on': 1},\n",
              " 'unexpectedly': {'an': 1, 'high': 1},\n",
              " 'way': {'common': 1, 'forward': 1},\n",
              " 'would': {'be': 1, 'i': 1},\n",
              " 'you': {'can': 1, 'that': 1}}"
            ]
          },
          "metadata": {
            "tags": []
          },
          "execution_count": 17
        }
      ]
    },
    {
      "cell_type": "markdown",
      "metadata": {
        "id": "bo5A4hKGUAzE"
      },
      "source": [
        "## **Example from the output above**\n",
        "The above output shows that the token 'a' co-occured with feature 'common' once and with feature 'finding' also once in the first 5 sentences of our data. Since the window size here is 1 then these 2 features were right next to 'a' when they cooccurred together."
      ]
    },
    {
      "cell_type": "markdown",
      "metadata": {
        "id": "nnfWmKkChEtG"
      },
      "source": [
        "b) Write code and **find** the 1000 most frequently occurring words that\n",
        "* are in your sample; AND\n",
        "* have at least one noun sense according to WordNet [5 marks]"
      ]
    },
    {
      "cell_type": "code",
      "metadata": {
        "id": "lkEfeobhV6Bb"
      },
      "source": [
        "#represent the sentences as a list of tokens\n",
        "bagoftokens=[]\n",
        "for sent in sentences:\n",
        "  for token in sent:\n",
        "    bagoftokens.append(token)\n",
        "\n",
        "\n",
        "#initialize a dictionary to story the word frequency pairs\n",
        "freqTokens={}\n",
        "#calculate and store the frequency of each unique word in the list of word frequency pair\n",
        "for token in bagoftokens:\n",
        "  freqTokens[token]= freqTokens.get(token,0)+1"
      ],
      "execution_count": 19,
      "outputs": []
    },
    {
      "cell_type": "code",
      "metadata": {
        "colab": {
          "base_uri": "https://localhost:8080/"
        },
        "id": "FnAkbd-Rai-s",
        "outputId": "d1b8174f-d504-49e2-9dee-b26daac4b3f3"
      },
      "source": [
        "len(freqTokens)"
      ],
      "execution_count": 20,
      "outputs": [
        {
          "output_type": "execute_result",
          "data": {
            "text/plain": [
              "63167"
            ]
          },
          "metadata": {
            "tags": []
          },
          "execution_count": 20
        }
      ]
    },
    {
      "cell_type": "code",
      "metadata": {
        "id": "uCMXknGRcbEO"
      },
      "source": [
        "#sort the dictionary in descending order based on its values \n",
        "sortedFreq = dict(sorted(freqTokens.items(), key=lambda kv: kv[1], reverse=True))"
      ],
      "execution_count": 21,
      "outputs": []
    },
    {
      "cell_type": "code",
      "metadata": {
        "id": "7UrXYGIydIr3"
      },
      "source": [
        "#initialize a dictionary to store the top 1000 most occurring words with a noun sense\n",
        "top1000Dict={}\n",
        "counter=0\n",
        "\n",
        "#for each token in the keys of the dictionary\n",
        "for token in sortedFreq.keys():\n",
        "  #if our dictionary still does not contain 1000 words\n",
        "  if counter<1000:\n",
        "    #get the list of noun synsets of token\n",
        "    wordSyns=wn.synsets(token,wn.NOUN)\n",
        "    #if the list of nouns synsets is not empty (if its empty the word does not have a noun sense)\n",
        "    if len(wordSyns) !=0:\n",
        "      counter=counter+1\n",
        "      #add the token with its frequency value to the dictionary\n",
        "      top1000Dict[token]=sortedFreq[token]\n",
        "  \n",
        "  #when we have our 1000 words break the loop\n",
        "  else:\n",
        "    break\n"
      ],
      "execution_count": 22,
      "outputs": []
    },
    {
      "cell_type": "code",
      "metadata": {
        "id": "opO2PAMV4_uc",
        "colab": {
          "base_uri": "https://localhost:8080/"
        },
        "outputId": "a123caa3-ba4f-49db-cde7-6b25d1cd0056"
      },
      "source": [
        "# do not change the code in this cell.  It relates to part c)\n",
        "wordpair=(\"house\",\"garden\")\n",
        "concept_1=wn.synsets(wordpair[0])[0]\n",
        "concept_2=wn.synsets(wordpair[1])[0]\n",
        "print(\"Path similarity between 1st sense of {} and 1st sense of {} is {}\".format(wordpair[0],wordpair[1],wn.path_similarity(concept_1,concept_2)))\n",
        "print(\"Resnik similarity between 1st sense of {} and 1st sense of {} is {}\".format(wordpair[0],wordpair[1],wn.res_similarity(concept_1,concept_2, brown_ic)))\n",
        "print(\"Lin similarity between 1st sense of {} and 1st sense of {} is {}\".format(wordpair[0],wordpair[1],wn.lin_similarity(concept_1,concept_2, brown_ic)))"
      ],
      "execution_count": 23,
      "outputs": [
        {
          "output_type": "stream",
          "text": [
            "Path similarity between 1st sense of house and 1st sense of garden is 0.08333333333333333\n",
            "Resnik similarity between 1st sense of house and 1st sense of garden is 1.2900256809649917\n",
            "Lin similarity between 1st sense of house and 1st sense of garden is 0.15380807721262396\n"
          ],
          "name": "stdout"
        }
      ]
    },
    {
      "cell_type": "markdown",
      "metadata": {
        "id": "ezzW3xqpszB2"
      },
      "source": [
        "c) \n",
        "i) The code above outputs the path similarity score, the Resnik similarity score and the Lin similarity score for a pair of concepts in WordNet.  Explain what each of these numbers means.\n",
        "\n",
        "ii) For every possible pair of words identified in Q2, determine the semantic similarity of the pair according to WordNet.  Make sure you justify your choice of semantic similarity measure and explain and justify the strategy used for words with multiple senses.\n",
        "\n",
        "iii) Identify the 10 most similar words (according to WordNet) to the most frequent word in the corpus [15 marks]"
      ]
    },
    {
      "cell_type": "markdown",
      "metadata": {
        "id": "j0urU77Vk96V"
      },
      "source": [
        "##**Similarity Function**\n",
        "\n",
        "\n",
        "*   parameters: word pair and the similarity measure ('path', 'res', or 'lin')\n",
        "*   the function calculates the semantic simalirty between all the possible pair of noun senses of the words and returns the max simaliry measure\n",
        "*   We return the max similarity measure because: The similarity of two words with a given part of speech is defined as the **MAXIMUM** similarity of all possible sense pairings.\n",
        "\n",
        "\n",
        "\n",
        "\n",
        "\n",
        "\n"
      ]
    },
    {
      "cell_type": "code",
      "metadata": {
        "id": "NSbZtT6ooDeF"
      },
      "source": [
        "#function the calculates the similarity between 2 words, takes as a parameter the choice of the semantic simalirty measure \n",
        "def word_similarity(w1, w2, measure=\"lin\"):\n",
        "  #list of all the noun senses of the w1 and w2\n",
        "  n1=wn.synsets(w1,wn.NOUN)\n",
        "  n2=wn.synsets(w2,wn.NOUN)\n",
        "  \n",
        "  \n",
        "  #for each noun sense in w1\n",
        "  for syn1 in n1:\n",
        "    maxSim=0\n",
        "    #for each noun sense in w2\n",
        "    for syn2 in n2:\n",
        "      #calculate the similarity\n",
        "      if (measure==\"path\"):\n",
        "        curr=wn.path_similarity(syn1,syn2)\n",
        "      elif (measure==\"lin\"):\n",
        "        curr=wn.lin_similarity(syn1,syn2,brown_ic)\n",
        "      elif (measure==\"res\"):\n",
        "        curr=wn.res_similarity(syn1,syn2,brown_ic)\n",
        "      #take the max simaliry if more than one noun senses exists\n",
        "      if curr>maxSim:\n",
        "        maxSim=curr\n",
        "  return maxSim"
      ],
      "execution_count": 25,
      "outputs": []
    },
    {
      "cell_type": "markdown",
      "metadata": {
        "id": "GtYeomoPjj9o"
      },
      "source": [
        "## **Path Similarity Measure**\n",
        "\n",
        "\n",
        "*   Based on the intuition that more similar concept(words) are closeer together in the hierarchy.\n",
        "*   The shorter the path between 2 words in the hierarchy the greater the similarity between them.\n",
        "*   Equation: sim(synsetA,synsetB)=1/(1+lengthOfPath(synsetA,synsetB))\n",
        "\n",
        "\n",
        "\n",
        "\n",
        "\n",
        "\n",
        "\n"
      ]
    },
    {
      "cell_type": "code",
      "metadata": {
        "id": "cBJ2fpwyvLsS",
        "colab": {
          "base_uri": "https://localhost:8080/"
        },
        "outputId": "1de5ef02-4550-46cb-c724-0d5e0b9d6d33"
      },
      "source": [
        "\n",
        "startTime=time.time()\n",
        "\n",
        "#paths Similarity for all pair of words in the top 1000\n",
        "pathsimList=[]\n",
        "counter=0\n",
        "for word in top1000Dict.keys():\n",
        "  counter=counter +1\n",
        "  #to monitor progress\n",
        "  print(counter)\n",
        "  for word2 in top1000Dict.keys():\n",
        "    #update the list with a tuple where the first and second elements are the pair of words being compared and the third element is their path similarity\n",
        "    pathsimList.append((word,word2,word_similarity(word,word2, \"path\")))\n",
        "finishTime=time.time()\n",
        "#execution time\n",
        "pathTime=finishTime-startTime\n"
      ],
      "execution_count": 149,
      "outputs": [
        {
          "output_type": "stream",
          "text": [
            "1\n",
            "2\n",
            "3\n",
            "4\n",
            "5\n",
            "6\n",
            "7\n",
            "8\n",
            "9\n",
            "10\n",
            "11\n",
            "12\n",
            "13\n",
            "14\n",
            "15\n",
            "16\n",
            "17\n",
            "18\n",
            "19\n",
            "20\n",
            "21\n",
            "22\n",
            "23\n",
            "24\n",
            "25\n",
            "26\n",
            "27\n",
            "28\n",
            "29\n",
            "30\n",
            "31\n",
            "32\n",
            "33\n",
            "34\n",
            "35\n",
            "36\n",
            "37\n",
            "38\n",
            "39\n",
            "40\n",
            "41\n",
            "42\n",
            "43\n",
            "44\n",
            "45\n",
            "46\n",
            "47\n",
            "48\n",
            "49\n",
            "50\n",
            "51\n",
            "52\n",
            "53\n",
            "54\n",
            "55\n",
            "56\n",
            "57\n",
            "58\n",
            "59\n",
            "60\n",
            "61\n",
            "62\n",
            "63\n",
            "64\n",
            "65\n",
            "66\n",
            "67\n",
            "68\n",
            "69\n",
            "70\n",
            "71\n",
            "72\n",
            "73\n",
            "74\n",
            "75\n",
            "76\n",
            "77\n",
            "78\n",
            "79\n",
            "80\n",
            "81\n",
            "82\n",
            "83\n",
            "84\n",
            "85\n",
            "86\n",
            "87\n",
            "88\n",
            "89\n",
            "90\n",
            "91\n",
            "92\n",
            "93\n",
            "94\n",
            "95\n",
            "96\n",
            "97\n",
            "98\n",
            "99\n",
            "100\n",
            "101\n",
            "102\n",
            "103\n",
            "104\n",
            "105\n",
            "106\n",
            "107\n",
            "108\n",
            "109\n",
            "110\n",
            "111\n",
            "112\n",
            "113\n",
            "114\n",
            "115\n",
            "116\n",
            "117\n",
            "118\n",
            "119\n",
            "120\n",
            "121\n",
            "122\n",
            "123\n",
            "124\n",
            "125\n",
            "126\n",
            "127\n",
            "128\n",
            "129\n",
            "130\n",
            "131\n",
            "132\n",
            "133\n",
            "134\n",
            "135\n",
            "136\n",
            "137\n",
            "138\n",
            "139\n",
            "140\n",
            "141\n",
            "142\n",
            "143\n",
            "144\n",
            "145\n",
            "146\n",
            "147\n",
            "148\n",
            "149\n",
            "150\n",
            "151\n",
            "152\n",
            "153\n",
            "154\n",
            "155\n",
            "156\n",
            "157\n",
            "158\n",
            "159\n",
            "160\n",
            "161\n",
            "162\n",
            "163\n",
            "164\n",
            "165\n",
            "166\n",
            "167\n",
            "168\n",
            "169\n",
            "170\n",
            "171\n",
            "172\n",
            "173\n",
            "174\n",
            "175\n",
            "176\n",
            "177\n",
            "178\n",
            "179\n",
            "180\n",
            "181\n",
            "182\n",
            "183\n",
            "184\n",
            "185\n",
            "186\n",
            "187\n",
            "188\n",
            "189\n",
            "190\n",
            "191\n",
            "192\n",
            "193\n",
            "194\n",
            "195\n",
            "196\n",
            "197\n",
            "198\n",
            "199\n",
            "200\n",
            "201\n",
            "202\n",
            "203\n",
            "204\n",
            "205\n",
            "206\n",
            "207\n",
            "208\n",
            "209\n",
            "210\n",
            "211\n",
            "212\n",
            "213\n",
            "214\n",
            "215\n",
            "216\n",
            "217\n",
            "218\n",
            "219\n",
            "220\n",
            "221\n",
            "222\n",
            "223\n",
            "224\n",
            "225\n",
            "226\n",
            "227\n",
            "228\n",
            "229\n",
            "230\n",
            "231\n",
            "232\n",
            "233\n",
            "234\n",
            "235\n",
            "236\n",
            "237\n",
            "238\n",
            "239\n",
            "240\n",
            "241\n",
            "242\n",
            "243\n",
            "244\n",
            "245\n",
            "246\n",
            "247\n",
            "248\n",
            "249\n",
            "250\n",
            "251\n",
            "252\n",
            "253\n",
            "254\n",
            "255\n",
            "256\n",
            "257\n",
            "258\n",
            "259\n",
            "260\n",
            "261\n",
            "262\n",
            "263\n",
            "264\n",
            "265\n",
            "266\n",
            "267\n",
            "268\n",
            "269\n",
            "270\n",
            "271\n",
            "272\n",
            "273\n",
            "274\n",
            "275\n",
            "276\n",
            "277\n",
            "278\n",
            "279\n",
            "280\n",
            "281\n",
            "282\n",
            "283\n",
            "284\n",
            "285\n",
            "286\n",
            "287\n",
            "288\n",
            "289\n",
            "290\n",
            "291\n",
            "292\n",
            "293\n",
            "294\n",
            "295\n",
            "296\n",
            "297\n",
            "298\n",
            "299\n",
            "300\n",
            "301\n",
            "302\n",
            "303\n",
            "304\n",
            "305\n",
            "306\n",
            "307\n",
            "308\n",
            "309\n",
            "310\n",
            "311\n",
            "312\n",
            "313\n",
            "314\n",
            "315\n",
            "316\n",
            "317\n",
            "318\n",
            "319\n",
            "320\n",
            "321\n",
            "322\n",
            "323\n",
            "324\n",
            "325\n",
            "326\n",
            "327\n",
            "328\n",
            "329\n",
            "330\n",
            "331\n",
            "332\n",
            "333\n",
            "334\n",
            "335\n",
            "336\n",
            "337\n",
            "338\n",
            "339\n",
            "340\n",
            "341\n",
            "342\n",
            "343\n",
            "344\n",
            "345\n",
            "346\n",
            "347\n",
            "348\n",
            "349\n",
            "350\n",
            "351\n",
            "352\n",
            "353\n",
            "354\n",
            "355\n",
            "356\n",
            "357\n",
            "358\n",
            "359\n",
            "360\n",
            "361\n",
            "362\n",
            "363\n",
            "364\n",
            "365\n",
            "366\n",
            "367\n",
            "368\n",
            "369\n",
            "370\n",
            "371\n",
            "372\n",
            "373\n",
            "374\n",
            "375\n",
            "376\n",
            "377\n",
            "378\n",
            "379\n",
            "380\n",
            "381\n",
            "382\n",
            "383\n",
            "384\n",
            "385\n",
            "386\n",
            "387\n",
            "388\n",
            "389\n",
            "390\n",
            "391\n",
            "392\n",
            "393\n",
            "394\n",
            "395\n",
            "396\n",
            "397\n",
            "398\n",
            "399\n",
            "400\n",
            "401\n",
            "402\n",
            "403\n",
            "404\n",
            "405\n",
            "406\n",
            "407\n",
            "408\n",
            "409\n",
            "410\n",
            "411\n",
            "412\n",
            "413\n",
            "414\n",
            "415\n",
            "416\n",
            "417\n",
            "418\n",
            "419\n",
            "420\n",
            "421\n",
            "422\n",
            "423\n",
            "424\n",
            "425\n",
            "426\n",
            "427\n",
            "428\n",
            "429\n",
            "430\n",
            "431\n",
            "432\n",
            "433\n",
            "434\n",
            "435\n",
            "436\n",
            "437\n",
            "438\n",
            "439\n",
            "440\n",
            "441\n",
            "442\n",
            "443\n",
            "444\n",
            "445\n",
            "446\n",
            "447\n",
            "448\n",
            "449\n",
            "450\n",
            "451\n",
            "452\n",
            "453\n",
            "454\n",
            "455\n",
            "456\n",
            "457\n",
            "458\n",
            "459\n",
            "460\n",
            "461\n",
            "462\n",
            "463\n",
            "464\n",
            "465\n",
            "466\n",
            "467\n",
            "468\n",
            "469\n",
            "470\n",
            "471\n",
            "472\n",
            "473\n",
            "474\n",
            "475\n",
            "476\n",
            "477\n",
            "478\n",
            "479\n",
            "480\n",
            "481\n",
            "482\n",
            "483\n",
            "484\n",
            "485\n",
            "486\n",
            "487\n",
            "488\n",
            "489\n",
            "490\n",
            "491\n",
            "492\n",
            "493\n",
            "494\n",
            "495\n",
            "496\n",
            "497\n",
            "498\n",
            "499\n",
            "500\n",
            "501\n",
            "502\n",
            "503\n",
            "504\n",
            "505\n",
            "506\n",
            "507\n",
            "508\n",
            "509\n",
            "510\n",
            "511\n",
            "512\n",
            "513\n",
            "514\n",
            "515\n",
            "516\n",
            "517\n",
            "518\n",
            "519\n",
            "520\n",
            "521\n",
            "522\n",
            "523\n",
            "524\n",
            "525\n",
            "526\n",
            "527\n",
            "528\n",
            "529\n",
            "530\n",
            "531\n",
            "532\n",
            "533\n",
            "534\n",
            "535\n",
            "536\n",
            "537\n",
            "538\n",
            "539\n",
            "540\n",
            "541\n",
            "542\n",
            "543\n",
            "544\n",
            "545\n",
            "546\n",
            "547\n",
            "548\n",
            "549\n",
            "550\n",
            "551\n",
            "552\n",
            "553\n",
            "554\n",
            "555\n",
            "556\n",
            "557\n",
            "558\n",
            "559\n",
            "560\n",
            "561\n",
            "562\n",
            "563\n",
            "564\n",
            "565\n",
            "566\n",
            "567\n",
            "568\n",
            "569\n",
            "570\n",
            "571\n",
            "572\n",
            "573\n",
            "574\n",
            "575\n",
            "576\n",
            "577\n",
            "578\n",
            "579\n",
            "580\n",
            "581\n",
            "582\n",
            "583\n",
            "584\n",
            "585\n",
            "586\n",
            "587\n",
            "588\n",
            "589\n",
            "590\n",
            "591\n",
            "592\n",
            "593\n",
            "594\n",
            "595\n",
            "596\n",
            "597\n",
            "598\n",
            "599\n",
            "600\n",
            "601\n",
            "602\n",
            "603\n",
            "604\n",
            "605\n",
            "606\n",
            "607\n",
            "608\n",
            "609\n",
            "610\n",
            "611\n",
            "612\n",
            "613\n",
            "614\n",
            "615\n",
            "616\n",
            "617\n",
            "618\n",
            "619\n",
            "620\n",
            "621\n",
            "622\n",
            "623\n",
            "624\n",
            "625\n",
            "626\n",
            "627\n",
            "628\n",
            "629\n",
            "630\n",
            "631\n",
            "632\n",
            "633\n",
            "634\n",
            "635\n",
            "636\n",
            "637\n",
            "638\n",
            "639\n",
            "640\n",
            "641\n",
            "642\n",
            "643\n",
            "644\n",
            "645\n",
            "646\n",
            "647\n",
            "648\n",
            "649\n",
            "650\n",
            "651\n",
            "652\n",
            "653\n",
            "654\n",
            "655\n",
            "656\n",
            "657\n",
            "658\n",
            "659\n",
            "660\n",
            "661\n",
            "662\n",
            "663\n",
            "664\n",
            "665\n",
            "666\n",
            "667\n",
            "668\n",
            "669\n",
            "670\n",
            "671\n",
            "672\n",
            "673\n",
            "674\n",
            "675\n",
            "676\n",
            "677\n",
            "678\n",
            "679\n",
            "680\n",
            "681\n",
            "682\n",
            "683\n",
            "684\n",
            "685\n",
            "686\n",
            "687\n",
            "688\n",
            "689\n",
            "690\n",
            "691\n",
            "692\n",
            "693\n",
            "694\n",
            "695\n",
            "696\n",
            "697\n",
            "698\n",
            "699\n",
            "700\n",
            "701\n",
            "702\n",
            "703\n",
            "704\n",
            "705\n",
            "706\n",
            "707\n",
            "708\n",
            "709\n",
            "710\n",
            "711\n",
            "712\n",
            "713\n",
            "714\n",
            "715\n",
            "716\n",
            "717\n",
            "718\n",
            "719\n",
            "720\n",
            "721\n",
            "722\n",
            "723\n",
            "724\n",
            "725\n",
            "726\n",
            "727\n",
            "728\n",
            "729\n",
            "730\n",
            "731\n",
            "732\n",
            "733\n",
            "734\n",
            "735\n",
            "736\n",
            "737\n",
            "738\n",
            "739\n",
            "740\n",
            "741\n",
            "742\n",
            "743\n",
            "744\n",
            "745\n",
            "746\n",
            "747\n",
            "748\n",
            "749\n",
            "750\n",
            "751\n",
            "752\n",
            "753\n",
            "754\n",
            "755\n",
            "756\n",
            "757\n",
            "758\n",
            "759\n",
            "760\n",
            "761\n",
            "762\n",
            "763\n",
            "764\n",
            "765\n",
            "766\n",
            "767\n",
            "768\n",
            "769\n",
            "770\n",
            "771\n",
            "772\n",
            "773\n",
            "774\n",
            "775\n",
            "776\n",
            "777\n",
            "778\n",
            "779\n",
            "780\n",
            "781\n",
            "782\n",
            "783\n",
            "784\n",
            "785\n",
            "786\n",
            "787\n",
            "788\n",
            "789\n",
            "790\n",
            "791\n",
            "792\n",
            "793\n",
            "794\n",
            "795\n",
            "796\n",
            "797\n",
            "798\n",
            "799\n",
            "800\n",
            "801\n",
            "802\n",
            "803\n",
            "804\n",
            "805\n",
            "806\n",
            "807\n",
            "808\n",
            "809\n",
            "810\n",
            "811\n",
            "812\n",
            "813\n",
            "814\n",
            "815\n",
            "816\n",
            "817\n",
            "818\n",
            "819\n",
            "820\n",
            "821\n",
            "822\n",
            "823\n",
            "824\n",
            "825\n",
            "826\n",
            "827\n",
            "828\n",
            "829\n",
            "830\n",
            "831\n",
            "832\n",
            "833\n",
            "834\n",
            "835\n",
            "836\n",
            "837\n",
            "838\n",
            "839\n",
            "840\n",
            "841\n",
            "842\n",
            "843\n",
            "844\n",
            "845\n",
            "846\n",
            "847\n",
            "848\n",
            "849\n",
            "850\n",
            "851\n",
            "852\n",
            "853\n",
            "854\n",
            "855\n",
            "856\n",
            "857\n",
            "858\n",
            "859\n",
            "860\n",
            "861\n",
            "862\n",
            "863\n",
            "864\n",
            "865\n",
            "866\n",
            "867\n",
            "868\n",
            "869\n",
            "870\n",
            "871\n",
            "872\n",
            "873\n",
            "874\n",
            "875\n",
            "876\n",
            "877\n",
            "878\n",
            "879\n",
            "880\n",
            "881\n",
            "882\n",
            "883\n",
            "884\n",
            "885\n",
            "886\n",
            "887\n",
            "888\n",
            "889\n",
            "890\n",
            "891\n",
            "892\n",
            "893\n",
            "894\n",
            "895\n",
            "896\n",
            "897\n",
            "898\n",
            "899\n",
            "900\n",
            "901\n",
            "902\n",
            "903\n",
            "904\n",
            "905\n",
            "906\n",
            "907\n",
            "908\n",
            "909\n",
            "910\n",
            "911\n",
            "912\n",
            "913\n",
            "914\n",
            "915\n",
            "916\n",
            "917\n",
            "918\n",
            "919\n",
            "920\n",
            "921\n",
            "922\n",
            "923\n",
            "924\n",
            "925\n",
            "926\n",
            "927\n",
            "928\n",
            "929\n",
            "930\n",
            "931\n",
            "932\n",
            "933\n",
            "934\n",
            "935\n",
            "936\n",
            "937\n",
            "938\n",
            "939\n",
            "940\n",
            "941\n",
            "942\n",
            "943\n",
            "944\n",
            "945\n",
            "946\n",
            "947\n",
            "948\n",
            "949\n",
            "950\n",
            "951\n",
            "952\n",
            "953\n",
            "954\n",
            "955\n",
            "956\n",
            "957\n",
            "958\n",
            "959\n",
            "960\n",
            "961\n",
            "962\n",
            "963\n",
            "964\n",
            "965\n",
            "966\n",
            "967\n",
            "968\n",
            "969\n",
            "970\n",
            "971\n",
            "972\n",
            "973\n",
            "974\n",
            "975\n",
            "976\n",
            "977\n",
            "978\n",
            "979\n",
            "980\n",
            "981\n",
            "982\n",
            "983\n",
            "984\n",
            "985\n",
            "986\n",
            "987\n",
            "988\n",
            "989\n",
            "990\n",
            "991\n",
            "992\n",
            "993\n",
            "994\n",
            "995\n",
            "996\n",
            "997\n",
            "998\n",
            "999\n",
            "1000\n"
          ],
          "name": "stdout"
        }
      ]
    },
    {
      "cell_type": "code",
      "metadata": {
        "colab": {
          "base_uri": "https://localhost:8080/"
        },
        "id": "oXQ2svdNp3La",
        "outputId": "acd47706-2c13-43f5-8f97-c1acf768a531"
      },
      "source": [
        "pathTime"
      ],
      "execution_count": 151,
      "outputs": [
        {
          "output_type": "execute_result",
          "data": {
            "text/plain": [
              "2639.4668786525726"
            ]
          },
          "metadata": {
            "tags": []
          },
          "execution_count": 151
        }
      ]
    },
    {
      "cell_type": "code",
      "metadata": {
        "colab": {
          "base_uri": "https://localhost:8080/"
        },
        "id": "rhs5gvRE5tQp",
        "outputId": "33d4fccb-bfd5-4d77-bcd1-680a9374ab0b"
      },
      "source": [
        "pathsimList[:30]"
      ],
      "execution_count": 152,
      "outputs": [
        {
          "output_type": "execute_result",
          "data": {
            "text/plain": [
              "[('in', 'in', 1.0),\n",
              " ('in', 'a', 0.0625),\n",
              " ('in', 'percent', 0.058823529411764705),\n",
              " ('in', 'it', 0.05555555555555555),\n",
              " ('in', 'be', 0.07142857142857142),\n",
              " ('in', 'pct', 0.058823529411764705),\n",
              " ('in', 'at', 0.07692307692307693),\n",
              " ('in', 'was', 0.3333333333333333),\n",
              " ('in', 'will', 0.0625),\n",
              " ('in', 'as', 0.16666666666666666),\n",
              " ('in', 'he', 0.07692307692307693),\n",
              " ('in', 'bank', 0.09090909090909091),\n",
              " ('in', 'year', 0.06666666666666667),\n",
              " ('in', 'have', 0.08333333333333333),\n",
              " ('in', 'are', 0.0625),\n",
              " ('in', 'million', 0.06666666666666667),\n",
              " ('in', 'has', 0.09090909090909091),\n",
              " ('in', 'may', 0.058823529411764705),\n",
              " ('in', 'its', 0.05555555555555555),\n",
              " ('in', 'government', 0.0625),\n",
              " ('in', 'an', 0.05555555555555555),\n",
              " ('in', 'billion', 0.06666666666666667),\n",
              " ('in', 'uk', 0.14285714285714285),\n",
              " ('in', 'tax', 0.058823529411764705),\n",
              " ('in', 'rate', 0.07142857142857142),\n",
              " ('in', 'trade', 0.06666666666666667),\n",
              " ('in', 'budget', 0.058823529411764705),\n",
              " ('in', 'more', 0.07142857142857142),\n",
              " ('in', 'growth', 0.1111111111111111),\n",
              " ('in', 'last', 0.07142857142857142)]"
            ]
          },
          "metadata": {
            "tags": []
          },
          "execution_count": 152
        }
      ]
    },
    {
      "cell_type": "markdown",
      "metadata": {
        "id": "CpBfZczumAs8"
      },
      "source": [
        "## **Results of Path Simaliry Measure:**\n",
        "\n",
        "\n",
        "*   The algorithm takes so long to run.\n",
        "*   This measure does not differentiate between different types if paths, concepts are less similar higher up the hierarchy.\n",
        "*   Does not take into consideration that some parts of the hierarchy may be denseky populated with rare terminology.\n",
        "\n",
        "\n",
        "\n",
        "\n"
      ]
    },
    {
      "cell_type": "markdown",
      "metadata": {
        "id": "eZqzl3LJmv28"
      },
      "source": [
        "## **Resnik Similarity Measure**\n",
        "\n",
        "\n",
        "\n",
        "*   Similarity based on what 2 concepts(words) share.\n",
        "*   Based on the notion of information content.\n",
        "*   The information content of a concept(word) is negative log of the probability of finding the concept(word) in a given corpus.\n",
        "*   Resnik similarity is the information content of what the 2 concepts share, their lowest common subsumer.\n",
        "*   simRes(w1,w2)= IC(LCS(w1,w2)\n",
        "\n",
        "\n",
        "\n"
      ]
    },
    {
      "cell_type": "code",
      "metadata": {
        "colab": {
          "base_uri": "https://localhost:8080/"
        },
        "id": "rDpBYYr4Noxf",
        "outputId": "9305a903-617e-4efc-db43-079a4ba4b147"
      },
      "source": [
        "startTime=time.time()\n",
        "#Resnik Similarity for all pair of words in the top 1000\n",
        "ressimList=[]\n",
        "counter=0\n",
        "for word in top1000Dict.keys():\n",
        "  counter=counter +1\n",
        "  #to monitor progress\n",
        "  print(counter)\n",
        "  for word2 in top1000Dict.keys():\n",
        "    #update the list with a tuple where the first and second elements are the pair of words being compared and the third element is their resnik similarity\n",
        "    ressimList.append((word,word2,word_similarity(word,word2, \"res\")))\n",
        "finishTime=time.time()\n",
        "#execution time\n",
        "resTime=finishTime-startTime"
      ],
      "execution_count": 153,
      "outputs": [
        {
          "output_type": "stream",
          "text": [
            "1\n",
            "2\n",
            "3\n",
            "4\n",
            "5\n",
            "6\n",
            "7\n",
            "8\n",
            "9\n",
            "10\n",
            "11\n",
            "12\n",
            "13\n",
            "14\n",
            "15\n",
            "16\n",
            "17\n",
            "18\n",
            "19\n",
            "20\n",
            "21\n",
            "22\n",
            "23\n",
            "24\n",
            "25\n",
            "26\n",
            "27\n",
            "28\n",
            "29\n",
            "30\n",
            "31\n",
            "32\n",
            "33\n",
            "34\n",
            "35\n",
            "36\n",
            "37\n",
            "38\n",
            "39\n",
            "40\n",
            "41\n",
            "42\n",
            "43\n",
            "44\n",
            "45\n",
            "46\n",
            "47\n",
            "48\n",
            "49\n",
            "50\n",
            "51\n",
            "52\n",
            "53\n",
            "54\n",
            "55\n",
            "56\n",
            "57\n",
            "58\n",
            "59\n",
            "60\n",
            "61\n",
            "62\n",
            "63\n",
            "64\n",
            "65\n",
            "66\n",
            "67\n",
            "68\n",
            "69\n",
            "70\n",
            "71\n",
            "72\n",
            "73\n",
            "74\n",
            "75\n",
            "76\n",
            "77\n",
            "78\n",
            "79\n",
            "80\n",
            "81\n",
            "82\n",
            "83\n",
            "84\n",
            "85\n",
            "86\n",
            "87\n",
            "88\n",
            "89\n",
            "90\n",
            "91\n",
            "92\n",
            "93\n",
            "94\n",
            "95\n",
            "96\n",
            "97\n",
            "98\n",
            "99\n",
            "100\n",
            "101\n",
            "102\n",
            "103\n",
            "104\n",
            "105\n",
            "106\n",
            "107\n",
            "108\n",
            "109\n",
            "110\n",
            "111\n",
            "112\n",
            "113\n",
            "114\n",
            "115\n",
            "116\n",
            "117\n",
            "118\n",
            "119\n",
            "120\n",
            "121\n",
            "122\n",
            "123\n",
            "124\n",
            "125\n",
            "126\n",
            "127\n",
            "128\n",
            "129\n",
            "130\n",
            "131\n",
            "132\n",
            "133\n",
            "134\n",
            "135\n",
            "136\n",
            "137\n",
            "138\n",
            "139\n",
            "140\n",
            "141\n",
            "142\n",
            "143\n",
            "144\n",
            "145\n",
            "146\n",
            "147\n",
            "148\n",
            "149\n",
            "150\n",
            "151\n",
            "152\n",
            "153\n",
            "154\n",
            "155\n",
            "156\n",
            "157\n",
            "158\n",
            "159\n",
            "160\n",
            "161\n",
            "162\n",
            "163\n",
            "164\n",
            "165\n",
            "166\n",
            "167\n",
            "168\n",
            "169\n",
            "170\n",
            "171\n",
            "172\n",
            "173\n",
            "174\n",
            "175\n",
            "176\n",
            "177\n",
            "178\n",
            "179\n",
            "180\n",
            "181\n",
            "182\n",
            "183\n",
            "184\n",
            "185\n",
            "186\n",
            "187\n",
            "188\n",
            "189\n",
            "190\n",
            "191\n",
            "192\n",
            "193\n",
            "194\n",
            "195\n",
            "196\n",
            "197\n",
            "198\n",
            "199\n",
            "200\n",
            "201\n",
            "202\n",
            "203\n",
            "204\n",
            "205\n",
            "206\n",
            "207\n",
            "208\n",
            "209\n",
            "210\n",
            "211\n",
            "212\n",
            "213\n",
            "214\n",
            "215\n",
            "216\n",
            "217\n",
            "218\n",
            "219\n",
            "220\n",
            "221\n",
            "222\n",
            "223\n",
            "224\n",
            "225\n",
            "226\n",
            "227\n",
            "228\n",
            "229\n",
            "230\n",
            "231\n",
            "232\n",
            "233\n",
            "234\n",
            "235\n",
            "236\n",
            "237\n",
            "238\n",
            "239\n",
            "240\n",
            "241\n",
            "242\n",
            "243\n",
            "244\n",
            "245\n",
            "246\n",
            "247\n",
            "248\n",
            "249\n",
            "250\n",
            "251\n",
            "252\n",
            "253\n",
            "254\n",
            "255\n",
            "256\n",
            "257\n",
            "258\n",
            "259\n",
            "260\n",
            "261\n",
            "262\n",
            "263\n",
            "264\n",
            "265\n",
            "266\n",
            "267\n",
            "268\n",
            "269\n",
            "270\n",
            "271\n",
            "272\n",
            "273\n",
            "274\n",
            "275\n",
            "276\n",
            "277\n",
            "278\n",
            "279\n",
            "280\n",
            "281\n",
            "282\n",
            "283\n",
            "284\n",
            "285\n",
            "286\n",
            "287\n",
            "288\n",
            "289\n",
            "290\n",
            "291\n",
            "292\n",
            "293\n",
            "294\n",
            "295\n",
            "296\n",
            "297\n",
            "298\n",
            "299\n",
            "300\n",
            "301\n",
            "302\n",
            "303\n",
            "304\n",
            "305\n",
            "306\n",
            "307\n",
            "308\n",
            "309\n",
            "310\n",
            "311\n",
            "312\n",
            "313\n",
            "314\n",
            "315\n",
            "316\n",
            "317\n",
            "318\n",
            "319\n",
            "320\n",
            "321\n",
            "322\n",
            "323\n",
            "324\n",
            "325\n",
            "326\n",
            "327\n",
            "328\n",
            "329\n",
            "330\n",
            "331\n",
            "332\n",
            "333\n",
            "334\n",
            "335\n",
            "336\n",
            "337\n",
            "338\n",
            "339\n",
            "340\n",
            "341\n",
            "342\n",
            "343\n",
            "344\n",
            "345\n",
            "346\n",
            "347\n",
            "348\n",
            "349\n",
            "350\n",
            "351\n",
            "352\n",
            "353\n",
            "354\n",
            "355\n",
            "356\n",
            "357\n",
            "358\n",
            "359\n",
            "360\n",
            "361\n",
            "362\n",
            "363\n",
            "364\n",
            "365\n",
            "366\n",
            "367\n",
            "368\n",
            "369\n",
            "370\n",
            "371\n",
            "372\n",
            "373\n",
            "374\n",
            "375\n",
            "376\n",
            "377\n",
            "378\n",
            "379\n",
            "380\n",
            "381\n",
            "382\n",
            "383\n",
            "384\n",
            "385\n",
            "386\n",
            "387\n",
            "388\n",
            "389\n",
            "390\n",
            "391\n",
            "392\n",
            "393\n",
            "394\n",
            "395\n",
            "396\n",
            "397\n",
            "398\n",
            "399\n",
            "400\n",
            "401\n",
            "402\n",
            "403\n",
            "404\n",
            "405\n",
            "406\n",
            "407\n",
            "408\n",
            "409\n",
            "410\n",
            "411\n",
            "412\n",
            "413\n",
            "414\n",
            "415\n",
            "416\n",
            "417\n",
            "418\n",
            "419\n",
            "420\n",
            "421\n",
            "422\n",
            "423\n",
            "424\n",
            "425\n",
            "426\n",
            "427\n",
            "428\n",
            "429\n",
            "430\n",
            "431\n",
            "432\n",
            "433\n",
            "434\n",
            "435\n",
            "436\n",
            "437\n",
            "438\n",
            "439\n",
            "440\n",
            "441\n",
            "442\n",
            "443\n",
            "444\n",
            "445\n",
            "446\n",
            "447\n",
            "448\n",
            "449\n",
            "450\n",
            "451\n",
            "452\n",
            "453\n",
            "454\n",
            "455\n",
            "456\n",
            "457\n",
            "458\n",
            "459\n",
            "460\n",
            "461\n",
            "462\n",
            "463\n",
            "464\n",
            "465\n",
            "466\n",
            "467\n",
            "468\n",
            "469\n",
            "470\n",
            "471\n",
            "472\n",
            "473\n",
            "474\n",
            "475\n",
            "476\n",
            "477\n",
            "478\n",
            "479\n",
            "480\n",
            "481\n",
            "482\n",
            "483\n",
            "484\n",
            "485\n",
            "486\n",
            "487\n",
            "488\n",
            "489\n",
            "490\n",
            "491\n",
            "492\n",
            "493\n",
            "494\n",
            "495\n",
            "496\n",
            "497\n",
            "498\n",
            "499\n",
            "500\n",
            "501\n",
            "502\n",
            "503\n",
            "504\n",
            "505\n",
            "506\n",
            "507\n",
            "508\n",
            "509\n",
            "510\n",
            "511\n",
            "512\n",
            "513\n",
            "514\n",
            "515\n",
            "516\n",
            "517\n",
            "518\n",
            "519\n",
            "520\n",
            "521\n",
            "522\n",
            "523\n",
            "524\n",
            "525\n",
            "526\n",
            "527\n",
            "528\n",
            "529\n",
            "530\n",
            "531\n",
            "532\n",
            "533\n",
            "534\n",
            "535\n",
            "536\n",
            "537\n",
            "538\n",
            "539\n",
            "540\n",
            "541\n",
            "542\n",
            "543\n",
            "544\n",
            "545\n",
            "546\n",
            "547\n",
            "548\n",
            "549\n",
            "550\n",
            "551\n",
            "552\n",
            "553\n",
            "554\n",
            "555\n",
            "556\n",
            "557\n",
            "558\n",
            "559\n",
            "560\n",
            "561\n",
            "562\n",
            "563\n",
            "564\n",
            "565\n",
            "566\n",
            "567\n",
            "568\n",
            "569\n",
            "570\n",
            "571\n",
            "572\n",
            "573\n",
            "574\n",
            "575\n",
            "576\n",
            "577\n",
            "578\n",
            "579\n",
            "580\n",
            "581\n",
            "582\n",
            "583\n",
            "584\n",
            "585\n",
            "586\n",
            "587\n",
            "588\n",
            "589\n",
            "590\n",
            "591\n",
            "592\n",
            "593\n",
            "594\n",
            "595\n",
            "596\n",
            "597\n",
            "598\n",
            "599\n",
            "600\n",
            "601\n",
            "602\n",
            "603\n",
            "604\n",
            "605\n",
            "606\n",
            "607\n",
            "608\n",
            "609\n",
            "610\n",
            "611\n",
            "612\n",
            "613\n",
            "614\n",
            "615\n",
            "616\n",
            "617\n",
            "618\n",
            "619\n",
            "620\n",
            "621\n",
            "622\n",
            "623\n",
            "624\n",
            "625\n",
            "626\n",
            "627\n",
            "628\n",
            "629\n",
            "630\n",
            "631\n",
            "632\n",
            "633\n",
            "634\n",
            "635\n",
            "636\n",
            "637\n",
            "638\n",
            "639\n",
            "640\n",
            "641\n",
            "642\n",
            "643\n",
            "644\n",
            "645\n",
            "646\n",
            "647\n",
            "648\n",
            "649\n",
            "650\n",
            "651\n",
            "652\n",
            "653\n",
            "654\n",
            "655\n",
            "656\n",
            "657\n",
            "658\n",
            "659\n",
            "660\n",
            "661\n",
            "662\n",
            "663\n",
            "664\n",
            "665\n",
            "666\n",
            "667\n",
            "668\n",
            "669\n",
            "670\n",
            "671\n",
            "672\n",
            "673\n",
            "674\n",
            "675\n",
            "676\n",
            "677\n",
            "678\n",
            "679\n",
            "680\n",
            "681\n",
            "682\n",
            "683\n",
            "684\n",
            "685\n",
            "686\n",
            "687\n",
            "688\n",
            "689\n",
            "690\n",
            "691\n",
            "692\n",
            "693\n",
            "694\n",
            "695\n",
            "696\n",
            "697\n",
            "698\n",
            "699\n",
            "700\n",
            "701\n",
            "702\n",
            "703\n",
            "704\n",
            "705\n",
            "706\n",
            "707\n",
            "708\n",
            "709\n",
            "710\n",
            "711\n",
            "712\n",
            "713\n",
            "714\n",
            "715\n",
            "716\n",
            "717\n",
            "718\n",
            "719\n",
            "720\n",
            "721\n",
            "722\n",
            "723\n",
            "724\n",
            "725\n",
            "726\n",
            "727\n",
            "728\n",
            "729\n",
            "730\n",
            "731\n",
            "732\n",
            "733\n",
            "734\n",
            "735\n",
            "736\n",
            "737\n",
            "738\n",
            "739\n",
            "740\n",
            "741\n",
            "742\n",
            "743\n",
            "744\n",
            "745\n",
            "746\n",
            "747\n",
            "748\n",
            "749\n",
            "750\n",
            "751\n",
            "752\n",
            "753\n",
            "754\n",
            "755\n",
            "756\n",
            "757\n",
            "758\n",
            "759\n",
            "760\n",
            "761\n",
            "762\n",
            "763\n",
            "764\n",
            "765\n",
            "766\n",
            "767\n",
            "768\n",
            "769\n",
            "770\n",
            "771\n",
            "772\n",
            "773\n",
            "774\n",
            "775\n",
            "776\n",
            "777\n",
            "778\n",
            "779\n",
            "780\n",
            "781\n",
            "782\n",
            "783\n",
            "784\n",
            "785\n",
            "786\n",
            "787\n",
            "788\n",
            "789\n",
            "790\n",
            "791\n",
            "792\n",
            "793\n",
            "794\n",
            "795\n",
            "796\n",
            "797\n",
            "798\n",
            "799\n",
            "800\n",
            "801\n",
            "802\n",
            "803\n",
            "804\n",
            "805\n",
            "806\n",
            "807\n",
            "808\n",
            "809\n",
            "810\n",
            "811\n",
            "812\n",
            "813\n",
            "814\n",
            "815\n",
            "816\n",
            "817\n",
            "818\n",
            "819\n",
            "820\n",
            "821\n",
            "822\n",
            "823\n",
            "824\n",
            "825\n",
            "826\n",
            "827\n",
            "828\n",
            "829\n",
            "830\n",
            "831\n",
            "832\n",
            "833\n",
            "834\n",
            "835\n",
            "836\n",
            "837\n",
            "838\n",
            "839\n",
            "840\n",
            "841\n",
            "842\n",
            "843\n",
            "844\n",
            "845\n",
            "846\n",
            "847\n",
            "848\n",
            "849\n",
            "850\n",
            "851\n",
            "852\n",
            "853\n",
            "854\n",
            "855\n",
            "856\n",
            "857\n",
            "858\n",
            "859\n",
            "860\n",
            "861\n",
            "862\n",
            "863\n",
            "864\n",
            "865\n",
            "866\n",
            "867\n",
            "868\n",
            "869\n",
            "870\n",
            "871\n",
            "872\n",
            "873\n",
            "874\n",
            "875\n",
            "876\n",
            "877\n",
            "878\n",
            "879\n",
            "880\n",
            "881\n",
            "882\n",
            "883\n",
            "884\n",
            "885\n",
            "886\n",
            "887\n",
            "888\n",
            "889\n",
            "890\n",
            "891\n",
            "892\n",
            "893\n",
            "894\n",
            "895\n",
            "896\n",
            "897\n",
            "898\n",
            "899\n",
            "900\n",
            "901\n",
            "902\n",
            "903\n",
            "904\n",
            "905\n",
            "906\n",
            "907\n",
            "908\n",
            "909\n",
            "910\n",
            "911\n",
            "912\n",
            "913\n",
            "914\n",
            "915\n",
            "916\n",
            "917\n",
            "918\n",
            "919\n",
            "920\n",
            "921\n",
            "922\n",
            "923\n",
            "924\n",
            "925\n",
            "926\n",
            "927\n",
            "928\n",
            "929\n",
            "930\n",
            "931\n",
            "932\n",
            "933\n",
            "934\n",
            "935\n",
            "936\n",
            "937\n",
            "938\n",
            "939\n",
            "940\n",
            "941\n",
            "942\n",
            "943\n",
            "944\n",
            "945\n",
            "946\n",
            "947\n",
            "948\n",
            "949\n",
            "950\n",
            "951\n",
            "952\n",
            "953\n",
            "954\n",
            "955\n",
            "956\n",
            "957\n",
            "958\n",
            "959\n",
            "960\n",
            "961\n",
            "962\n",
            "963\n",
            "964\n",
            "965\n",
            "966\n",
            "967\n",
            "968\n",
            "969\n",
            "970\n",
            "971\n",
            "972\n",
            "973\n",
            "974\n",
            "975\n",
            "976\n",
            "977\n",
            "978\n",
            "979\n",
            "980\n",
            "981\n",
            "982\n",
            "983\n",
            "984\n",
            "985\n",
            "986\n",
            "987\n",
            "988\n",
            "989\n",
            "990\n",
            "991\n",
            "992\n",
            "993\n",
            "994\n",
            "995\n",
            "996\n",
            "997\n",
            "998\n",
            "999\n",
            "1000\n"
          ],
          "name": "stdout"
        }
      ]
    },
    {
      "cell_type": "code",
      "metadata": {
        "colab": {
          "base_uri": "https://localhost:8080/"
        },
        "id": "2MH8BaimjqPh",
        "outputId": "74996eb4-e255-4dbc-d508-9f758ead0b05"
      },
      "source": [
        "resTime"
      ],
      "execution_count": 154,
      "outputs": [
        {
          "output_type": "execute_result",
          "data": {
            "text/plain": [
              "99.70135402679443"
            ]
          },
          "metadata": {
            "tags": []
          },
          "execution_count": 154
        }
      ]
    },
    {
      "cell_type": "code",
      "metadata": {
        "colab": {
          "base_uri": "https://localhost:8080/"
        },
        "id": "n-3pmS8Tjr18",
        "outputId": "3abd72fe-36c4-4a12-f25e-7d0607d018b4"
      },
      "source": [
        "ressimList[:30]"
      ],
      "execution_count": 155,
      "outputs": [
        {
          "output_type": "execute_result",
          "data": {
            "text/plain": [
              "[('in', 'in', 11.469867639508397),\n",
              " ('in', 'a', 0.8017591149538994),\n",
              " ('in', 'percent', 0),\n",
              " ('in', 'it', 0),\n",
              " ('in', 'be', 0.8017591149538994),\n",
              " ('in', 'pct', 0),\n",
              " ('in', 'at', 0.8017591149538994),\n",
              " ('in', 'was', 5.069028967795536),\n",
              " ('in', 'will', 0),\n",
              " ('in', 'as', 4.31904854177692),\n",
              " ('in', 'he', 0.8017591149538994),\n",
              " ('in', 'bank', 1.2900256809649917),\n",
              " ('in', 'year', 0),\n",
              " ('in', 'have', 1.2900256809649917),\n",
              " ('in', 'are', 0),\n",
              " ('in', 'million', 0),\n",
              " ('in', 'has', 3.0115861627720086),\n",
              " ('in', 'may', 1.2900256809649917),\n",
              " ('in', 'its', 0),\n",
              " ('in', 'government', 0),\n",
              " ('in', 'an', 0),\n",
              " ('in', 'billion', 0),\n",
              " ('in', 'uk', 4.389167965544902),\n",
              " ('in', 'tax', 0),\n",
              " ('in', 'rate', 0),\n",
              " ('in', 'trade', 0.8017591149538994),\n",
              " ('in', 'budget', 0),\n",
              " ('in', 'more', 1.2900256809649917),\n",
              " ('in', 'growth', 1.2900256809649917),\n",
              " ('in', 'last', 1.2900256809649917)]"
            ]
          },
          "metadata": {
            "tags": []
          },
          "execution_count": 155
        }
      ]
    },
    {
      "cell_type": "markdown",
      "metadata": {
        "id": "aYbXZqPXoSex"
      },
      "source": [
        "## **Results of Resnik Simaliry Measure:**\n",
        "\n",
        "*   As shown the time decreased significantly.\n",
        "*   Resnik similairty measure resulted in so many different word pairs sharing the same simalirty value. This is a result of many concepts sharing the same lowest common subsumer.\n",
        "*   This can be improved by the following similarity measure.\n",
        "\n",
        "\n",
        "\n"
      ]
    },
    {
      "cell_type": "markdown",
      "metadata": {
        "id": "qFpKTvhoomJa"
      },
      "source": [
        "## **Lin Similarity Measure**\n",
        "\n",
        "\n",
        "\n",
        "*   Same as Resnik but takes into consideration the information content of the individual words/concept being compared.\n",
        "*   Its the ratio of shared information content to total information content.\n",
        "*   simLin(w1,w2)= (2 * simRes(w1,w2)) / (IC(w1) + IC(w2))"
      ]
    },
    {
      "cell_type": "code",
      "metadata": {
        "colab": {
          "base_uri": "https://localhost:8080/"
        },
        "id": "1yIjjToaNw2B",
        "outputId": "704d94ef-78f0-4cc6-e1f0-8ae96240600e"
      },
      "source": [
        "import time\n",
        "\n",
        "startTime= time.time()\n",
        "#Lin Similarity for all pair of words in the top 1000\n",
        "linsimList=[]\n",
        "counter=0\n",
        "for word in top1000Dict.keys():\n",
        "  counter=counter +1\n",
        "  #to monitor progress\n",
        "  print(counter)\n",
        "  for word2 in top1000Dict.keys():\n",
        "    #update the list with a tuple where the first and second elements are the pair of words being compared and the third element is their lin similarity\n",
        "    linsimList.append((word,word2,word_similarity(word,word2, \"lin\")))\n",
        "finishTime=time.time()\n",
        "#execution time\n",
        "linTime=finishTime-startTime"
      ],
      "execution_count": 26,
      "outputs": [
        {
          "output_type": "stream",
          "text": [
            "1\n",
            "2\n",
            "3\n",
            "4\n",
            "5\n",
            "6\n",
            "7\n",
            "8\n",
            "9\n",
            "10\n",
            "11\n",
            "12\n",
            "13\n",
            "14\n",
            "15\n",
            "16\n",
            "17\n",
            "18\n",
            "19\n",
            "20\n",
            "21\n",
            "22\n",
            "23\n",
            "24\n",
            "25\n",
            "26\n",
            "27\n",
            "28\n",
            "29\n",
            "30\n",
            "31\n",
            "32\n",
            "33\n",
            "34\n",
            "35\n",
            "36\n",
            "37\n",
            "38\n",
            "39\n",
            "40\n",
            "41\n",
            "42\n",
            "43\n",
            "44\n",
            "45\n",
            "46\n",
            "47\n",
            "48\n",
            "49\n",
            "50\n",
            "51\n",
            "52\n",
            "53\n",
            "54\n",
            "55\n",
            "56\n",
            "57\n",
            "58\n",
            "59\n",
            "60\n",
            "61\n",
            "62\n",
            "63\n",
            "64\n",
            "65\n",
            "66\n",
            "67\n",
            "68\n",
            "69\n",
            "70\n",
            "71\n",
            "72\n",
            "73\n",
            "74\n",
            "75\n",
            "76\n",
            "77\n",
            "78\n",
            "79\n",
            "80\n",
            "81\n",
            "82\n",
            "83\n",
            "84\n",
            "85\n",
            "86\n",
            "87\n",
            "88\n",
            "89\n",
            "90\n",
            "91\n",
            "92\n",
            "93\n",
            "94\n",
            "95\n",
            "96\n",
            "97\n",
            "98\n",
            "99\n",
            "100\n",
            "101\n",
            "102\n",
            "103\n",
            "104\n",
            "105\n",
            "106\n",
            "107\n",
            "108\n",
            "109\n",
            "110\n",
            "111\n",
            "112\n",
            "113\n",
            "114\n",
            "115\n",
            "116\n",
            "117\n",
            "118\n",
            "119\n",
            "120\n",
            "121\n",
            "122\n",
            "123\n",
            "124\n",
            "125\n",
            "126\n",
            "127\n",
            "128\n",
            "129\n",
            "130\n",
            "131\n",
            "132\n",
            "133\n",
            "134\n",
            "135\n",
            "136\n",
            "137\n",
            "138\n",
            "139\n",
            "140\n",
            "141\n",
            "142\n",
            "143\n",
            "144\n",
            "145\n",
            "146\n",
            "147\n",
            "148\n",
            "149\n",
            "150\n",
            "151\n",
            "152\n",
            "153\n",
            "154\n",
            "155\n",
            "156\n",
            "157\n",
            "158\n",
            "159\n",
            "160\n",
            "161\n",
            "162\n",
            "163\n",
            "164\n",
            "165\n",
            "166\n",
            "167\n",
            "168\n",
            "169\n",
            "170\n",
            "171\n",
            "172\n",
            "173\n",
            "174\n",
            "175\n",
            "176\n",
            "177\n",
            "178\n",
            "179\n",
            "180\n",
            "181\n",
            "182\n",
            "183\n",
            "184\n",
            "185\n",
            "186\n",
            "187\n",
            "188\n",
            "189\n",
            "190\n",
            "191\n",
            "192\n",
            "193\n",
            "194\n",
            "195\n",
            "196\n",
            "197\n",
            "198\n",
            "199\n",
            "200\n",
            "201\n",
            "202\n",
            "203\n",
            "204\n",
            "205\n",
            "206\n",
            "207\n",
            "208\n",
            "209\n",
            "210\n",
            "211\n",
            "212\n",
            "213\n",
            "214\n",
            "215\n",
            "216\n",
            "217\n",
            "218\n",
            "219\n",
            "220\n",
            "221\n",
            "222\n",
            "223\n",
            "224\n",
            "225\n",
            "226\n",
            "227\n",
            "228\n",
            "229\n",
            "230\n",
            "231\n",
            "232\n",
            "233\n",
            "234\n",
            "235\n",
            "236\n",
            "237\n",
            "238\n",
            "239\n",
            "240\n",
            "241\n",
            "242\n",
            "243\n",
            "244\n",
            "245\n",
            "246\n",
            "247\n",
            "248\n",
            "249\n",
            "250\n",
            "251\n",
            "252\n",
            "253\n",
            "254\n",
            "255\n",
            "256\n",
            "257\n",
            "258\n",
            "259\n",
            "260\n",
            "261\n",
            "262\n",
            "263\n",
            "264\n",
            "265\n",
            "266\n",
            "267\n",
            "268\n",
            "269\n",
            "270\n",
            "271\n",
            "272\n",
            "273\n",
            "274\n",
            "275\n",
            "276\n",
            "277\n",
            "278\n",
            "279\n",
            "280\n",
            "281\n",
            "282\n",
            "283\n",
            "284\n",
            "285\n",
            "286\n",
            "287\n",
            "288\n",
            "289\n",
            "290\n",
            "291\n",
            "292\n",
            "293\n",
            "294\n",
            "295\n",
            "296\n",
            "297\n",
            "298\n",
            "299\n",
            "300\n",
            "301\n",
            "302\n",
            "303\n",
            "304\n",
            "305\n",
            "306\n",
            "307\n",
            "308\n",
            "309\n",
            "310\n",
            "311\n",
            "312\n",
            "313\n",
            "314\n",
            "315\n",
            "316\n",
            "317\n",
            "318\n",
            "319\n",
            "320\n",
            "321\n",
            "322\n",
            "323\n",
            "324\n",
            "325\n",
            "326\n",
            "327\n",
            "328\n",
            "329\n",
            "330\n",
            "331\n",
            "332\n",
            "333\n",
            "334\n",
            "335\n",
            "336\n",
            "337\n",
            "338\n",
            "339\n",
            "340\n",
            "341\n",
            "342\n",
            "343\n",
            "344\n",
            "345\n",
            "346\n",
            "347\n",
            "348\n",
            "349\n",
            "350\n",
            "351\n",
            "352\n",
            "353\n",
            "354\n",
            "355\n",
            "356\n",
            "357\n",
            "358\n",
            "359\n",
            "360\n",
            "361\n",
            "362\n",
            "363\n",
            "364\n",
            "365\n",
            "366\n",
            "367\n",
            "368\n",
            "369\n",
            "370\n",
            "371\n",
            "372\n",
            "373\n",
            "374\n",
            "375\n",
            "376\n",
            "377\n",
            "378\n",
            "379\n",
            "380\n",
            "381\n",
            "382\n",
            "383\n",
            "384\n",
            "385\n",
            "386\n",
            "387\n",
            "388\n",
            "389\n",
            "390\n",
            "391\n",
            "392\n",
            "393\n",
            "394\n",
            "395\n",
            "396\n",
            "397\n",
            "398\n",
            "399\n",
            "400\n",
            "401\n",
            "402\n",
            "403\n",
            "404\n",
            "405\n",
            "406\n",
            "407\n",
            "408\n",
            "409\n",
            "410\n",
            "411\n",
            "412\n",
            "413\n",
            "414\n",
            "415\n",
            "416\n",
            "417\n",
            "418\n",
            "419\n",
            "420\n",
            "421\n",
            "422\n",
            "423\n",
            "424\n",
            "425\n",
            "426\n",
            "427\n",
            "428\n",
            "429\n",
            "430\n",
            "431\n",
            "432\n",
            "433\n",
            "434\n",
            "435\n",
            "436\n",
            "437\n",
            "438\n",
            "439\n",
            "440\n",
            "441\n",
            "442\n",
            "443\n",
            "444\n",
            "445\n",
            "446\n",
            "447\n",
            "448\n",
            "449\n",
            "450\n",
            "451\n",
            "452\n",
            "453\n",
            "454\n",
            "455\n",
            "456\n",
            "457\n",
            "458\n",
            "459\n",
            "460\n",
            "461\n",
            "462\n",
            "463\n",
            "464\n",
            "465\n",
            "466\n",
            "467\n",
            "468\n",
            "469\n",
            "470\n",
            "471\n",
            "472\n",
            "473\n",
            "474\n",
            "475\n",
            "476\n",
            "477\n",
            "478\n",
            "479\n",
            "480\n",
            "481\n",
            "482\n",
            "483\n",
            "484\n",
            "485\n",
            "486\n",
            "487\n",
            "488\n",
            "489\n",
            "490\n",
            "491\n",
            "492\n",
            "493\n",
            "494\n",
            "495\n",
            "496\n",
            "497\n",
            "498\n",
            "499\n",
            "500\n",
            "501\n",
            "502\n",
            "503\n",
            "504\n",
            "505\n",
            "506\n",
            "507\n",
            "508\n",
            "509\n",
            "510\n",
            "511\n",
            "512\n",
            "513\n",
            "514\n",
            "515\n",
            "516\n",
            "517\n",
            "518\n",
            "519\n",
            "520\n",
            "521\n",
            "522\n",
            "523\n",
            "524\n",
            "525\n",
            "526\n",
            "527\n",
            "528\n",
            "529\n",
            "530\n",
            "531\n",
            "532\n",
            "533\n",
            "534\n",
            "535\n",
            "536\n",
            "537\n",
            "538\n",
            "539\n",
            "540\n",
            "541\n",
            "542\n",
            "543\n",
            "544\n",
            "545\n",
            "546\n",
            "547\n",
            "548\n",
            "549\n",
            "550\n",
            "551\n",
            "552\n",
            "553\n",
            "554\n",
            "555\n",
            "556\n",
            "557\n",
            "558\n",
            "559\n",
            "560\n",
            "561\n",
            "562\n",
            "563\n",
            "564\n",
            "565\n",
            "566\n",
            "567\n",
            "568\n",
            "569\n",
            "570\n",
            "571\n",
            "572\n",
            "573\n",
            "574\n",
            "575\n",
            "576\n",
            "577\n",
            "578\n",
            "579\n",
            "580\n",
            "581\n",
            "582\n",
            "583\n",
            "584\n",
            "585\n",
            "586\n",
            "587\n",
            "588\n",
            "589\n",
            "590\n",
            "591\n",
            "592\n",
            "593\n",
            "594\n",
            "595\n",
            "596\n",
            "597\n",
            "598\n",
            "599\n",
            "600\n",
            "601\n",
            "602\n",
            "603\n",
            "604\n",
            "605\n",
            "606\n",
            "607\n",
            "608\n",
            "609\n",
            "610\n",
            "611\n",
            "612\n",
            "613\n",
            "614\n",
            "615\n",
            "616\n",
            "617\n",
            "618\n",
            "619\n",
            "620\n",
            "621\n",
            "622\n",
            "623\n",
            "624\n",
            "625\n",
            "626\n",
            "627\n",
            "628\n",
            "629\n",
            "630\n",
            "631\n",
            "632\n",
            "633\n",
            "634\n",
            "635\n",
            "636\n",
            "637\n",
            "638\n",
            "639\n",
            "640\n",
            "641\n",
            "642\n",
            "643\n",
            "644\n",
            "645\n",
            "646\n",
            "647\n",
            "648\n",
            "649\n",
            "650\n",
            "651\n",
            "652\n",
            "653\n",
            "654\n",
            "655\n",
            "656\n",
            "657\n",
            "658\n",
            "659\n",
            "660\n",
            "661\n",
            "662\n",
            "663\n",
            "664\n",
            "665\n",
            "666\n",
            "667\n",
            "668\n",
            "669\n",
            "670\n",
            "671\n",
            "672\n",
            "673\n",
            "674\n",
            "675\n",
            "676\n",
            "677\n",
            "678\n",
            "679\n",
            "680\n",
            "681\n",
            "682\n",
            "683\n",
            "684\n",
            "685\n",
            "686\n",
            "687\n",
            "688\n",
            "689\n",
            "690\n",
            "691\n",
            "692\n",
            "693\n",
            "694\n",
            "695\n",
            "696\n",
            "697\n",
            "698\n",
            "699\n",
            "700\n",
            "701\n",
            "702\n",
            "703\n",
            "704\n",
            "705\n",
            "706\n",
            "707\n",
            "708\n",
            "709\n",
            "710\n",
            "711\n",
            "712\n",
            "713\n",
            "714\n",
            "715\n",
            "716\n",
            "717\n",
            "718\n",
            "719\n",
            "720\n",
            "721\n",
            "722\n",
            "723\n",
            "724\n",
            "725\n",
            "726\n",
            "727\n",
            "728\n",
            "729\n",
            "730\n",
            "731\n",
            "732\n",
            "733\n",
            "734\n",
            "735\n",
            "736\n",
            "737\n",
            "738\n",
            "739\n",
            "740\n",
            "741\n",
            "742\n",
            "743\n",
            "744\n",
            "745\n",
            "746\n",
            "747\n",
            "748\n",
            "749\n",
            "750\n",
            "751\n",
            "752\n",
            "753\n",
            "754\n",
            "755\n",
            "756\n",
            "757\n",
            "758\n",
            "759\n",
            "760\n",
            "761\n",
            "762\n",
            "763\n",
            "764\n",
            "765\n",
            "766\n",
            "767\n",
            "768\n",
            "769\n",
            "770\n",
            "771\n",
            "772\n",
            "773\n",
            "774\n",
            "775\n",
            "776\n",
            "777\n",
            "778\n",
            "779\n",
            "780\n",
            "781\n",
            "782\n",
            "783\n",
            "784\n",
            "785\n",
            "786\n",
            "787\n",
            "788\n",
            "789\n",
            "790\n",
            "791\n",
            "792\n",
            "793\n",
            "794\n",
            "795\n",
            "796\n",
            "797\n",
            "798\n",
            "799\n",
            "800\n",
            "801\n",
            "802\n",
            "803\n",
            "804\n",
            "805\n",
            "806\n",
            "807\n",
            "808\n",
            "809\n",
            "810\n",
            "811\n",
            "812\n",
            "813\n",
            "814\n",
            "815\n",
            "816\n",
            "817\n",
            "818\n",
            "819\n",
            "820\n",
            "821\n",
            "822\n",
            "823\n",
            "824\n",
            "825\n",
            "826\n",
            "827\n",
            "828\n",
            "829\n",
            "830\n",
            "831\n",
            "832\n",
            "833\n",
            "834\n",
            "835\n",
            "836\n",
            "837\n",
            "838\n",
            "839\n",
            "840\n",
            "841\n",
            "842\n",
            "843\n",
            "844\n",
            "845\n",
            "846\n",
            "847\n",
            "848\n",
            "849\n",
            "850\n",
            "851\n",
            "852\n",
            "853\n",
            "854\n",
            "855\n",
            "856\n",
            "857\n",
            "858\n",
            "859\n",
            "860\n",
            "861\n",
            "862\n",
            "863\n",
            "864\n",
            "865\n",
            "866\n",
            "867\n",
            "868\n",
            "869\n",
            "870\n",
            "871\n",
            "872\n",
            "873\n",
            "874\n",
            "875\n",
            "876\n",
            "877\n",
            "878\n",
            "879\n",
            "880\n",
            "881\n",
            "882\n",
            "883\n",
            "884\n",
            "885\n",
            "886\n",
            "887\n",
            "888\n",
            "889\n",
            "890\n",
            "891\n",
            "892\n",
            "893\n",
            "894\n",
            "895\n",
            "896\n",
            "897\n",
            "898\n",
            "899\n",
            "900\n",
            "901\n",
            "902\n",
            "903\n",
            "904\n",
            "905\n",
            "906\n",
            "907\n",
            "908\n",
            "909\n",
            "910\n",
            "911\n",
            "912\n",
            "913\n",
            "914\n",
            "915\n",
            "916\n",
            "917\n",
            "918\n",
            "919\n",
            "920\n",
            "921\n",
            "922\n",
            "923\n",
            "924\n",
            "925\n",
            "926\n",
            "927\n",
            "928\n",
            "929\n",
            "930\n",
            "931\n",
            "932\n",
            "933\n",
            "934\n",
            "935\n",
            "936\n",
            "937\n",
            "938\n",
            "939\n",
            "940\n",
            "941\n",
            "942\n",
            "943\n",
            "944\n",
            "945\n",
            "946\n",
            "947\n",
            "948\n",
            "949\n",
            "950\n",
            "951\n",
            "952\n",
            "953\n",
            "954\n",
            "955\n",
            "956\n",
            "957\n",
            "958\n",
            "959\n",
            "960\n",
            "961\n",
            "962\n",
            "963\n",
            "964\n",
            "965\n",
            "966\n",
            "967\n",
            "968\n",
            "969\n",
            "970\n",
            "971\n",
            "972\n",
            "973\n",
            "974\n",
            "975\n",
            "976\n",
            "977\n",
            "978\n",
            "979\n",
            "980\n",
            "981\n",
            "982\n",
            "983\n",
            "984\n",
            "985\n",
            "986\n",
            "987\n",
            "988\n",
            "989\n",
            "990\n",
            "991\n",
            "992\n",
            "993\n",
            "994\n",
            "995\n",
            "996\n",
            "997\n",
            "998\n",
            "999\n",
            "1000\n"
          ],
          "name": "stdout"
        }
      ]
    },
    {
      "cell_type": "code",
      "metadata": {
        "colab": {
          "base_uri": "https://localhost:8080/"
        },
        "id": "S2xqmaZKOYFc",
        "outputId": "5c03ca8e-23b1-48cf-c3de-74db47a078e7"
      },
      "source": [
        "linTime"
      ],
      "execution_count": 27,
      "outputs": [
        {
          "output_type": "execute_result",
          "data": {
            "text/plain": [
              "108.13680768013"
            ]
          },
          "metadata": {
            "tags": []
          },
          "execution_count": 27
        }
      ]
    },
    {
      "cell_type": "code",
      "metadata": {
        "colab": {
          "base_uri": "https://localhost:8080/"
        },
        "id": "Q43wh_6lObWs",
        "outputId": "00d91c9f-e73c-45f5-a39e-131c87e5d863"
      },
      "source": [
        "linsimList[:30]"
      ],
      "execution_count": 28,
      "outputs": [
        {
          "output_type": "execute_result",
          "data": {
            "text/plain": [
              "[('in', 'in', 1.0),\n",
              " ('in', 'a', 0.06641557396123841),\n",
              " ('in', 'percent', 0),\n",
              " ('in', 'it', 0),\n",
              " ('in', 'be', 0.09324552021879072),\n",
              " ('in', 'pct', 0),\n",
              " ('in', 'at', 1.6035182299077988e-300),\n",
              " ('in', 'was', 0.6062080080943216),\n",
              " ('in', 'will', 0),\n",
              " ('in', 'as', 0.35777839318366556),\n",
              " ('in', 'he', 0.07643211189878533),\n",
              " ('in', 'bank', 0.12704701947077837),\n",
              " ('in', 'year', 0),\n",
              " ('in', 'have', 0.14607603581720022),\n",
              " ('in', 'are', 0),\n",
              " ('in', 'million', 0),\n",
              " ('in', 'has', 0.33213163679495317),\n",
              " ('in', 'may', 0.13803004662656923),\n",
              " ('in', 'its', 0),\n",
              " ('in', 'government', 0),\n",
              " ('in', 'an', 0),\n",
              " ('in', 'billion', 0),\n",
              " ('in', 'uk', 0.4031089422448722),\n",
              " ('in', 'tax', 0),\n",
              " ('in', 'rate', 0),\n",
              " ('in', 'trade', 0.07627515191806303),\n",
              " ('in', 'budget', 0),\n",
              " ('in', 'more', 0.11138733578105559),\n",
              " ('in', 'growth', 0.1226398428695784),\n",
              " ('in', 'last', 0.1320154886881688)]"
            ]
          },
          "metadata": {
            "tags": []
          },
          "execution_count": 28
        }
      ]
    },
    {
      "cell_type": "markdown",
      "metadata": {
        "id": "aO8bFX72pP36"
      },
      "source": [
        "## **Results of Lin Similarity Measure:**\n",
        "\n",
        "*   As shown the time is not really affected from the previous measure.\n",
        "*   However, looking at the similarity values, we see less word pairs having the same exact similairty value.\n",
        "\n",
        "Therefore, i will use the Lin similarity measure.\n"
      ]
    },
    {
      "cell_type": "markdown",
      "metadata": {
        "id": "SYZHYbFk4NFU"
      },
      "source": [
        "## **Display Results in DataFrame**"
      ]
    },
    {
      "cell_type": "code",
      "metadata": {
        "colab": {
          "base_uri": "https://localhost:8080/",
          "height": 979
        },
        "id": "yJ69GrnZ27b5",
        "outputId": "5df70e71-22d1-48c4-8dda-90a424516c9f"
      },
      "source": [
        "linList=linsimList[:30]\n",
        "pathList=pathsimList[:30]\n",
        "resList=ressimList[:30]\n",
        "compareDf=pd.DataFrame()\n",
        "word1List=[tup[0] for tup in linList]\n",
        "\n",
        "word2List=[tup[1] for tup in linList]\n",
        "linMeasure=[tup[2] for tup in linList]\n",
        "resMeasure=[tup[2] for tup in resList]\n",
        "pathMeasure=[tup[2] for tup in pathList]\n",
        "compareDf['word1']=word1List\n",
        "compareDf['word2']=word2List\n",
        "compareDf['lin']=linMeasure\n",
        "compareDf['res']=resMeasure\n",
        "compareDf['path']=pathMeasure\n",
        "\n",
        "display(compareDf)"
      ],
      "execution_count": 206,
      "outputs": [
        {
          "output_type": "display_data",
          "data": {
            "text/html": [
              "<div>\n",
              "<style scoped>\n",
              "    .dataframe tbody tr th:only-of-type {\n",
              "        vertical-align: middle;\n",
              "    }\n",
              "\n",
              "    .dataframe tbody tr th {\n",
              "        vertical-align: top;\n",
              "    }\n",
              "\n",
              "    .dataframe thead th {\n",
              "        text-align: right;\n",
              "    }\n",
              "</style>\n",
              "<table border=\"1\" class=\"dataframe\">\n",
              "  <thead>\n",
              "    <tr style=\"text-align: right;\">\n",
              "      <th></th>\n",
              "      <th>word1</th>\n",
              "      <th>word2</th>\n",
              "      <th>lin</th>\n",
              "      <th>res</th>\n",
              "      <th>path</th>\n",
              "    </tr>\n",
              "  </thead>\n",
              "  <tbody>\n",
              "    <tr>\n",
              "      <th>0</th>\n",
              "      <td>in</td>\n",
              "      <td>in</td>\n",
              "      <td>1.000000e+00</td>\n",
              "      <td>11.469868</td>\n",
              "      <td>1.000000</td>\n",
              "    </tr>\n",
              "    <tr>\n",
              "      <th>1</th>\n",
              "      <td>in</td>\n",
              "      <td>a</td>\n",
              "      <td>6.641557e-02</td>\n",
              "      <td>0.801759</td>\n",
              "      <td>0.062500</td>\n",
              "    </tr>\n",
              "    <tr>\n",
              "      <th>2</th>\n",
              "      <td>in</td>\n",
              "      <td>percent</td>\n",
              "      <td>0.000000e+00</td>\n",
              "      <td>0.000000</td>\n",
              "      <td>0.058824</td>\n",
              "    </tr>\n",
              "    <tr>\n",
              "      <th>3</th>\n",
              "      <td>in</td>\n",
              "      <td>it</td>\n",
              "      <td>0.000000e+00</td>\n",
              "      <td>0.000000</td>\n",
              "      <td>0.055556</td>\n",
              "    </tr>\n",
              "    <tr>\n",
              "      <th>4</th>\n",
              "      <td>in</td>\n",
              "      <td>be</td>\n",
              "      <td>9.324552e-02</td>\n",
              "      <td>0.801759</td>\n",
              "      <td>0.071429</td>\n",
              "    </tr>\n",
              "    <tr>\n",
              "      <th>5</th>\n",
              "      <td>in</td>\n",
              "      <td>pct</td>\n",
              "      <td>0.000000e+00</td>\n",
              "      <td>0.000000</td>\n",
              "      <td>0.058824</td>\n",
              "    </tr>\n",
              "    <tr>\n",
              "      <th>6</th>\n",
              "      <td>in</td>\n",
              "      <td>at</td>\n",
              "      <td>1.603518e-300</td>\n",
              "      <td>0.801759</td>\n",
              "      <td>0.076923</td>\n",
              "    </tr>\n",
              "    <tr>\n",
              "      <th>7</th>\n",
              "      <td>in</td>\n",
              "      <td>was</td>\n",
              "      <td>6.062080e-01</td>\n",
              "      <td>5.069029</td>\n",
              "      <td>0.333333</td>\n",
              "    </tr>\n",
              "    <tr>\n",
              "      <th>8</th>\n",
              "      <td>in</td>\n",
              "      <td>will</td>\n",
              "      <td>0.000000e+00</td>\n",
              "      <td>0.000000</td>\n",
              "      <td>0.062500</td>\n",
              "    </tr>\n",
              "    <tr>\n",
              "      <th>9</th>\n",
              "      <td>in</td>\n",
              "      <td>as</td>\n",
              "      <td>3.577784e-01</td>\n",
              "      <td>4.319049</td>\n",
              "      <td>0.166667</td>\n",
              "    </tr>\n",
              "    <tr>\n",
              "      <th>10</th>\n",
              "      <td>in</td>\n",
              "      <td>he</td>\n",
              "      <td>7.643211e-02</td>\n",
              "      <td>0.801759</td>\n",
              "      <td>0.076923</td>\n",
              "    </tr>\n",
              "    <tr>\n",
              "      <th>11</th>\n",
              "      <td>in</td>\n",
              "      <td>bank</td>\n",
              "      <td>1.270470e-01</td>\n",
              "      <td>1.290026</td>\n",
              "      <td>0.090909</td>\n",
              "    </tr>\n",
              "    <tr>\n",
              "      <th>12</th>\n",
              "      <td>in</td>\n",
              "      <td>year</td>\n",
              "      <td>0.000000e+00</td>\n",
              "      <td>0.000000</td>\n",
              "      <td>0.066667</td>\n",
              "    </tr>\n",
              "    <tr>\n",
              "      <th>13</th>\n",
              "      <td>in</td>\n",
              "      <td>have</td>\n",
              "      <td>1.460760e-01</td>\n",
              "      <td>1.290026</td>\n",
              "      <td>0.083333</td>\n",
              "    </tr>\n",
              "    <tr>\n",
              "      <th>14</th>\n",
              "      <td>in</td>\n",
              "      <td>are</td>\n",
              "      <td>0.000000e+00</td>\n",
              "      <td>0.000000</td>\n",
              "      <td>0.062500</td>\n",
              "    </tr>\n",
              "    <tr>\n",
              "      <th>15</th>\n",
              "      <td>in</td>\n",
              "      <td>million</td>\n",
              "      <td>0.000000e+00</td>\n",
              "      <td>0.000000</td>\n",
              "      <td>0.066667</td>\n",
              "    </tr>\n",
              "    <tr>\n",
              "      <th>16</th>\n",
              "      <td>in</td>\n",
              "      <td>has</td>\n",
              "      <td>3.321316e-01</td>\n",
              "      <td>3.011586</td>\n",
              "      <td>0.090909</td>\n",
              "    </tr>\n",
              "    <tr>\n",
              "      <th>17</th>\n",
              "      <td>in</td>\n",
              "      <td>may</td>\n",
              "      <td>1.380300e-01</td>\n",
              "      <td>1.290026</td>\n",
              "      <td>0.058824</td>\n",
              "    </tr>\n",
              "    <tr>\n",
              "      <th>18</th>\n",
              "      <td>in</td>\n",
              "      <td>its</td>\n",
              "      <td>0.000000e+00</td>\n",
              "      <td>0.000000</td>\n",
              "      <td>0.055556</td>\n",
              "    </tr>\n",
              "    <tr>\n",
              "      <th>19</th>\n",
              "      <td>in</td>\n",
              "      <td>government</td>\n",
              "      <td>0.000000e+00</td>\n",
              "      <td>0.000000</td>\n",
              "      <td>0.062500</td>\n",
              "    </tr>\n",
              "    <tr>\n",
              "      <th>20</th>\n",
              "      <td>in</td>\n",
              "      <td>an</td>\n",
              "      <td>0.000000e+00</td>\n",
              "      <td>0.000000</td>\n",
              "      <td>0.055556</td>\n",
              "    </tr>\n",
              "    <tr>\n",
              "      <th>21</th>\n",
              "      <td>in</td>\n",
              "      <td>billion</td>\n",
              "      <td>0.000000e+00</td>\n",
              "      <td>0.000000</td>\n",
              "      <td>0.066667</td>\n",
              "    </tr>\n",
              "    <tr>\n",
              "      <th>22</th>\n",
              "      <td>in</td>\n",
              "      <td>uk</td>\n",
              "      <td>4.031089e-01</td>\n",
              "      <td>4.389168</td>\n",
              "      <td>0.142857</td>\n",
              "    </tr>\n",
              "    <tr>\n",
              "      <th>23</th>\n",
              "      <td>in</td>\n",
              "      <td>tax</td>\n",
              "      <td>0.000000e+00</td>\n",
              "      <td>0.000000</td>\n",
              "      <td>0.058824</td>\n",
              "    </tr>\n",
              "    <tr>\n",
              "      <th>24</th>\n",
              "      <td>in</td>\n",
              "      <td>rate</td>\n",
              "      <td>0.000000e+00</td>\n",
              "      <td>0.000000</td>\n",
              "      <td>0.071429</td>\n",
              "    </tr>\n",
              "    <tr>\n",
              "      <th>25</th>\n",
              "      <td>in</td>\n",
              "      <td>trade</td>\n",
              "      <td>7.627515e-02</td>\n",
              "      <td>0.801759</td>\n",
              "      <td>0.066667</td>\n",
              "    </tr>\n",
              "    <tr>\n",
              "      <th>26</th>\n",
              "      <td>in</td>\n",
              "      <td>budget</td>\n",
              "      <td>0.000000e+00</td>\n",
              "      <td>0.000000</td>\n",
              "      <td>0.058824</td>\n",
              "    </tr>\n",
              "    <tr>\n",
              "      <th>27</th>\n",
              "      <td>in</td>\n",
              "      <td>more</td>\n",
              "      <td>1.113873e-01</td>\n",
              "      <td>1.290026</td>\n",
              "      <td>0.071429</td>\n",
              "    </tr>\n",
              "    <tr>\n",
              "      <th>28</th>\n",
              "      <td>in</td>\n",
              "      <td>growth</td>\n",
              "      <td>1.226398e-01</td>\n",
              "      <td>1.290026</td>\n",
              "      <td>0.111111</td>\n",
              "    </tr>\n",
              "    <tr>\n",
              "      <th>29</th>\n",
              "      <td>in</td>\n",
              "      <td>last</td>\n",
              "      <td>1.320155e-01</td>\n",
              "      <td>1.290026</td>\n",
              "      <td>0.071429</td>\n",
              "    </tr>\n",
              "  </tbody>\n",
              "</table>\n",
              "</div>"
            ],
            "text/plain": [
              "   word1       word2            lin        res      path\n",
              "0     in          in   1.000000e+00  11.469868  1.000000\n",
              "1     in           a   6.641557e-02   0.801759  0.062500\n",
              "2     in     percent   0.000000e+00   0.000000  0.058824\n",
              "3     in          it   0.000000e+00   0.000000  0.055556\n",
              "4     in          be   9.324552e-02   0.801759  0.071429\n",
              "5     in         pct   0.000000e+00   0.000000  0.058824\n",
              "6     in          at  1.603518e-300   0.801759  0.076923\n",
              "7     in         was   6.062080e-01   5.069029  0.333333\n",
              "8     in        will   0.000000e+00   0.000000  0.062500\n",
              "9     in          as   3.577784e-01   4.319049  0.166667\n",
              "10    in          he   7.643211e-02   0.801759  0.076923\n",
              "11    in        bank   1.270470e-01   1.290026  0.090909\n",
              "12    in        year   0.000000e+00   0.000000  0.066667\n",
              "13    in        have   1.460760e-01   1.290026  0.083333\n",
              "14    in         are   0.000000e+00   0.000000  0.062500\n",
              "15    in     million   0.000000e+00   0.000000  0.066667\n",
              "16    in         has   3.321316e-01   3.011586  0.090909\n",
              "17    in         may   1.380300e-01   1.290026  0.058824\n",
              "18    in         its   0.000000e+00   0.000000  0.055556\n",
              "19    in  government   0.000000e+00   0.000000  0.062500\n",
              "20    in          an   0.000000e+00   0.000000  0.055556\n",
              "21    in     billion   0.000000e+00   0.000000  0.066667\n",
              "22    in          uk   4.031089e-01   4.389168  0.142857\n",
              "23    in         tax   0.000000e+00   0.000000  0.058824\n",
              "24    in        rate   0.000000e+00   0.000000  0.071429\n",
              "25    in       trade   7.627515e-02   0.801759  0.066667\n",
              "26    in      budget   0.000000e+00   0.000000  0.058824\n",
              "27    in        more   1.113873e-01   1.290026  0.071429\n",
              "28    in      growth   1.226398e-01   1.290026  0.111111\n",
              "29    in        last   1.320155e-01   1.290026  0.071429"
            ]
          },
          "metadata": {
            "tags": []
          }
        }
      ]
    },
    {
      "cell_type": "markdown",
      "metadata": {
        "id": "pEeLiay8Jns8"
      },
      "source": [
        "## **Spearsman Rank Correlation Coefficient** between different similarity measures"
      ]
    },
    {
      "cell_type": "code",
      "metadata": {
        "colab": {
          "base_uri": "https://localhost:8080/",
          "height": 142
        },
        "id": "T8wopaSYJgY-",
        "outputId": "7e703a19-c166-412a-e527-5324707a2e7f"
      },
      "source": [
        "compareDf.corr(method='spearman')"
      ],
      "execution_count": 207,
      "outputs": [
        {
          "output_type": "execute_result",
          "data": {
            "text/html": [
              "<div>\n",
              "<style scoped>\n",
              "    .dataframe tbody tr th:only-of-type {\n",
              "        vertical-align: middle;\n",
              "    }\n",
              "\n",
              "    .dataframe tbody tr th {\n",
              "        vertical-align: top;\n",
              "    }\n",
              "\n",
              "    .dataframe thead th {\n",
              "        text-align: right;\n",
              "    }\n",
              "</style>\n",
              "<table border=\"1\" class=\"dataframe\">\n",
              "  <thead>\n",
              "    <tr style=\"text-align: right;\">\n",
              "      <th></th>\n",
              "      <th>lin</th>\n",
              "      <th>res</th>\n",
              "      <th>path</th>\n",
              "    </tr>\n",
              "  </thead>\n",
              "  <tbody>\n",
              "    <tr>\n",
              "      <th>lin</th>\n",
              "      <td>1.000000</td>\n",
              "      <td>0.99317</td>\n",
              "      <td>0.795196</td>\n",
              "    </tr>\n",
              "    <tr>\n",
              "      <th>res</th>\n",
              "      <td>0.993170</td>\n",
              "      <td>1.00000</td>\n",
              "      <td>0.808630</td>\n",
              "    </tr>\n",
              "    <tr>\n",
              "      <th>path</th>\n",
              "      <td>0.795196</td>\n",
              "      <td>0.80863</td>\n",
              "      <td>1.000000</td>\n",
              "    </tr>\n",
              "  </tbody>\n",
              "</table>\n",
              "</div>"
            ],
            "text/plain": [
              "           lin      res      path\n",
              "lin   1.000000  0.99317  0.795196\n",
              "res   0.993170  1.00000  0.808630\n",
              "path  0.795196  0.80863  1.000000"
            ]
          },
          "metadata": {
            "tags": []
          },
          "execution_count": 207
        }
      ]
    },
    {
      "cell_type": "markdown",
      "metadata": {
        "id": "H0IOpjrP5Gx6"
      },
      "source": [
        "## **Correlation Scatter Plot**"
      ]
    },
    {
      "cell_type": "code",
      "metadata": {
        "colab": {
          "base_uri": "https://localhost:8080/",
          "height": 803
        },
        "id": "jDwYP45g4g59",
        "outputId": "a07b31cb-d2a7-45c4-f8d6-eb3ca366ac55"
      },
      "source": [
        "def draw_scatter(x,y):\n",
        "\n",
        "    compareDf[x]=compareDf[x].map(float)\n",
        "    compareDf[y]=compareDf[y].map(float)\n",
        "    \n",
        "    compareDf.plot.scatter(x,y)\n",
        "draw_scatter('res','lin')\n",
        "draw_scatter('res','path')\n",
        "draw_scatter('path','lin')"
      ],
      "execution_count": 170,
      "outputs": [
        {
          "output_type": "display_data",
          "data": {
            "image/png": "[encoded data removed]",
            "text/plain": [
              "<Figure size 432x288 with 1 Axes>"
            ]
          },
          "metadata": {
            "tags": [],
            "needs_background": "light"
          }
        },
        {
          "output_type": "display_data",
          "data": {
            "image/png": "[encoded data removed]",
            "text/plain": [
              "<Figure size 432x288 with 1 Axes>"
            ]
          },
          "metadata": {
            "tags": [],
            "needs_background": "light"
          }
        },
        {
          "output_type": "display_data",
          "data": {
            "image/png": "[encoded data removed]",
            "text/plain": [
              "<Figure size 432x288 with 1 Axes>"
            ]
          },
          "metadata": {
            "tags": [],
            "needs_background": "light"
          }
        }
      ]
    },
    {
      "cell_type": "markdown",
      "metadata": {
        "id": "sdsiRoia5PM0"
      },
      "source": [
        "It shows **positive correlation** between all the similarity measures, with resnick and lin similarity measure the most correlated"
      ]
    },
    {
      "cell_type": "code",
      "metadata": {
        "id": "gK9Xb0q0J2C2"
      },
      "source": [
        "#initialize empty\n",
        "freqList={}\n",
        "#for each tuple in the lin similarity list\n",
        "for tup in linsimList:\n",
        "  #check if the first word in the tuple is the most frequent word in the top1000 nouns\n",
        "  if tup[0]==list(top1000Dict.keys())[0]:\n",
        "    #if it is add the second word and the corresponding lin similarity value to our dictionary\n",
        "    freqList[tup[1]]=tup[2]\n"
      ],
      "execution_count": 29,
      "outputs": []
    },
    {
      "cell_type": "code",
      "metadata": {
        "colab": {
          "base_uri": "https://localhost:8080/"
        },
        "id": "SuXMzYz2KQuo",
        "outputId": "7ca0c2fc-ed42-409c-fff7-a66a294819b9"
      },
      "source": [
        "len(freqList)"
      ],
      "execution_count": 30,
      "outputs": [
        {
          "output_type": "execute_result",
          "data": {
            "text/plain": [
              "1000"
            ]
          },
          "metadata": {
            "tags": []
          },
          "execution_count": 30
        }
      ]
    },
    {
      "cell_type": "code",
      "metadata": {
        "id": "QAB_3fD5JWlH"
      },
      "source": [
        "#sort the dictionary in descending order\n",
        "sortedFreqList=list(sorted(freqList.items(), key=lambda kv: kv[1], reverse=True))"
      ],
      "execution_count": 31,
      "outputs": []
    },
    {
      "cell_type": "code",
      "metadata": {
        "colab": {
          "base_uri": "https://localhost:8080/"
        },
        "id": "wkjRH3H4LiDH",
        "outputId": "293f4ada-054a-4139-f765-b5bd7937dc2e"
      },
      "source": [
        "#get the 10 most similar words\n",
        "mostSimilar=sortedFreqList[:10]\n",
        "mostSimilar"
      ],
      "execution_count": 32,
      "outputs": [
        {
          "output_type": "execute_result",
          "data": {
            "text/plain": [
              "[('in', 1.0),\n",
              " ('was', 0.6062080080943216),\n",
              " ('washington', 0.6062080080943216),\n",
              " ('state', 0.60551929298177),\n",
              " ('states', 0.60551929298177),\n",
              " ('district', 0.5470987992065358),\n",
              " ('country', 0.49867275686764123),\n",
              " ('countries', 0.49867275686764123),\n",
              " ('city', 0.4982955561639145),\n",
              " ('de', 0.4804952241223572)]"
            ]
          },
          "metadata": {
            "tags": []
          },
          "execution_count": 32
        }
      ]
    },
    {
      "cell_type": "markdown",
      "metadata": {
        "id": "3BxDUsFkhSzD"
      },
      "source": [
        "d)\n",
        "i) Write code to construct distributional vector representations of words in the corpus with a parameter to specify context size.  Explain how you calculate the value of association between each word and each context feature.\n",
        "\n",
        "ii) Use your code to construct representations of the 1000 words identified in Q2 with a window size of 1 and thus determine the 10 words which are distributionally most similar to the most frequent word in the corpus. [10 marks]"
      ]
    },
    {
      "cell_type": "code",
      "metadata": {
        "id": "ZUk09HGdu6Y5"
      },
      "source": [
        "#same functionality as the generate_features function above but return 2 extra dictionaries: \n",
        "#feattotals(row total of each feature) and wordtotals(column total of each word in corpus)\n",
        "def generate_featuresEdited(sentenes,window):\n",
        "  \n",
        "  #the frequency of each feature: a dictionary of integers (with the same keys as the dictionaries indexed by reps)\n",
        "  feattotals={}\n",
        "  #the frequency of each word: a dictionary of integers (with the same keys as reps)\n",
        "  wordtotals={}\n",
        "  #the feature representations: a dictionary of dictionaries, the same as in question 2a\n",
        "  reps={}\n",
        "  for sentence in sentences:\n",
        "    for i,token in enumerate(sentence):\n",
        "      current=reps.get(token,{})\n",
        "      features=sentence[max(0,i-window):i]+sentence[i+1:i+window+1]\n",
        "      for feature in features:\n",
        "        current[feature]=current.get(feature,0)+1\n",
        "        feattotals[feature]=feattotals.get(feature,0)+1\n",
        "      wordtotals[token]=wordtotals.get(token,0)+len(features)\n",
        "      reps[token]=current\n",
        "  return feattotals, wordtotals, reps"
      ],
      "execution_count": 33,
      "outputs": []
    },
    {
      "cell_type": "markdown",
      "metadata": {
        "id": "WDwtiKw1Yt8o"
      },
      "source": [
        "## **PPMI**\n",
        "\n",
        "\n",
        "*   Intuition: some features are more informative that others\n",
        "*   PMI measures the amount of information gained by seeing a word and a feature together.\n",
        "*   If a feature co-occurs with a target word more than we expect, if words and features occured independently, then it has more weight in the similarity calculation.\n",
        "*   PMI Equation: \n",
        "\\begin{eqnarray*}\n",
        "PMI(word,feat) = \\frac{\\mbox{freq}(word,feat) \\times \\Sigma_{w*,f*} \\mbox{freq}(w*,f*)}{\\Sigma_{f*} \\mbox{freq}(word,f*) \\times \\Sigma_{w*} \\mbox{freq}(w*,feat)}\n",
        "\\end{eqnarray*}\n",
        "*   Use positive PMI to ignore when cooccurrence frequency is 0.\n",
        "\\begin{eqnarray*}\n",
        "\\mbox{PPMI}(word,feat)=\n",
        "\\begin{cases}PMI(word,feat),& \\mbox{if PMI}(word,feat)>0\\\\\n",
        "=0,& \\mbox{otherwise}\n",
        "\\end{cases}\n",
        "\\end{eqnarray*}\n",
        "\n",
        "\n",
        "\n",
        "\n",
        "\n",
        "\n"
      ]
    },
    {
      "cell_type": "code",
      "metadata": {
        "id": "9Q-juJ--veYd"
      },
      "source": [
        "def convert_to_ppmi(sentences,window):\n",
        "  feattotals,wordtotals,reps=generate_featuresEdited(sentences,window)\n",
        "  #sum of all co-occurrences \n",
        "  grandtotal=sum(wordtotals.values())\n",
        "  ppmi={word:{feat:max(0,math.log((freq*grandtotal)/(wordtotals[word]*feattotals[feat]),2)) for (feat,freq) in rep.items()} for (word,rep) in reps.items()}\n",
        "  return ppmi\n",
        "        "
      ],
      "execution_count": 34,
      "outputs": []
    },
    {
      "cell_type": "code",
      "metadata": {
        "id": "BrhCqV5_wedy"
      },
      "source": [
        "ppmi=convert_to_ppmi(sentences,1)"
      ],
      "execution_count": 35,
      "outputs": []
    },
    {
      "cell_type": "code",
      "metadata": {
        "id": "u2Jz0Q73wBep"
      },
      "source": [
        "#convert the whole sentences' ppmi to a dictrionary of the top 1000 noun words and their corresponding dictionary of features\n",
        "topreps={}\n",
        "for word in ppmi.keys():\n",
        "  if word in top1000Dict.keys():\n",
        "    topreps[word]=ppmi[word]\n",
        "\n"
      ],
      "execution_count": 36,
      "outputs": []
    },
    {
      "cell_type": "code",
      "metadata": {
        "colab": {
          "base_uri": "https://localhost:8080/"
        },
        "id": "6O76-3v1wjSm",
        "outputId": "b94cdcda-d02b-4798-aad2-a3a0ca3c7153"
      },
      "source": [
        "len(topreps)"
      ],
      "execution_count": 37,
      "outputs": [
        {
          "output_type": "execute_result",
          "data": {
            "text/plain": [
              "1000"
            ]
          },
          "metadata": {
            "tags": []
          },
          "execution_count": 37
        }
      ]
    },
    {
      "cell_type": "code",
      "metadata": {
        "id": "k5mZKdJdrY4Q"
      },
      "source": [
        "#topWord is a dictionary of the co-occurence features and their frequency values of the most frequent noun \n",
        "topWord=topreps[list(top1000Dict.keys())[0]]"
      ],
      "execution_count": 38,
      "outputs": []
    },
    {
      "cell_type": "code",
      "metadata": {
        "colab": {
          "base_uri": "https://localhost:8080/",
          "height": 35
        },
        "id": "d2_Bbk5dcPry",
        "outputId": "8d8e3f73-953d-4e0a-9fa5-49c8a7e620cd"
      },
      "source": [
        "list(top1000Dict.keys())[0]"
      ],
      "execution_count": 39,
      "outputs": [
        {
          "output_type": "execute_result",
          "data": {
            "application/vnd.google.colaboratory.intrinsic+json": {
              "type": "string"
            },
            "text/plain": [
              "'in'"
            ]
          },
          "metadata": {
            "tags": []
          },
          "execution_count": 39
        }
      ]
    },
    {
      "cell_type": "code",
      "metadata": {
        "id": "y8GG-7XExvPd"
      },
      "source": [
        "#sort topWord in descending order\n",
        "sortedTopWord=list(sorted(topWord.items(), key=lambda kv: kv[1], reverse=True))"
      ],
      "execution_count": 40,
      "outputs": []
    },
    {
      "cell_type": "code",
      "metadata": {
        "colab": {
          "base_uri": "https://localhost:8080/"
        },
        "id": "r4CaRhM8x4zw",
        "outputId": "4bc52a38-90f6-4753-b591-d5f81eebed94"
      },
      "source": [
        "#print the most similar 10 words\n",
        "sortedTopWord[:10]"
      ],
      "execution_count": 41,
      "outputs": [
        {
          "output_type": "execute_result",
          "data": {
            "text/plain": [
              "[('vogue', 5.8177747377253715),\n",
              " ('*amounts', 5.8177747377253715),\n",
              " ('bullock-carts', 5.8177747377253715),\n",
              " ('defect', 5.8177747377253715),\n",
              " ('gyrations', 5.8177747377253715),\n",
              " ('call-features', 5.8177747377253715),\n",
              " ('**trend', 5.8177747377253715),\n",
              " ('gold-', 5.8177747377253715),\n",
              " ('kandahar', 5.8177747377253715),\n",
              " ('policymarkers', 5.8177747377253715)]"
            ]
          },
          "metadata": {
            "tags": []
          },
          "execution_count": 41
        }
      ]
    },
    {
      "cell_type": "markdown",
      "metadata": {
        "id": "Uo009tKWrZoB"
      },
      "source": [
        "e) Plan and carry out an investigation into the correlation between semantic similarity according to WordNet and distributional similarity with different context window sizes. You should make sure that you include a graph of how correlation varies with context window size and that you discuss your results. [15 marks]"
      ]
    },
    {
      "cell_type": "markdown",
      "metadata": {
        "id": "iGrhh1wHk6Gg"
      },
      "source": [
        "In order to evaluate the different similarity measures, we tend to calculate correlation between human judgements and the obtained similarity measures. Since we don't have human judgement here, i will be calculating the correlation between PPMI with different window size and lin similarity measure. I will also calculate the correlation between PPMIS of different window sizes. \n",
        "\n",
        "I will use **Spearsman Rank Correlation Coefficient**."
      ]
    },
    {
      "cell_type": "code",
      "metadata": {
        "id": "m97Z-iHj-aAE"
      },
      "source": [
        "#function that converts ppmi to a list of tuples\n",
        "def convertPPMItoList(ppmi):\n",
        "  ppmiReps=[]\n",
        "  for k in ppmi.keys():\n",
        "    for key2 in ppmi[k].keys():\n",
        "      tupl=(k,key2,ppmi[k][key2])\n",
        "      ppmiReps.append(tupl)\n",
        "  return ppmiReps\n"
      ],
      "execution_count": 42,
      "outputs": []
    },
    {
      "cell_type": "code",
      "metadata": {
        "id": "cKFkZAlIOxpg"
      },
      "source": [
        "#function to get the common word pairs and their corresponding values between 2 lists of similarity measures \n",
        "def getCommonPairs(list1, list2):\n",
        "  reps1=[]\n",
        "  reps2=[]\n",
        "  for tup in list1:\n",
        "    if tup[0] in list2.keys():\n",
        "      if tup[1] in list2[tup[0]].keys():\n",
        "        reps2.append((tup[0],tup[1],list2[tup[0]][tup[1]]))\n",
        "        reps1.append((tup[0],tup[1],tup[2]))\n",
        "  return reps1, reps2"
      ],
      "execution_count": 43,
      "outputs": []
    },
    {
      "cell_type": "code",
      "metadata": {
        "id": "kirvEAf_GPdd"
      },
      "source": [
        "ppmi1=ppmi\n",
        "ppmi2=convert_to_ppmi(sentences,2)\n",
        "ppmi3=convert_to_ppmi(sentences,3)\n"
      ],
      "execution_count": 44,
      "outputs": []
    },
    {
      "cell_type": "code",
      "metadata": {
        "colab": {
          "base_uri": "https://localhost:8080/",
          "height": 282
        },
        "id": "lhNpYltyQ3de",
        "outputId": "660b5c0f-6a21-43ed-8953-d46c0fd0dd21"
      },
      "source": [
        "import matplotlib.pyplot as plt\n",
        "\n",
        "#scatter plot of ppmi of window size 3 with lin similarity measure\n",
        "reps1, reps2=getCommonPairs(linsimList,ppmi3)\n",
        "plt.scatter([tup[2] for tup in reps1[:1000]],[tup[2] for tup in reps2[:1000]])"
      ],
      "execution_count": 254,
      "outputs": [
        {
          "output_type": "execute_result",
          "data": {
            "text/plain": [
              "<matplotlib.collections.PathCollection at 0x7f021dc19240>"
            ]
          },
          "metadata": {
            "tags": []
          },
          "execution_count": 254
        },
        {
          "output_type": "display_data",
          "data": {
            "image/png": "[encoded data removed]",
            "text/plain": [
              "<Figure size 432x288 with 1 Axes>"
            ]
          },
          "metadata": {
            "tags": [],
            "needs_background": "light"
          }
        }
      ]
    },
    {
      "cell_type": "code",
      "metadata": {
        "colab": {
          "base_uri": "https://localhost:8080/",
          "height": 111
        },
        "id": "UBvr8AqbV_K1",
        "outputId": "2f2c8a80-de14-4f7e-c965-f44d52d66a7f"
      },
      "source": [
        "scatterDF=pd.DataFrame()\n",
        "scatterDF['lin sim']=[tup[2] for tup in reps1]\n",
        "scatterDF['ppmi window 3']=[tup[2] for tup in reps2]\n",
        "scatterDF.corr(method='spearman')"
      ],
      "execution_count": 255,
      "outputs": [
        {
          "output_type": "execute_result",
          "data": {
            "text/html": [
              "<div>\n",
              "<style scoped>\n",
              "    .dataframe tbody tr th:only-of-type {\n",
              "        vertical-align: middle;\n",
              "    }\n",
              "\n",
              "    .dataframe tbody tr th {\n",
              "        vertical-align: top;\n",
              "    }\n",
              "\n",
              "    .dataframe thead th {\n",
              "        text-align: right;\n",
              "    }\n",
              "</style>\n",
              "<table border=\"1\" class=\"dataframe\">\n",
              "  <thead>\n",
              "    <tr style=\"text-align: right;\">\n",
              "      <th></th>\n",
              "      <th>lin sim</th>\n",
              "      <th>ppmi window 3</th>\n",
              "    </tr>\n",
              "  </thead>\n",
              "  <tbody>\n",
              "    <tr>\n",
              "      <th>lin sim</th>\n",
              "      <td>1.000000</td>\n",
              "      <td>0.013658</td>\n",
              "    </tr>\n",
              "    <tr>\n",
              "      <th>ppmi window 3</th>\n",
              "      <td>0.013658</td>\n",
              "      <td>1.000000</td>\n",
              "    </tr>\n",
              "  </tbody>\n",
              "</table>\n",
              "</div>"
            ],
            "text/plain": [
              "                lin sim  ppmi window 3\n",
              "lin sim        1.000000       0.013658\n",
              "ppmi window 3  0.013658       1.000000"
            ]
          },
          "metadata": {
            "tags": []
          },
          "execution_count": 255
        }
      ]
    },
    {
      "cell_type": "code",
      "metadata": {
        "colab": {
          "base_uri": "https://localhost:8080/",
          "height": 283
        },
        "id": "PJ10l1CCIrPU",
        "outputId": "0c42d441-7456-4032-b405-46cfa40e9ed9"
      },
      "source": [
        "#scatter plot of ppmi of window size 10 with lin similarity measure\n",
        "ppmi10=convert_to_ppmi(sentences,10)\n",
        "reps1, reps2=getCommonPairs(linsimList,ppmi10)\n",
        "plt.scatter([tup[2] for tup in reps1[:1000]],[tup[2] for tup in reps2[:1000]])"
      ],
      "execution_count": 252,
      "outputs": [
        {
          "output_type": "execute_result",
          "data": {
            "text/plain": [
              "<matplotlib.collections.PathCollection at 0x7f026b07b710>"
            ]
          },
          "metadata": {
            "tags": []
          },
          "execution_count": 252
        },
        {
          "output_type": "display_data",
          "data": {
            "image/png": "[encoded data removed]",
            "text/plain": [
              "<Figure size 432x288 with 1 Axes>"
            ]
          },
          "metadata": {
            "tags": [],
            "needs_background": "light"
          }
        }
      ]
    },
    {
      "cell_type": "code",
      "metadata": {
        "colab": {
          "base_uri": "https://localhost:8080/",
          "height": 111
        },
        "id": "oEJBFklXV0WD",
        "outputId": "ea2bc23e-eae6-4b09-bf2b-21210fdd9a4f"
      },
      "source": [
        "scatterDF=pd.DataFrame()\n",
        "scatterDF['lin sim']=[tup[2] for tup in reps1]\n",
        "scatterDF['ppmi window 10']=[tup[2] for tup in reps2]\n",
        "scatterDF.corr(method='spearman')"
      ],
      "execution_count": 253,
      "outputs": [
        {
          "output_type": "execute_result",
          "data": {
            "text/html": [
              "<div>\n",
              "<style scoped>\n",
              "    .dataframe tbody tr th:only-of-type {\n",
              "        vertical-align: middle;\n",
              "    }\n",
              "\n",
              "    .dataframe tbody tr th {\n",
              "        vertical-align: top;\n",
              "    }\n",
              "\n",
              "    .dataframe thead th {\n",
              "        text-align: right;\n",
              "    }\n",
              "</style>\n",
              "<table border=\"1\" class=\"dataframe\">\n",
              "  <thead>\n",
              "    <tr style=\"text-align: right;\">\n",
              "      <th></th>\n",
              "      <th>lin sim</th>\n",
              "      <th>ppmi window 10</th>\n",
              "    </tr>\n",
              "  </thead>\n",
              "  <tbody>\n",
              "    <tr>\n",
              "      <th>lin sim</th>\n",
              "      <td>1.000000</td>\n",
              "      <td>0.006366</td>\n",
              "    </tr>\n",
              "    <tr>\n",
              "      <th>ppmi window 10</th>\n",
              "      <td>0.006366</td>\n",
              "      <td>1.000000</td>\n",
              "    </tr>\n",
              "  </tbody>\n",
              "</table>\n",
              "</div>"
            ],
            "text/plain": [
              "                 lin sim  ppmi window 10\n",
              "lin sim         1.000000        0.006366\n",
              "ppmi window 10  0.006366        1.000000"
            ]
          },
          "metadata": {
            "tags": []
          },
          "execution_count": 253
        }
      ]
    },
    {
      "cell_type": "code",
      "metadata": {
        "colab": {
          "base_uri": "https://localhost:8080/",
          "height": 282
        },
        "id": "QanaGj9cI4B3",
        "outputId": "8940c79b-0ca9-4fb6-d495-03fa07899a6a"
      },
      "source": [
        "#scatter plot of ppmi of window size 5 with lin similarity measure\n",
        "ppmi5=convert_to_ppmi(sentences,5)\n",
        "reps1, reps2=getCommonPairs(linsimList,ppmi5)\n",
        "plt.scatter([tup[2] for tup in reps1[:1000]],[tup[2] for tup in reps2[:1000]])"
      ],
      "execution_count": 45,
      "outputs": [
        {
          "output_type": "execute_result",
          "data": {
            "text/plain": [
              "<matplotlib.collections.PathCollection at 0x7f2323dca898>"
            ]
          },
          "metadata": {
            "tags": []
          },
          "execution_count": 45
        },
        {
          "output_type": "display_data",
          "data": {
            "image/png": "[encoded data removed]",
            "text/plain": [
              "<Figure size 432x288 with 1 Axes>"
            ]
          },
          "metadata": {
            "tags": [],
            "needs_background": "light"
          }
        }
      ]
    },
    {
      "cell_type": "code",
      "metadata": {
        "colab": {
          "base_uri": "https://localhost:8080/",
          "height": 111
        },
        "id": "cfHkx_XRVucW",
        "outputId": "0d8ea6f1-be10-4909-b385-8fcdde1d16bb"
      },
      "source": [
        "scatterDF=pd.DataFrame()\n",
        "scatterDF['lin sim']=[tup[2] for tup in reps1]\n",
        "scatterDF['ppmi window 5']=[tup[2] for tup in reps2]\n",
        "scatterDF.corr(method='spearman')"
      ],
      "execution_count": 46,
      "outputs": [
        {
          "output_type": "execute_result",
          "data": {
            "text/html": [
              "<div>\n",
              "<style scoped>\n",
              "    .dataframe tbody tr th:only-of-type {\n",
              "        vertical-align: middle;\n",
              "    }\n",
              "\n",
              "    .dataframe tbody tr th {\n",
              "        vertical-align: top;\n",
              "    }\n",
              "\n",
              "    .dataframe thead th {\n",
              "        text-align: right;\n",
              "    }\n",
              "</style>\n",
              "<table border=\"1\" class=\"dataframe\">\n",
              "  <thead>\n",
              "    <tr style=\"text-align: right;\">\n",
              "      <th></th>\n",
              "      <th>lin sim</th>\n",
              "      <th>ppmi window 5</th>\n",
              "    </tr>\n",
              "  </thead>\n",
              "  <tbody>\n",
              "    <tr>\n",
              "      <th>lin sim</th>\n",
              "      <td>1.0000</td>\n",
              "      <td>0.0083</td>\n",
              "    </tr>\n",
              "    <tr>\n",
              "      <th>ppmi window 5</th>\n",
              "      <td>0.0083</td>\n",
              "      <td>1.0000</td>\n",
              "    </tr>\n",
              "  </tbody>\n",
              "</table>\n",
              "</div>"
            ],
            "text/plain": [
              "               lin sim  ppmi window 5\n",
              "lin sim         1.0000         0.0083\n",
              "ppmi window 5   0.0083         1.0000"
            ]
          },
          "metadata": {
            "tags": []
          },
          "execution_count": 46
        }
      ]
    },
    {
      "cell_type": "code",
      "metadata": {
        "colab": {
          "base_uri": "https://localhost:8080/",
          "height": 282
        },
        "id": "DIjwW-UpRcr9",
        "outputId": "a0674efd-1be1-4d1d-e65d-01f7ae0a09c5"
      },
      "source": [
        "#scatter plot of ppmi of window size 13 with lin similarity measure\n",
        "ppmi13=convert_to_ppmi(sentences,13)\n",
        "reps1, reps2=getCommonPairs(linsimList,ppmi13)\n",
        "plt.scatter([tup[2] for tup in reps1[:1000]],[tup[2] for tup in reps2[:1000]])"
      ],
      "execution_count": 248,
      "outputs": [
        {
          "output_type": "execute_result",
          "data": {
            "text/plain": [
              "<matplotlib.collections.PathCollection at 0x7f024bad0390>"
            ]
          },
          "metadata": {
            "tags": []
          },
          "execution_count": 248
        },
        {
          "output_type": "display_data",
          "data": {
            "image/png": "[encoded data removed]",
            "text/plain": [
              "<Figure size 432x288 with 1 Axes>"
            ]
          },
          "metadata": {
            "tags": [],
            "needs_background": "light"
          }
        }
      ]
    },
    {
      "cell_type": "code",
      "metadata": {
        "colab": {
          "base_uri": "https://localhost:8080/",
          "height": 111
        },
        "id": "y_4qp4SoVfgv",
        "outputId": "31d311e9-a122-4c63-aa62-d984e88552f3"
      },
      "source": [
        "scatterDF=pd.DataFrame()\n",
        "scatterDF['lin sim']=[tup[2] for tup in reps1]\n",
        "scatterDF['ppmi window 13']=[tup[2] for tup in reps2]\n",
        "scatterDF.corr(method='spearman')"
      ],
      "execution_count": 249,
      "outputs": [
        {
          "output_type": "execute_result",
          "data": {
            "text/html": [
              "<div>\n",
              "<style scoped>\n",
              "    .dataframe tbody tr th:only-of-type {\n",
              "        vertical-align: middle;\n",
              "    }\n",
              "\n",
              "    .dataframe tbody tr th {\n",
              "        vertical-align: top;\n",
              "    }\n",
              "\n",
              "    .dataframe thead th {\n",
              "        text-align: right;\n",
              "    }\n",
              "</style>\n",
              "<table border=\"1\" class=\"dataframe\">\n",
              "  <thead>\n",
              "    <tr style=\"text-align: right;\">\n",
              "      <th></th>\n",
              "      <th>lin sim</th>\n",
              "      <th>ppmi window 13</th>\n",
              "    </tr>\n",
              "  </thead>\n",
              "  <tbody>\n",
              "    <tr>\n",
              "      <th>lin sim</th>\n",
              "      <td>1.000000</td>\n",
              "      <td>0.006016</td>\n",
              "    </tr>\n",
              "    <tr>\n",
              "      <th>ppmi window 13</th>\n",
              "      <td>0.006016</td>\n",
              "      <td>1.000000</td>\n",
              "    </tr>\n",
              "  </tbody>\n",
              "</table>\n",
              "</div>"
            ],
            "text/plain": [
              "                 lin sim  ppmi window 13\n",
              "lin sim         1.000000        0.006016\n",
              "ppmi window 13  0.006016        1.000000"
            ]
          },
          "metadata": {
            "tags": []
          },
          "execution_count": 249
        }
      ]
    },
    {
      "cell_type": "code",
      "metadata": {
        "colab": {
          "base_uri": "https://localhost:8080/",
          "height": 282
        },
        "id": "ZpJbDK2-RncV",
        "outputId": "8aa4707f-2caf-4988-bac7-8aff0ee4f1aa"
      },
      "source": [
        "#scatter plot of ppmi of window size 1 with lin similarity measure\n",
        "reps1, reps2=getCommonPairs(linsimList,ppmi1)\n",
        "plt.scatter([tup[2] for tup in reps1[:1000]],[tup[2] for tup in reps2[:1000]])"
      ],
      "execution_count": 47,
      "outputs": [
        {
          "output_type": "execute_result",
          "data": {
            "text/plain": [
              "<matplotlib.collections.PathCollection at 0x7f23312d29b0>"
            ]
          },
          "metadata": {
            "tags": []
          },
          "execution_count": 47
        },
        {
          "output_type": "display_data",
          "data": {
            "image/png": "[encoded data removed]",
            "text/plain": [
              "<Figure size 432x288 with 1 Axes>"
            ]
          },
          "metadata": {
            "tags": [],
            "needs_background": "light"
          }
        }
      ]
    },
    {
      "cell_type": "code",
      "metadata": {
        "colab": {
          "base_uri": "https://localhost:8080/",
          "height": 111
        },
        "id": "udLH2dSwVWLC",
        "outputId": "eb69766b-2b1f-48e7-8881-182b9c43958f"
      },
      "source": [
        "scatterDF=pd.DataFrame()\n",
        "scatterDF['lin sim']=[tup[2] for tup in reps1]\n",
        "scatterDF['ppmi window 1']=[tup[2] for tup in reps2]\n",
        "scatterDF.corr(method='spearman')"
      ],
      "execution_count": 48,
      "outputs": [
        {
          "output_type": "execute_result",
          "data": {
            "text/html": [
              "<div>\n",
              "<style scoped>\n",
              "    .dataframe tbody tr th:only-of-type {\n",
              "        vertical-align: middle;\n",
              "    }\n",
              "\n",
              "    .dataframe tbody tr th {\n",
              "        vertical-align: top;\n",
              "    }\n",
              "\n",
              "    .dataframe thead th {\n",
              "        text-align: right;\n",
              "    }\n",
              "</style>\n",
              "<table border=\"1\" class=\"dataframe\">\n",
              "  <thead>\n",
              "    <tr style=\"text-align: right;\">\n",
              "      <th></th>\n",
              "      <th>lin sim</th>\n",
              "      <th>ppmi window 1</th>\n",
              "    </tr>\n",
              "  </thead>\n",
              "  <tbody>\n",
              "    <tr>\n",
              "      <th>lin sim</th>\n",
              "      <td>1.000000</td>\n",
              "      <td>0.038379</td>\n",
              "    </tr>\n",
              "    <tr>\n",
              "      <th>ppmi window 1</th>\n",
              "      <td>0.038379</td>\n",
              "      <td>1.000000</td>\n",
              "    </tr>\n",
              "  </tbody>\n",
              "</table>\n",
              "</div>"
            ],
            "text/plain": [
              "                lin sim  ppmi window 1\n",
              "lin sim        1.000000       0.038379\n",
              "ppmi window 1  0.038379       1.000000"
            ]
          },
          "metadata": {
            "tags": []
          },
          "execution_count": 48
        }
      ]
    },
    {
      "cell_type": "markdown",
      "metadata": {
        "id": "0geu_yavl7qB"
      },
      "source": [
        "After Observing the scatter plots and correlation coefficient, i realized that semantic similarity and distributional similarity have little to no correlation with one another. "
      ]
    },
    {
      "cell_type": "code",
      "metadata": {
        "colab": {
          "base_uri": "https://localhost:8080/",
          "height": 284
        },
        "id": "hKZmLzg6SALa",
        "outputId": "a821708f-7098-4303-db04-e50bd5cc7ce2"
      },
      "source": [
        "#scatter plot of window size 1 with window size 2\n",
        "ppmilist2=convertPPMItoList(ppmi2)\n",
        "reps1, reps2=getCommonPairs(ppmilist2,ppmi1)\n",
        "plt.scatter([tup[2] for tup in reps1[:1000]],[tup[2] for tup in reps2[:1000]])"
      ],
      "execution_count": 244,
      "outputs": [
        {
          "output_type": "execute_result",
          "data": {
            "text/plain": [
              "<matplotlib.collections.PathCollection at 0x7f024bad2438>"
            ]
          },
          "metadata": {
            "tags": []
          },
          "execution_count": 244
        },
        {
          "output_type": "display_data",
          "data": {
            "image/png": "[encoded data removed]",
            "text/plain": [
              "<Figure size 432x288 with 1 Axes>"
            ]
          },
          "metadata": {
            "tags": [],
            "needs_background": "light"
          }
        }
      ]
    },
    {
      "cell_type": "code",
      "metadata": {
        "colab": {
          "base_uri": "https://localhost:8080/",
          "height": 111
        },
        "id": "z48NdLixVSUJ",
        "outputId": "0b9bf57f-3b4c-4d20-da7a-802ef85cf3eb"
      },
      "source": [
        "scatterDF=pd.DataFrame()\n",
        "scatterDF['window2']=[tup[2] for tup in reps1]\n",
        "scatterDF['window1']=[tup[2] for tup in reps2]\n",
        "scatterDF.corr(method='spearman')"
      ],
      "execution_count": 245,
      "outputs": [
        {
          "output_type": "execute_result",
          "data": {
            "text/html": [
              "<div>\n",
              "<style scoped>\n",
              "    .dataframe tbody tr th:only-of-type {\n",
              "        vertical-align: middle;\n",
              "    }\n",
              "\n",
              "    .dataframe tbody tr th {\n",
              "        vertical-align: top;\n",
              "    }\n",
              "\n",
              "    .dataframe thead th {\n",
              "        text-align: right;\n",
              "    }\n",
              "</style>\n",
              "<table border=\"1\" class=\"dataframe\">\n",
              "  <thead>\n",
              "    <tr style=\"text-align: right;\">\n",
              "      <th></th>\n",
              "      <th>window2</th>\n",
              "      <th>window1</th>\n",
              "    </tr>\n",
              "  </thead>\n",
              "  <tbody>\n",
              "    <tr>\n",
              "      <th>window2</th>\n",
              "      <td>1.000000</td>\n",
              "      <td>0.980887</td>\n",
              "    </tr>\n",
              "    <tr>\n",
              "      <th>window1</th>\n",
              "      <td>0.980887</td>\n",
              "      <td>1.000000</td>\n",
              "    </tr>\n",
              "  </tbody>\n",
              "</table>\n",
              "</div>"
            ],
            "text/plain": [
              "          window2   window1\n",
              "window2  1.000000  0.980887\n",
              "window1  0.980887  1.000000"
            ]
          },
          "metadata": {
            "tags": []
          },
          "execution_count": 245
        }
      ]
    },
    {
      "cell_type": "code",
      "metadata": {
        "colab": {
          "base_uri": "https://localhost:8080/",
          "height": 284
        },
        "id": "1Bbo9WUoSPpD",
        "outputId": "7422be54-d2c3-437f-ba4e-f5be9b29af4d"
      },
      "source": [
        "#scatter plot of window size 1 with window size 3\n",
        "ppmilist3=convertPPMItoList(ppmi3)\n",
        "reps1, reps2=getCommonPairs(ppmilist3,ppmi1)\n",
        "plt.scatter([tup[2] for tup in reps1[:1000]],[tup[2] for tup in reps2[:1000]])"
      ],
      "execution_count": 280,
      "outputs": [
        {
          "output_type": "execute_result",
          "data": {
            "text/plain": [
              "<matplotlib.collections.PathCollection at 0x7f01afe49eb8>"
            ]
          },
          "metadata": {
            "tags": []
          },
          "execution_count": 280
        },
        {
          "output_type": "display_data",
          "data": {
            "image/png": "[encoded data removed]",
            "text/plain": [
              "<Figure size 432x288 with 1 Axes>"
            ]
          },
          "metadata": {
            "tags": [],
            "needs_background": "light"
          }
        }
      ]
    },
    {
      "cell_type": "code",
      "metadata": {
        "colab": {
          "base_uri": "https://localhost:8080/",
          "height": 111
        },
        "id": "UsLHxH8DVNP0",
        "outputId": "db4dd3fd-9217-438e-8436-001af01b7945"
      },
      "source": [
        "scatterDF=pd.DataFrame()\n",
        "scatterDF['window3']=[tup[2] for tup in reps1]\n",
        "scatterDF['window1']=[tup[2] for tup in reps2]\n",
        "scatterDF.corr(method='spearman')"
      ],
      "execution_count": 281,
      "outputs": [
        {
          "output_type": "execute_result",
          "data": {
            "text/html": [
              "<div>\n",
              "<style scoped>\n",
              "    .dataframe tbody tr th:only-of-type {\n",
              "        vertical-align: middle;\n",
              "    }\n",
              "\n",
              "    .dataframe tbody tr th {\n",
              "        vertical-align: top;\n",
              "    }\n",
              "\n",
              "    .dataframe thead th {\n",
              "        text-align: right;\n",
              "    }\n",
              "</style>\n",
              "<table border=\"1\" class=\"dataframe\">\n",
              "  <thead>\n",
              "    <tr style=\"text-align: right;\">\n",
              "      <th></th>\n",
              "      <th>window3</th>\n",
              "      <th>window1</th>\n",
              "    </tr>\n",
              "  </thead>\n",
              "  <tbody>\n",
              "    <tr>\n",
              "      <th>window3</th>\n",
              "      <td>1.000000</td>\n",
              "      <td>0.968104</td>\n",
              "    </tr>\n",
              "    <tr>\n",
              "      <th>window1</th>\n",
              "      <td>0.968104</td>\n",
              "      <td>1.000000</td>\n",
              "    </tr>\n",
              "  </tbody>\n",
              "</table>\n",
              "</div>"
            ],
            "text/plain": [
              "          window3   window1\n",
              "window3  1.000000  0.968104\n",
              "window1  0.968104  1.000000"
            ]
          },
          "metadata": {
            "tags": []
          },
          "execution_count": 281
        }
      ]
    },
    {
      "cell_type": "code",
      "metadata": {
        "colab": {
          "base_uri": "https://localhost:8080/",
          "height": 284
        },
        "id": "-Am498nlST1e",
        "outputId": "0769b1ec-b3e6-4d9a-d9b5-410d0b5bdf58"
      },
      "source": [
        "#scatter plot of window size 1 with window size 10\n",
        "ppmilist10=convertPPMItoList(ppmi10)\n",
        "reps1, reps2=getCommonPairs(ppmilist10,ppmi1)\n",
        "plt.scatter([tup[2] for tup in reps1[:1000]],[tup[2] for tup in reps2[:1000]])"
      ],
      "execution_count": 238,
      "outputs": [
        {
          "output_type": "execute_result",
          "data": {
            "text/plain": [
              "<matplotlib.collections.PathCollection at 0x7f0229349d30>"
            ]
          },
          "metadata": {
            "tags": []
          },
          "execution_count": 238
        },
        {
          "output_type": "display_data",
          "data": {
            "image/png": "[encoded data removed]",
            "text/plain": [
              "<Figure size 432x288 with 1 Axes>"
            ]
          },
          "metadata": {
            "tags": [],
            "needs_background": "light"
          }
        }
      ]
    },
    {
      "cell_type": "code",
      "metadata": {
        "colab": {
          "base_uri": "https://localhost:8080/",
          "height": 111
        },
        "id": "dHjUNChlU7Pf",
        "outputId": "fa7d221c-46e4-4915-9671-732ca0112e59"
      },
      "source": [
        "scatterDF=pd.DataFrame()\n",
        "scatterDF['window10']=[tup[2] for tup in reps1]\n",
        "scatterDF['window1']=[tup[2] for tup in reps2]\n",
        "scatterDF.corr(method='spearman')"
      ],
      "execution_count": 239,
      "outputs": [
        {
          "output_type": "execute_result",
          "data": {
            "text/html": [
              "<div>\n",
              "<style scoped>\n",
              "    .dataframe tbody tr th:only-of-type {\n",
              "        vertical-align: middle;\n",
              "    }\n",
              "\n",
              "    .dataframe tbody tr th {\n",
              "        vertical-align: top;\n",
              "    }\n",
              "\n",
              "    .dataframe thead th {\n",
              "        text-align: right;\n",
              "    }\n",
              "</style>\n",
              "<table border=\"1\" class=\"dataframe\">\n",
              "  <thead>\n",
              "    <tr style=\"text-align: right;\">\n",
              "      <th></th>\n",
              "      <th>window10</th>\n",
              "      <th>window1</th>\n",
              "    </tr>\n",
              "  </thead>\n",
              "  <tbody>\n",
              "    <tr>\n",
              "      <th>window10</th>\n",
              "      <td>1.000000</td>\n",
              "      <td>0.921691</td>\n",
              "    </tr>\n",
              "    <tr>\n",
              "      <th>window1</th>\n",
              "      <td>0.921691</td>\n",
              "      <td>1.000000</td>\n",
              "    </tr>\n",
              "  </tbody>\n",
              "</table>\n",
              "</div>"
            ],
            "text/plain": [
              "          window10   window1\n",
              "window10  1.000000  0.921691\n",
              "window1   0.921691  1.000000"
            ]
          },
          "metadata": {
            "tags": []
          },
          "execution_count": 239
        }
      ]
    },
    {
      "cell_type": "code",
      "metadata": {
        "colab": {
          "base_uri": "https://localhost:8080/",
          "height": 282
        },
        "id": "akkFLINjSi47",
        "outputId": "0f3218d6-b422-436c-b931-76a51b5ca1e4"
      },
      "source": [
        "#scatter plot of window size 5 with window size 10\n",
        "ppmilist10=convertPPMItoList(ppmi10)\n",
        "reps1, reps2=getCommonPairs(ppmilist10,ppmi5)\n",
        "plt.scatter([tup[2] for tup in reps1[:1000]],[tup[2] for tup in reps2[:1000]])"
      ],
      "execution_count": 240,
      "outputs": [
        {
          "output_type": "execute_result",
          "data": {
            "text/plain": [
              "<matplotlib.collections.PathCollection at 0x7f0236830c50>"
            ]
          },
          "metadata": {
            "tags": []
          },
          "execution_count": 240
        },
        {
          "output_type": "display_data",
          "data": {
            "image/png": "[encoded data removed]",
            "text/plain": [
              "<Figure size 432x288 with 1 Axes>"
            ]
          },
          "metadata": {
            "tags": [],
            "needs_background": "light"
          }
        }
      ]
    },
    {
      "cell_type": "code",
      "metadata": {
        "colab": {
          "base_uri": "https://localhost:8080/",
          "height": 111
        },
        "id": "P4Z30RKPTQ-f",
        "outputId": "f351608b-1ecd-44fd-89f4-8325f2bf407c"
      },
      "source": [
        "scatterDF=pd.DataFrame()\n",
        "scatterDF['window10']=[tup[2] for tup in reps1]\n",
        "scatterDF['window5']=[tup[2] for tup in reps2]\n",
        "scatterDF.corr(method='spearman')"
      ],
      "execution_count": 241,
      "outputs": [
        {
          "output_type": "execute_result",
          "data": {
            "text/html": [
              "<div>\n",
              "<style scoped>\n",
              "    .dataframe tbody tr th:only-of-type {\n",
              "        vertical-align: middle;\n",
              "    }\n",
              "\n",
              "    .dataframe tbody tr th {\n",
              "        vertical-align: top;\n",
              "    }\n",
              "\n",
              "    .dataframe thead th {\n",
              "        text-align: right;\n",
              "    }\n",
              "</style>\n",
              "<table border=\"1\" class=\"dataframe\">\n",
              "  <thead>\n",
              "    <tr style=\"text-align: right;\">\n",
              "      <th></th>\n",
              "      <th>window10</th>\n",
              "      <th>window5</th>\n",
              "    </tr>\n",
              "  </thead>\n",
              "  <tbody>\n",
              "    <tr>\n",
              "      <th>window10</th>\n",
              "      <td>1.000000</td>\n",
              "      <td>0.975895</td>\n",
              "    </tr>\n",
              "    <tr>\n",
              "      <th>window5</th>\n",
              "      <td>0.975895</td>\n",
              "      <td>1.000000</td>\n",
              "    </tr>\n",
              "  </tbody>\n",
              "</table>\n",
              "</div>"
            ],
            "text/plain": [
              "          window10   window5\n",
              "window10  1.000000  0.975895\n",
              "window5   0.975895  1.000000"
            ]
          },
          "metadata": {
            "tags": []
          },
          "execution_count": 241
        }
      ]
    },
    {
      "cell_type": "markdown",
      "metadata": {
        "id": "B4jcWL8Wq2yW"
      },
      "source": [
        "Closer window sizes have higher correlation, which is expected as they have almost the same cooccurrence features. "
      ]
    },
    {
      "cell_type": "code",
      "metadata": {
        "id": "stap92-oAaNp"
      },
      "source": [
        "#function to get the common word pairs and the corresponding cosine similarity values of their ppmi values between 2 lists of similarity measures \n",
        "def getCommonCosPairs(list1, list2):\n",
        "  reps1=[]\n",
        "  reps2=[]\n",
        "  for tup in list1:\n",
        "    if tup[0] in list2.keys():\n",
        "      if tup[1] in list2[tup[0]].keys():\n",
        "        reps2.append((tup[0],tup[1],similarity(list2,tup[0],tup[1])))\n",
        "        reps1.append((tup[0],tup[1],tup[2]))\n",
        "  return reps1, reps2"
      ],
      "execution_count": 52,
      "outputs": []
    },
    {
      "cell_type": "code",
      "metadata": {
        "id": "bJ8YQWnD6exj"
      },
      "source": [
        "def dot(vecA,vecB):\n",
        "    the_sum=0\n",
        "    for (key,value) in vecA.items():\n",
        "        the_sum+=value*vecB.get(key,0)\n",
        "    return the_sum"
      ],
      "execution_count": 53,
      "outputs": []
    },
    {
      "cell_type": "code",
      "metadata": {
        "id": "Yf91MoZ_6EWO"
      },
      "source": [
        "def similarity(ppmi,word1,word2):\n",
        "        rep1=ppmi.get(word1,{})\n",
        "        rep2=ppmi.get(word2,{})\n",
        "        return dot(rep1,rep2)/math.sqrt(dot(rep1,rep1)*dot(rep2,rep2))"
      ],
      "execution_count": 54,
      "outputs": []
    },
    {
      "cell_type": "code",
      "metadata": {
        "colab": {
          "base_uri": "https://localhost:8080/",
          "height": 282
        },
        "id": "TAVPXFrc6Hnq",
        "outputId": "08400155-9e35-4d68-90fc-9677a542c795"
      },
      "source": [
        "#scatter plot of cosine similarity of ppmi of window size 1 with lin similarity measure\n",
        "reps1, reps2=getCommonCosPairs(linsimList,ppmi1)\n",
        "plt.scatter([tup[2] for tup in reps1[:1000]],[tup[2] for tup in reps2[:1000]])"
      ],
      "execution_count": 55,
      "outputs": [
        {
          "output_type": "execute_result",
          "data": {
            "text/plain": [
              "<matplotlib.collections.PathCollection at 0x7f2323907c88>"
            ]
          },
          "metadata": {
            "tags": []
          },
          "execution_count": 55
        },
        {
          "output_type": "display_data",
          "data": {
            "image/png": "[encoded data removed]",
            "text/plain": [
              "<Figure size 432x288 with 1 Axes>"
            ]
          },
          "metadata": {
            "tags": [],
            "needs_background": "light"
          }
        }
      ]
    },
    {
      "cell_type": "code",
      "metadata": {
        "colab": {
          "base_uri": "https://localhost:8080/",
          "height": 111
        },
        "id": "Zz4dZ_GjB4VS",
        "outputId": "20210f65-ffc9-45ed-905d-1f26b46c0688"
      },
      "source": [
        "scatterDF=pd.DataFrame()\n",
        "scatterDF['lin sim']=[tup[2] for tup in reps1]\n",
        "scatterDF['cosine similarity ppmi window 1']=[tup[2] for tup in reps2]\n",
        "scatterDF.corr(method='spearman')"
      ],
      "execution_count": 56,
      "outputs": [
        {
          "output_type": "execute_result",
          "data": {
            "text/html": [
              "<div>\n",
              "<style scoped>\n",
              "    .dataframe tbody tr th:only-of-type {\n",
              "        vertical-align: middle;\n",
              "    }\n",
              "\n",
              "    .dataframe tbody tr th {\n",
              "        vertical-align: top;\n",
              "    }\n",
              "\n",
              "    .dataframe thead th {\n",
              "        text-align: right;\n",
              "    }\n",
              "</style>\n",
              "<table border=\"1\" class=\"dataframe\">\n",
              "  <thead>\n",
              "    <tr style=\"text-align: right;\">\n",
              "      <th></th>\n",
              "      <th>lin sim</th>\n",
              "      <th>cosine similarity ppmi window 1</th>\n",
              "    </tr>\n",
              "  </thead>\n",
              "  <tbody>\n",
              "    <tr>\n",
              "      <th>lin sim</th>\n",
              "      <td>1.000000</td>\n",
              "      <td>0.024836</td>\n",
              "    </tr>\n",
              "    <tr>\n",
              "      <th>cosine similarity ppmi window 1</th>\n",
              "      <td>0.024836</td>\n",
              "      <td>1.000000</td>\n",
              "    </tr>\n",
              "  </tbody>\n",
              "</table>\n",
              "</div>"
            ],
            "text/plain": [
              "                                  lin sim  cosine similarity ppmi window 1\n",
              "lin sim                          1.000000                         0.024836\n",
              "cosine similarity ppmi window 1  0.024836                         1.000000"
            ]
          },
          "metadata": {
            "tags": []
          },
          "execution_count": 56
        }
      ]
    },
    {
      "cell_type": "code",
      "metadata": {
        "colab": {
          "base_uri": "https://localhost:8080/",
          "height": 282
        },
        "id": "brHAbF2fCboJ",
        "outputId": "5f254621-c8e9-486c-ce9c-8c3379c3dc55"
      },
      "source": [
        "#scatter plot of cosine similarity of ppmi of window size 5 with lin similarity measure\n",
        "ppmi5=convert_to_ppmi(sentences,5)\n",
        "reps1, reps2=getCommonCosPairs(linsimList,ppmi5)\n",
        "plt.scatter([tup[2] for tup in reps1[:1000]],[tup[2] for tup in reps2[:1000]])"
      ],
      "execution_count": 60,
      "outputs": [
        {
          "output_type": "execute_result",
          "data": {
            "text/plain": [
              "<matplotlib.collections.PathCollection at 0x7f2323e05940>"
            ]
          },
          "metadata": {
            "tags": []
          },
          "execution_count": 60
        },
        {
          "output_type": "display_data",
          "data": {
            "image/png": "[encoded data removed]",
            "text/plain": [
              "<Figure size 432x288 with 1 Axes>"
            ]
          },
          "metadata": {
            "tags": [],
            "needs_background": "light"
          }
        }
      ]
    },
    {
      "cell_type": "code",
      "metadata": {
        "colab": {
          "base_uri": "https://localhost:8080/",
          "height": 111
        },
        "id": "T-Mb-uaVCsKS",
        "outputId": "4c7049cc-4a40-46c0-f57e-56a04e9ec3dc"
      },
      "source": [
        "scatterDF=pd.DataFrame()\n",
        "scatterDF['lin sim']=[tup[2] for tup in reps1]\n",
        "scatterDF['cosine similarity ppmi window 5']=[tup[2] for tup in reps2]\n",
        "scatterDF.corr(method='spearman')"
      ],
      "execution_count": 61,
      "outputs": [
        {
          "output_type": "execute_result",
          "data": {
            "text/html": [
              "<div>\n",
              "<style scoped>\n",
              "    .dataframe tbody tr th:only-of-type {\n",
              "        vertical-align: middle;\n",
              "    }\n",
              "\n",
              "    .dataframe tbody tr th {\n",
              "        vertical-align: top;\n",
              "    }\n",
              "\n",
              "    .dataframe thead th {\n",
              "        text-align: right;\n",
              "    }\n",
              "</style>\n",
              "<table border=\"1\" class=\"dataframe\">\n",
              "  <thead>\n",
              "    <tr style=\"text-align: right;\">\n",
              "      <th></th>\n",
              "      <th>lin sim</th>\n",
              "      <th>cosine similarity ppmi window 5</th>\n",
              "    </tr>\n",
              "  </thead>\n",
              "  <tbody>\n",
              "    <tr>\n",
              "      <th>lin sim</th>\n",
              "      <td>1.00000</td>\n",
              "      <td>0.05208</td>\n",
              "    </tr>\n",
              "    <tr>\n",
              "      <th>cosine similarity ppmi window 5</th>\n",
              "      <td>0.05208</td>\n",
              "      <td>1.00000</td>\n",
              "    </tr>\n",
              "  </tbody>\n",
              "</table>\n",
              "</div>"
            ],
            "text/plain": [
              "                                 lin sim  cosine similarity ppmi window 5\n",
              "lin sim                          1.00000                          0.05208\n",
              "cosine similarity ppmi window 5  0.05208                          1.00000"
            ]
          },
          "metadata": {
            "tags": []
          },
          "execution_count": 61
        }
      ]
    },
    {
      "cell_type": "markdown",
      "metadata": {
        "id": "I1c6w_sLm43e"
      },
      "source": [
        "## Semantic vs Distributional similarities:\n",
        "Semantic similarity relies on some pre-existing knowledge resources (here wordnet thesaurii)\n",
        "\n",
        "However distributional similarity relies solely on the distributional properties of words from the given corpora. A big disadvantage of distributional methods is that they find word similarities that might only make sense in the context of the corpora.\n",
        "\n",
        "Combination of the 2 measures can lead to a very high performance."
      ]
    },
    {
      "cell_type": "code",
      "metadata": {
        "colab": {
          "base_uri": "https://localhost:8080/"
        },
        "id": "34rdlS_iPov6",
        "outputId": "d334fbf5-f546-48a1-8c9a-f331519a49b1"
      },
      "source": [
        "##This code will word count all of the markdown cells in the notebook saved at filepath\n",
        "##Running it before providing any answers shows that the questions have a word count of 388\n",
        "\n",
        "import io\n",
        "from nbformat import current\n",
        "\n",
        "filepath=\"/content/drive/My Drive/Colab Notebooks/ANLPassignment.ipynb\"\n",
        "question_count=754\n",
        "\n",
        "with io.open(filepath, 'r', encoding='utf-8') as f:\n",
        "    nb = current.read(f, 'json')\n",
        "\n",
        "word_count = 0\n",
        "for cell in nb.worksheets[0].cells:\n",
        "    if cell.cell_type == \"markdown\":\n",
        "        word_count += len(cell['source'].replace('#', '').lstrip().split(' '))\n",
        "print(\"Submission length is {}\".format(word_count-question_count))"
      ],
      "execution_count": 320,
      "outputs": [
        {
          "output_type": "stream",
          "text": [
            "Submission length is 1509\n"
          ],
          "name": "stdout"
        }
      ]
    },
    {
      "cell_type": "code",
      "metadata": {
        "id": "vdWwy0O4CmTn"
      },
      "source": [
        ""
      ],
      "execution_count": null,
      "outputs": []
    }
  ]
}